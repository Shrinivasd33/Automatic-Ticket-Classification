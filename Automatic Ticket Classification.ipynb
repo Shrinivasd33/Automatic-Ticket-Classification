{
 "cells": [
  {
   "cell_type": "markdown",
   "id": "67933c78",
   "metadata": {},
   "source": [
    "# C55 - NLP Case Study - Automatic Ticket Classification\n",
    "\n",
    "**Group Facilitator:**\n",
    "- **Name:** Mohammed AbuSaleha\n",
    "- **Email ID:** mabusaleha@yahoo.com\n",
    "- **Phone No:** 919880118997\n",
    "\n",
    "**Team Member Detail:**\n",
    "- **Name:** SHRINIVAS NANDKISHOR DHAMONE\n",
    "- **Email ID:** shrinivas.d33@gmail.com\n",
    "- **Phone no:** 919823352202\n"
   ]
  },
  {
   "cell_type": "markdown",
   "id": "8d4bcb0b",
   "metadata": {
    "id": "rhR-ZUkwJrFn",
    "papermill": {
     "duration": 0.065406,
     "end_time": "2022-01-13T18:29:03.579126",
     "exception": false,
     "start_time": "2022-01-13T18:29:03.513720",
     "status": "completed"
    },
    "tags": []
   },
   "source": [
    "## Problem Statement \n",
    "We need to build a model that is able to classify customer complaints based on the products/services. By doing so, we can segregate these tickets into their relevant categories and, therefore, help in the quick resolution of the issue.\n",
    "\n",
    "We will be doing topic modelling on the <b>.json</b> data provided by the company. Since this data is not labelled, we need to apply NMF to analyze patterns and classify tickets into the following five clusters based on their products/services:\n",
    "\n",
    "* Credit card / Prepaid card\n",
    "\n",
    "* Bank account services\n",
    "\n",
    "* Theft/Dispute reporting\n",
    "\n",
    "* Mortgages/loans\n",
    "\n",
    "* Others \n",
    "\n",
    "With the help of topic modelling, we will be able to map each ticket onto its respective department/category. We can then use this data to train any supervised model such as logistic regression, decision tree, or random forest. Using this trained model, we can classify any new customer complaint support ticket into its relevant department."
   ]
  },
  {
   "cell_type": "markdown",
   "id": "66d7631e",
   "metadata": {
    "id": "mcgXVNyaLUFS",
    "papermill": {
     "duration": 0.062806,
     "end_time": "2022-01-13T18:29:03.709815",
     "exception": false,
     "start_time": "2022-01-13T18:29:03.647009",
     "status": "completed"
    },
    "tags": []
   },
   "source": [
    "## Pipelines that needs to be performed:\n",
    "\n",
    "We shall perform the following eight major tasks to complete the assignment:\n",
    "\n",
    "1.  Data loading\n",
    "\n",
    "2. Text preprocessing\n",
    "\n",
    "3. Exploratory data analysis (EDA)\n",
    "\n",
    "4. Feature extraction\n",
    "\n",
    "5. Topic modelling \n",
    "\n",
    "6. Model building using supervised learning\n",
    "\n",
    "7. Model training and evaluation\n",
    "\n",
    "8. Model inference"
   ]
  },
  {
   "cell_type": "markdown",
   "id": "acd5f940",
   "metadata": {
    "id": "JuLFIymAL58u",
    "papermill": {
     "duration": 0.064979,
     "end_time": "2022-01-13T18:29:03.845665",
     "exception": false,
     "start_time": "2022-01-13T18:29:03.780686",
     "status": "completed"
    },
    "tags": []
   },
   "source": [
    "## Importing the necessary libraries"
   ]
  },
  {
   "cell_type": "code",
   "execution_count": 1,
   "id": "a0fa4d6d",
   "metadata": {
    "execution": {
     "iopub.execute_input": "2022-01-13T18:29:03.993388Z",
     "iopub.status.busy": "2022-01-13T18:29:03.992629Z",
     "iopub.status.idle": "2022-01-13T18:29:18.810179Z",
     "shell.execute_reply": "2022-01-13T18:29:18.810756Z",
     "shell.execute_reply.started": "2022-01-13T17:48:17.273698Z"
    },
    "id": "O-Q9pqrcJrFr",
    "papermill": {
     "duration": 14.899852,
     "end_time": "2022-01-13T18:29:18.811088",
     "exception": false,
     "start_time": "2022-01-13T18:29:03.911236",
     "status": "completed"
    },
    "tags": []
   },
   "outputs": [
    {
     "name": "stderr",
     "output_type": "stream",
     "text": [
      "[nltk_data] Downloading package stopwords to\n",
      "[nltk_data]     /Users/shrinivasd/nltk_data...\n",
      "[nltk_data]   Package stopwords is already up-to-date!\n",
      "[nltk_data] Downloading package punkt to\n",
      "[nltk_data]     /Users/shrinivasd/nltk_data...\n",
      "[nltk_data]   Package punkt is already up-to-date!\n",
      "[nltk_data] Downloading package averaged_perceptron_tagger to\n",
      "[nltk_data]     /Users/shrinivasd/nltk_data...\n",
      "[nltk_data]   Package averaged_perceptron_tagger is already up-to-\n",
      "[nltk_data]       date!\n",
      "[nltk_data] Downloading package wordnet to\n",
      "[nltk_data]     /Users/shrinivasd/nltk_data...\n",
      "[nltk_data]   Package wordnet is already up-to-date!\n"
     ]
    }
   ],
   "source": [
    "# Import necessary libraries\n",
    "import json  # For working with JSON data\n",
    "import numpy as np  # For numerical computations\n",
    "import pandas as pd  # For data manipulation and analysis\n",
    "import re  # For regular expressions\n",
    "import spacy  # For advanced natural language processing tasks\n",
    "import string  # For string operations\n",
    "\n",
    "# Download the English language model for spaCy\n",
    "import en_core_web_sm\n",
    "nlp = en_core_web_sm.load()\n",
    "\n",
    "# Data visualization libraries\n",
    "import seaborn as sns  # For statistical data visualization\n",
    "import matplotlib.pyplot as plt  # For creating plots and charts\n",
    "\n",
    "\n",
    "# Python library for working with human language data\n",
    "import nltk  # Import the Natural Language Toolkit library\n",
    "nltk.download('stopwords')  # Download the stopwords dataset from NLTK\n",
    "from nltk.stem import WordNetLemmatizer  # Import the WordNet Lemmatizer module for lemmatization\n",
    "from nltk.corpus import wordnet, stopwords  # Import WordNet and stopwords modules from NLTK\n",
    "nltk.download('punkt')\n",
    "nltk.download('averaged_perceptron_tagger')\n",
    "nltk.download('wordnet')\n",
    "\n",
    "\n",
    "# Plotly libraries for interactive visualizations\n",
    "from plotly.offline import plot\n",
    "import plotly.graph_objects as go\n",
    "import plotly.express as px\n",
    "\n",
    "# Feature extraction and transformation libraries\n",
    "from sklearn.feature_extraction.text import CountVectorizer, TfidfVectorizer, TfidfTransformer\n",
    "\n",
    "# Pretty print library\n",
    "from pprint import pprint\n",
    "\n",
    "# Command to display matplotlib plots inline in Jupyter Notebook\n",
    "%matplotlib inline\n",
    "\n",
    "# progress bar for loops and other iterable processes\n",
    "from tqdm import tqdm \n",
    "\n",
    "#Warning handlings\n",
    "import warnings as warnings  # Import the warnings module and alias it as \"warnings\"\n",
    "warnings.filterwarnings(\"ignore\")  # Filter out warnings to ignore them during runtime\n",
    "\n",
    "#Set max col width and display\n",
    "pd.set_option('display.max_colwidth', 350)\n",
    "pd.set_option('display.max_columns', None)\n"
   ]
  },
  {
   "cell_type": "markdown",
   "id": "814b8171",
   "metadata": {
    "id": "KtRLCsNVJrFt",
    "papermill": {
     "duration": 0.066181,
     "end_time": "2022-01-13T18:29:18.944832",
     "exception": false,
     "start_time": "2022-01-13T18:29:18.878651",
     "status": "completed"
    },
    "tags": []
   },
   "source": [
    "## Loading the data\n",
    "\n",
    "The data is in JSON format and we need to convert it to a dataframe."
   ]
  },
  {
   "cell_type": "code",
   "execution_count": 2,
   "id": "729ba0d9",
   "metadata": {
    "execution": {
     "iopub.execute_input": "2022-01-13T18:29:19.085088Z",
     "iopub.status.busy": "2022-01-13T18:29:19.084371Z",
     "iopub.status.idle": "2022-01-13T18:29:24.388760Z",
     "shell.execute_reply": "2022-01-13T18:29:24.388059Z",
     "shell.execute_reply.started": "2022-01-13T17:48:30.672810Z"
    },
    "id": "puVzIf_iJrFt",
    "papermill": {
     "duration": 5.375919,
     "end_time": "2022-01-13T18:29:24.388900",
     "exception": false,
     "start_time": "2022-01-13T18:29:19.012981",
     "status": "completed"
    },
    "tags": []
   },
   "outputs": [],
   "source": [
    "# Opening JSON file \n",
    "file_path = open('/Users/shrinivasd/#Upgrad/5_NLP/#CaseStudy/complaints-2021-05-14_08_16.json')  \n",
    "# Returns JSON object as a dictionary \n",
    "data = json.load(file_path)\n",
    "df = pd.json_normalize(data)"
   ]
  },
  {
   "cell_type": "markdown",
   "id": "ebd0a7fb",
   "metadata": {
    "id": "_xYpH-sAJrFu",
    "papermill": {
     "duration": 0.063474,
     "end_time": "2022-01-13T18:29:24.517979",
     "exception": false,
     "start_time": "2022-01-13T18:29:24.454505",
     "status": "completed"
    },
    "tags": []
   },
   "source": [
    "## Data preparation"
   ]
  },
  {
   "cell_type": "code",
   "execution_count": 3,
   "id": "9e469602",
   "metadata": {
    "execution": {
     "iopub.execute_input": "2022-01-13T18:29:24.656120Z",
     "iopub.status.busy": "2022-01-13T18:29:24.655148Z",
     "iopub.status.idle": "2022-01-13T18:29:24.683594Z",
     "shell.execute_reply": "2022-01-13T18:29:24.684104Z",
     "shell.execute_reply.started": "2022-01-13T17:48:35.275745Z"
    },
    "id": "Lf8ufHH5JrFu",
    "papermill": {
     "duration": 0.103121,
     "end_time": "2022-01-13T18:29:24.684277",
     "exception": false,
     "start_time": "2022-01-13T18:29:24.581156",
     "status": "completed"
    },
    "tags": []
   },
   "outputs": [
    {
     "data": {
      "text/html": [
       "<div>\n",
       "<style scoped>\n",
       "    .dataframe tbody tr th:only-of-type {\n",
       "        vertical-align: middle;\n",
       "    }\n",
       "\n",
       "    .dataframe tbody tr th {\n",
       "        vertical-align: top;\n",
       "    }\n",
       "\n",
       "    .dataframe thead th {\n",
       "        text-align: right;\n",
       "    }\n",
       "</style>\n",
       "<table border=\"1\" class=\"dataframe\">\n",
       "  <thead>\n",
       "    <tr style=\"text-align: right;\">\n",
       "      <th></th>\n",
       "      <th>_index</th>\n",
       "      <th>_type</th>\n",
       "      <th>_id</th>\n",
       "      <th>_score</th>\n",
       "      <th>_source.tags</th>\n",
       "      <th>_source.zip_code</th>\n",
       "      <th>_source.complaint_id</th>\n",
       "      <th>_source.issue</th>\n",
       "      <th>_source.date_received</th>\n",
       "      <th>_source.state</th>\n",
       "      <th>_source.consumer_disputed</th>\n",
       "      <th>_source.product</th>\n",
       "      <th>_source.company_response</th>\n",
       "      <th>_source.company</th>\n",
       "      <th>_source.submitted_via</th>\n",
       "      <th>_source.date_sent_to_company</th>\n",
       "      <th>_source.company_public_response</th>\n",
       "      <th>_source.sub_product</th>\n",
       "      <th>_source.timely</th>\n",
       "      <th>_source.complaint_what_happened</th>\n",
       "      <th>_source.sub_issue</th>\n",
       "      <th>_source.consumer_consent_provided</th>\n",
       "    </tr>\n",
       "  </thead>\n",
       "  <tbody>\n",
       "    <tr>\n",
       "      <th>0</th>\n",
       "      <td>complaint-public-v2</td>\n",
       "      <td>complaint</td>\n",
       "      <td>3211475</td>\n",
       "      <td>0.0</td>\n",
       "      <td>None</td>\n",
       "      <td>90301</td>\n",
       "      <td>3211475</td>\n",
       "      <td>Attempts to collect debt not owed</td>\n",
       "      <td>2019-04-13T12:00:00-05:00</td>\n",
       "      <td>CA</td>\n",
       "      <td>N/A</td>\n",
       "      <td>Debt collection</td>\n",
       "      <td>Closed with explanation</td>\n",
       "      <td>JPMORGAN CHASE &amp; CO.</td>\n",
       "      <td>Web</td>\n",
       "      <td>2019-04-13T12:00:00-05:00</td>\n",
       "      <td>None</td>\n",
       "      <td>Credit card debt</td>\n",
       "      <td>Yes</td>\n",
       "      <td></td>\n",
       "      <td>Debt is not yours</td>\n",
       "      <td>Consent not provided</td>\n",
       "    </tr>\n",
       "    <tr>\n",
       "      <th>1</th>\n",
       "      <td>complaint-public-v2</td>\n",
       "      <td>complaint</td>\n",
       "      <td>3229299</td>\n",
       "      <td>0.0</td>\n",
       "      <td>Servicemember</td>\n",
       "      <td>319XX</td>\n",
       "      <td>3229299</td>\n",
       "      <td>Written notification about debt</td>\n",
       "      <td>2019-05-01T12:00:00-05:00</td>\n",
       "      <td>GA</td>\n",
       "      <td>N/A</td>\n",
       "      <td>Debt collection</td>\n",
       "      <td>Closed with explanation</td>\n",
       "      <td>JPMORGAN CHASE &amp; CO.</td>\n",
       "      <td>Web</td>\n",
       "      <td>2019-05-01T12:00:00-05:00</td>\n",
       "      <td>None</td>\n",
       "      <td>Credit card debt</td>\n",
       "      <td>Yes</td>\n",
       "      <td>Good morning my name is XXXX XXXX and I appreciate it if you could help me put a stop to Chase Bank cardmember services. \\nIn 2018 I wrote to Chase asking for debt verification and what they sent me a statement which is not acceptable. I am asking the bank to validate the debt. Instead I been receiving mail every month from them attempting to c...</td>\n",
       "      <td>Didn't receive enough information to verify debt</td>\n",
       "      <td>Consent provided</td>\n",
       "    </tr>\n",
       "    <tr>\n",
       "      <th>2</th>\n",
       "      <td>complaint-public-v2</td>\n",
       "      <td>complaint</td>\n",
       "      <td>3199379</td>\n",
       "      <td>0.0</td>\n",
       "      <td>None</td>\n",
       "      <td>77069</td>\n",
       "      <td>3199379</td>\n",
       "      <td>Other features, terms, or problems</td>\n",
       "      <td>2019-04-02T12:00:00-05:00</td>\n",
       "      <td>TX</td>\n",
       "      <td>N/A</td>\n",
       "      <td>Credit card or prepaid card</td>\n",
       "      <td>Closed with explanation</td>\n",
       "      <td>JPMORGAN CHASE &amp; CO.</td>\n",
       "      <td>Web</td>\n",
       "      <td>2019-04-02T12:00:00-05:00</td>\n",
       "      <td>None</td>\n",
       "      <td>General-purpose credit card or charge card</td>\n",
       "      <td>Yes</td>\n",
       "      <td>I upgraded my XXXX XXXX card in XX/XX/2018 and was told by the agent who did the upgrade my anniversary date would not change. It turned the agent was giving me the wrong information in order to upgrade the account. XXXX   changed my anniversary date from XX/XX/XXXX to XX/XX/XXXX without my consent! XXXX has the recording of the agent who was m...</td>\n",
       "      <td>Problem with rewards from credit card</td>\n",
       "      <td>Consent provided</td>\n",
       "    </tr>\n",
       "    <tr>\n",
       "      <th>3</th>\n",
       "      <td>complaint-public-v2</td>\n",
       "      <td>complaint</td>\n",
       "      <td>2673060</td>\n",
       "      <td>0.0</td>\n",
       "      <td>None</td>\n",
       "      <td>48066</td>\n",
       "      <td>2673060</td>\n",
       "      <td>Trouble during payment process</td>\n",
       "      <td>2017-09-13T12:00:00-05:00</td>\n",
       "      <td>MI</td>\n",
       "      <td>N/A</td>\n",
       "      <td>Mortgage</td>\n",
       "      <td>Closed with explanation</td>\n",
       "      <td>JPMORGAN CHASE &amp; CO.</td>\n",
       "      <td>Web</td>\n",
       "      <td>2017-09-14T12:00:00-05:00</td>\n",
       "      <td>None</td>\n",
       "      <td>Conventional home mortgage</td>\n",
       "      <td>Yes</td>\n",
       "      <td></td>\n",
       "      <td>None</td>\n",
       "      <td>Consent not provided</td>\n",
       "    </tr>\n",
       "    <tr>\n",
       "      <th>4</th>\n",
       "      <td>complaint-public-v2</td>\n",
       "      <td>complaint</td>\n",
       "      <td>3203545</td>\n",
       "      <td>0.0</td>\n",
       "      <td>None</td>\n",
       "      <td>10473</td>\n",
       "      <td>3203545</td>\n",
       "      <td>Fees or interest</td>\n",
       "      <td>2019-04-05T12:00:00-05:00</td>\n",
       "      <td>NY</td>\n",
       "      <td>N/A</td>\n",
       "      <td>Credit card or prepaid card</td>\n",
       "      <td>Closed with explanation</td>\n",
       "      <td>JPMORGAN CHASE &amp; CO.</td>\n",
       "      <td>Referral</td>\n",
       "      <td>2019-04-05T12:00:00-05:00</td>\n",
       "      <td>None</td>\n",
       "      <td>General-purpose credit card or charge card</td>\n",
       "      <td>Yes</td>\n",
       "      <td></td>\n",
       "      <td>Charged too much interest</td>\n",
       "      <td>N/A</td>\n",
       "    </tr>\n",
       "  </tbody>\n",
       "</table>\n",
       "</div>"
      ],
      "text/plain": [
       "                _index      _type      _id  _score   _source.tags  \\\n",
       "0  complaint-public-v2  complaint  3211475     0.0           None   \n",
       "1  complaint-public-v2  complaint  3229299     0.0  Servicemember   \n",
       "2  complaint-public-v2  complaint  3199379     0.0           None   \n",
       "3  complaint-public-v2  complaint  2673060     0.0           None   \n",
       "4  complaint-public-v2  complaint  3203545     0.0           None   \n",
       "\n",
       "  _source.zip_code _source.complaint_id                       _source.issue  \\\n",
       "0            90301              3211475   Attempts to collect debt not owed   \n",
       "1            319XX              3229299     Written notification about debt   \n",
       "2            77069              3199379  Other features, terms, or problems   \n",
       "3            48066              2673060      Trouble during payment process   \n",
       "4            10473              3203545                    Fees or interest   \n",
       "\n",
       "       _source.date_received _source.state _source.consumer_disputed  \\\n",
       "0  2019-04-13T12:00:00-05:00            CA                       N/A   \n",
       "1  2019-05-01T12:00:00-05:00            GA                       N/A   \n",
       "2  2019-04-02T12:00:00-05:00            TX                       N/A   \n",
       "3  2017-09-13T12:00:00-05:00            MI                       N/A   \n",
       "4  2019-04-05T12:00:00-05:00            NY                       N/A   \n",
       "\n",
       "               _source.product _source.company_response       _source.company  \\\n",
       "0              Debt collection  Closed with explanation  JPMORGAN CHASE & CO.   \n",
       "1              Debt collection  Closed with explanation  JPMORGAN CHASE & CO.   \n",
       "2  Credit card or prepaid card  Closed with explanation  JPMORGAN CHASE & CO.   \n",
       "3                     Mortgage  Closed with explanation  JPMORGAN CHASE & CO.   \n",
       "4  Credit card or prepaid card  Closed with explanation  JPMORGAN CHASE & CO.   \n",
       "\n",
       "  _source.submitted_via _source.date_sent_to_company  \\\n",
       "0                   Web    2019-04-13T12:00:00-05:00   \n",
       "1                   Web    2019-05-01T12:00:00-05:00   \n",
       "2                   Web    2019-04-02T12:00:00-05:00   \n",
       "3                   Web    2017-09-14T12:00:00-05:00   \n",
       "4              Referral    2019-04-05T12:00:00-05:00   \n",
       "\n",
       "  _source.company_public_response                         _source.sub_product  \\\n",
       "0                            None                            Credit card debt   \n",
       "1                            None                            Credit card debt   \n",
       "2                            None  General-purpose credit card or charge card   \n",
       "3                            None                  Conventional home mortgage   \n",
       "4                            None  General-purpose credit card or charge card   \n",
       "\n",
       "  _source.timely  \\\n",
       "0            Yes   \n",
       "1            Yes   \n",
       "2            Yes   \n",
       "3            Yes   \n",
       "4            Yes   \n",
       "\n",
       "                                                                                                                                                                                                                                                                                                                                 _source.complaint_what_happened  \\\n",
       "0                                                                                                                                                                                                                                                                                                                                                                  \n",
       "1  Good morning my name is XXXX XXXX and I appreciate it if you could help me put a stop to Chase Bank cardmember services. \\nIn 2018 I wrote to Chase asking for debt verification and what they sent me a statement which is not acceptable. I am asking the bank to validate the debt. Instead I been receiving mail every month from them attempting to c...   \n",
       "2  I upgraded my XXXX XXXX card in XX/XX/2018 and was told by the agent who did the upgrade my anniversary date would not change. It turned the agent was giving me the wrong information in order to upgrade the account. XXXX   changed my anniversary date from XX/XX/XXXX to XX/XX/XXXX without my consent! XXXX has the recording of the agent who was m...   \n",
       "3                                                                                                                                                                                                                                                                                                                                                                  \n",
       "4                                                                                                                                                                                                                                                                                                                                                                  \n",
       "\n",
       "                                  _source.sub_issue  \\\n",
       "0                                 Debt is not yours   \n",
       "1  Didn't receive enough information to verify debt   \n",
       "2             Problem with rewards from credit card   \n",
       "3                                              None   \n",
       "4                         Charged too much interest   \n",
       "\n",
       "  _source.consumer_consent_provided  \n",
       "0              Consent not provided  \n",
       "1                  Consent provided  \n",
       "2                  Consent provided  \n",
       "3              Consent not provided  \n",
       "4                               N/A  "
      ]
     },
     "execution_count": 3,
     "metadata": {},
     "output_type": "execute_result"
    }
   ],
   "source": [
    "# Inspect the dataframe to understand the given data.\n",
    "# Set pandas option to display all columns without truncation\n",
    "df.head()"
   ]
  },
  {
   "cell_type": "markdown",
   "id": "12b9be2b",
   "metadata": {},
   "source": [
    "### <span style=\"color:navy\">Observation:</span>\n",
    "\n",
    "- JSON file converted into DataFrame and read successfully. \n",
    "- Had a glance at the data.\n"
   ]
  },
  {
   "cell_type": "code",
   "execution_count": 4,
   "id": "2ac21768",
   "metadata": {
    "execution": {
     "iopub.execute_input": "2022-01-13T18:29:25.044947Z",
     "iopub.status.busy": "2022-01-13T18:29:25.044290Z",
     "iopub.status.idle": "2022-01-13T18:29:25.069323Z",
     "shell.execute_reply": "2022-01-13T18:29:25.069847Z",
     "shell.execute_reply.started": "2022-01-13T17:48:35.314029Z"
    },
    "papermill": {
     "duration": 0.31976,
     "end_time": "2022-01-13T18:29:25.070024",
     "exception": false,
     "start_time": "2022-01-13T18:29:24.750264",
     "status": "completed"
    },
    "tags": []
   },
   "outputs": [
    {
     "name": "stdout",
     "output_type": "stream",
     "text": [
      "<class 'pandas.core.frame.DataFrame'>\n",
      "RangeIndex: 78313 entries, 0 to 78312\n",
      "Data columns (total 22 columns):\n",
      " #   Column                             Non-Null Count  Dtype  \n",
      "---  ------                             --------------  -----  \n",
      " 0   _index                             78313 non-null  object \n",
      " 1   _type                              78313 non-null  object \n",
      " 2   _id                                78313 non-null  object \n",
      " 3   _score                             78313 non-null  float64\n",
      " 4   _source.tags                       10900 non-null  object \n",
      " 5   _source.zip_code                   71556 non-null  object \n",
      " 6   _source.complaint_id               78313 non-null  object \n",
      " 7   _source.issue                      78313 non-null  object \n",
      " 8   _source.date_received              78313 non-null  object \n",
      " 9   _source.state                      76322 non-null  object \n",
      " 10  _source.consumer_disputed          78313 non-null  object \n",
      " 11  _source.product                    78313 non-null  object \n",
      " 12  _source.company_response           78313 non-null  object \n",
      " 13  _source.company                    78313 non-null  object \n",
      " 14  _source.submitted_via              78313 non-null  object \n",
      " 15  _source.date_sent_to_company       78313 non-null  object \n",
      " 16  _source.company_public_response    4 non-null      object \n",
      " 17  _source.sub_product                67742 non-null  object \n",
      " 18  _source.timely                     78313 non-null  object \n",
      " 19  _source.complaint_what_happened    78313 non-null  object \n",
      " 20  _source.sub_issue                  32016 non-null  object \n",
      " 21  _source.consumer_consent_provided  77305 non-null  object \n",
      "dtypes: float64(1), object(21)\n",
      "memory usage: 13.1+ MB\n"
     ]
    }
   ],
   "source": [
    "df.info()"
   ]
  },
  {
   "cell_type": "code",
   "execution_count": 5,
   "id": "788d506b",
   "metadata": {
    "execution": {
     "iopub.execute_input": "2022-01-13T18:29:25.204545Z",
     "iopub.status.busy": "2022-01-13T18:29:25.203512Z",
     "iopub.status.idle": "2022-01-13T18:29:25.218617Z",
     "shell.execute_reply": "2022-01-13T18:29:25.218016Z",
     "shell.execute_reply.started": "2022-01-13T17:48:35.557904Z"
    },
    "id": "Dwcty-wmJrFw",
    "papermill": {
     "duration": 0.083485,
     "end_time": "2022-01-13T18:29:25.218765",
     "exception": false,
     "start_time": "2022-01-13T18:29:25.135280",
     "status": "completed"
    },
    "tags": []
   },
   "outputs": [
    {
     "name": "stdout",
     "output_type": "stream",
     "text": [
      "01 Col:\u001b[1m _index \u001b[0m\n",
      "02 Col:\u001b[1m _type \u001b[0m\n",
      "03 Col:\u001b[1m _id \u001b[0m\n",
      "04 Col:\u001b[1m _score \u001b[0m\n",
      "05 Col:\u001b[1m _source.tags \u001b[0m\n",
      "06 Col:\u001b[1m _source.zip_code \u001b[0m\n",
      "07 Col:\u001b[1m _source.complaint_id \u001b[0m\n",
      "08 Col:\u001b[1m _source.issue \u001b[0m\n",
      "09 Col:\u001b[1m _source.date_received \u001b[0m\n",
      "10 Col:\u001b[1m _source.state \u001b[0m\n",
      "11 Col:\u001b[1m _source.consumer_disputed \u001b[0m\n",
      "12 Col:\u001b[1m _source.product \u001b[0m\n",
      "13 Col:\u001b[1m _source.company_response \u001b[0m\n",
      "14 Col:\u001b[1m _source.company \u001b[0m\n",
      "15 Col:\u001b[1m _source.submitted_via \u001b[0m\n",
      "16 Col:\u001b[1m _source.date_sent_to_company \u001b[0m\n",
      "17 Col:\u001b[1m _source.company_public_response \u001b[0m\n",
      "18 Col:\u001b[1m _source.sub_product \u001b[0m\n",
      "19 Col:\u001b[1m _source.timely \u001b[0m\n",
      "20 Col:\u001b[1m _source.complaint_what_happened \u001b[0m\n",
      "21 Col:\u001b[1m _source.sub_issue \u001b[0m\n",
      "22 Col:\u001b[1m _source.consumer_consent_provided \u001b[0m\n"
     ]
    }
   ],
   "source": [
    "# Print the column names\n",
    "def print_column_names():\n",
    "    i = 1\n",
    "    for col in df.columns:\n",
    "        print(str(\"{:02d}\".format(i)) +\" Col:\\033[1m\", col, '\\033[0m')\n",
    "        i += 1\n",
    "        \n",
    "print_column_names()"
   ]
  },
  {
   "cell_type": "markdown",
   "id": "9869315a",
   "metadata": {},
   "source": [
    "### <span style=\"color:navy\">Observation:</span>\n",
    "\n",
    "- Total rows: 78313\n",
    "- Total columns: 22\n",
    "- Null values: Few of the columns contain null values\n",
    "- Column names: Most of the column names start with '_', which we will rename to improve readability and usability.\n"
   ]
  },
  {
   "cell_type": "code",
   "execution_count": 6,
   "id": "24dfc6d3",
   "metadata": {
    "execution": {
     "iopub.execute_input": "2022-01-13T18:29:25.355599Z",
     "iopub.status.busy": "2022-01-13T18:29:25.354594Z",
     "iopub.status.idle": "2022-01-13T18:29:25.366898Z",
     "shell.execute_reply": "2022-01-13T18:29:25.366316Z",
     "shell.execute_reply.started": "2022-01-13T17:48:35.576472Z"
    },
    "id": "FYCtKXD1JrFw",
    "papermill": {
     "duration": 0.083246,
     "end_time": "2022-01-13T18:29:25.367076",
     "exception": false,
     "start_time": "2022-01-13T18:29:25.283830",
     "status": "completed"
    },
    "tags": []
   },
   "outputs": [
    {
     "name": "stdout",
     "output_type": "stream",
     "text": [
      "01 Col:\u001b[1m index \u001b[0m\n",
      "02 Col:\u001b[1m type \u001b[0m\n",
      "03 Col:\u001b[1m id \u001b[0m\n",
      "04 Col:\u001b[1m score \u001b[0m\n",
      "05 Col:\u001b[1m tags \u001b[0m\n",
      "06 Col:\u001b[1m zip_code \u001b[0m\n",
      "07 Col:\u001b[1m complaint_id \u001b[0m\n",
      "08 Col:\u001b[1m issue \u001b[0m\n",
      "09 Col:\u001b[1m date_received \u001b[0m\n",
      "10 Col:\u001b[1m state \u001b[0m\n",
      "11 Col:\u001b[1m consumer_disputed \u001b[0m\n",
      "12 Col:\u001b[1m product \u001b[0m\n",
      "13 Col:\u001b[1m company_response \u001b[0m\n",
      "14 Col:\u001b[1m company \u001b[0m\n",
      "15 Col:\u001b[1m submitted_via \u001b[0m\n",
      "16 Col:\u001b[1m date_sent_to_company \u001b[0m\n",
      "17 Col:\u001b[1m company_public_response \u001b[0m\n",
      "18 Col:\u001b[1m sub_product \u001b[0m\n",
      "19 Col:\u001b[1m timely \u001b[0m\n",
      "20 Col:\u001b[1m complaint_what_happened \u001b[0m\n",
      "21 Col:\u001b[1m sub_issue \u001b[0m\n",
      "22 Col:\u001b[1m consumer_consent_provided \u001b[0m\n"
     ]
    }
   ],
   "source": [
    "# Assign new column names\n",
    "new_columns = {}\n",
    "for col in df.columns:\n",
    "    new_columns[col] = re.sub(\"^_\", \"\", col).replace(\"source.\", \"\")\n",
    "\n",
    "df.rename(columns = new_columns, inplace = True)\n",
    "\n",
    "print_column_names()"
   ]
  },
  {
   "cell_type": "code",
   "execution_count": 7,
   "id": "b91d6d17",
   "metadata": {
    "execution": {
     "iopub.execute_input": "2022-01-13T18:29:25.507067Z",
     "iopub.status.busy": "2022-01-13T18:29:25.506355Z",
     "iopub.status.idle": "2022-01-13T18:29:25.510279Z",
     "shell.execute_reply": "2022-01-13T18:29:25.509517Z",
     "shell.execute_reply.started": "2022-01-13T17:48:35.591513Z"
    },
    "papermill": {
     "duration": 0.077118,
     "end_time": "2022-01-13T18:29:25.510496",
     "exception": false,
     "start_time": "2022-01-13T18:29:25.433378",
     "status": "completed"
    },
    "tags": []
   },
   "outputs": [
    {
     "name": "stdout",
     "output_type": "stream",
     "text": [
      "#rows:\u001b[1m 78313 \u001b[0m\n",
      "#cols:\u001b[1m 22 \u001b[0m\n"
     ]
    }
   ],
   "source": [
    "# Get the shape and size of the dataset\n",
    "print('#rows:\\033[1m', df.shape[0], '\\033[0m')\n",
    "print('#cols:\\033[1m', df.shape[1], '\\033[0m')"
   ]
  },
  {
   "cell_type": "code",
   "execution_count": 8,
   "id": "c807d11c",
   "metadata": {
    "execution": {
     "iopub.execute_input": "2022-01-13T18:29:25.659516Z",
     "iopub.status.busy": "2022-01-13T18:29:25.658228Z",
     "iopub.status.idle": "2022-01-13T18:29:25.661094Z",
     "shell.execute_reply": "2022-01-13T18:29:25.660432Z",
     "shell.execute_reply.started": "2022-01-13T17:48:35.598869Z"
    },
    "id": "grQUPFL5JrFx",
    "papermill": {
     "duration": 0.080932,
     "end_time": "2022-01-13T18:29:25.661248",
     "exception": false,
     "start_time": "2022-01-13T18:29:25.580316",
     "status": "completed"
    },
    "tags": []
   },
   "outputs": [],
   "source": [
    "# Assign nan in place of blanks in the complaints column\n",
    "df.complaint_what_happened.replace(r'', np.nan, regex=True, inplace=True)"
   ]
  },
  {
   "cell_type": "code",
   "execution_count": 9,
   "id": "ea9bf9c7",
   "metadata": {
    "execution": {
     "iopub.execute_input": "2022-01-13T18:29:25.808771Z",
     "iopub.status.busy": "2022-01-13T18:29:25.808024Z",
     "iopub.status.idle": "2022-01-13T18:29:25.829000Z",
     "shell.execute_reply": "2022-01-13T18:29:25.828376Z",
     "shell.execute_reply.started": "2022-01-13T17:48:35.620258Z"
    },
    "id": "Jfxd8VSmJrFy",
    "papermill": {
     "duration": 0.099735,
     "end_time": "2022-01-13T18:29:25.829156",
     "exception": false,
     "start_time": "2022-01-13T18:29:25.729421",
     "status": "completed"
    },
    "tags": []
   },
   "outputs": [
    {
     "name": "stdout",
     "output_type": "stream",
     "text": [
      "#Remaining Rows:\u001b[1m 21072 \u001b[0m\n"
     ]
    }
   ],
   "source": [
    "# Remove all rows where complaints column is nan\n",
    "df = df[df.complaint_what_happened.notna()]\n",
    "print('#Remaining Rows:\\033[1m', len(df), '\\033[0m')"
   ]
  },
  {
   "cell_type": "code",
   "execution_count": 10,
   "id": "8eed6e53",
   "metadata": {},
   "outputs": [
    {
     "name": "stdout",
     "output_type": "stream",
     "text": [
      "<class 'pandas.core.frame.DataFrame'>\n",
      "Index: 21072 entries, 1 to 78312\n",
      "Data columns (total 22 columns):\n",
      " #   Column                     Non-Null Count  Dtype  \n",
      "---  ------                     --------------  -----  \n",
      " 0   index                      21072 non-null  object \n",
      " 1   type                       21072 non-null  object \n",
      " 2   id                         21072 non-null  object \n",
      " 3   score                      21072 non-null  float64\n",
      " 4   tags                       3816 non-null   object \n",
      " 5   zip_code                   16427 non-null  object \n",
      " 6   complaint_id               21072 non-null  object \n",
      " 7   issue                      21072 non-null  object \n",
      " 8   date_received              21072 non-null  object \n",
      " 9   state                      20929 non-null  object \n",
      " 10  consumer_disputed          21072 non-null  object \n",
      " 11  product                    21072 non-null  object \n",
      " 12  company_response           21072 non-null  object \n",
      " 13  company                    21072 non-null  object \n",
      " 14  submitted_via              21072 non-null  object \n",
      " 15  date_sent_to_company       21072 non-null  object \n",
      " 16  company_public_response    2 non-null      object \n",
      " 17  sub_product                18963 non-null  object \n",
      " 18  timely                     21072 non-null  object \n",
      " 19  complaint_what_happened    21072 non-null  object \n",
      " 20  sub_issue                  12896 non-null  object \n",
      " 21  consumer_consent_provided  21072 non-null  object \n",
      "dtypes: float64(1), object(21)\n",
      "memory usage: 3.7+ MB\n"
     ]
    }
   ],
   "source": [
    "df.info()"
   ]
  },
  {
   "cell_type": "markdown",
   "id": "7c80a043",
   "metadata": {},
   "source": [
    "### <span style=\"color:navy\">Observation:</span>\n",
    "\n",
    "- The shape and size of the dataset\n",
    "    - No of rows initially: **78313**\n",
    "    - No of cols: **22**\n",
    "- Rows after complaint_what_happened nan removed\n",
    "    - Remaining Rows: **21072**\n"
   ]
  },
  {
   "cell_type": "markdown",
   "id": "f85edc83",
   "metadata": {
    "id": "L944HZpsJrFy",
    "papermill": {
     "duration": 0.066562,
     "end_time": "2022-01-13T18:29:25.963355",
     "exception": false,
     "start_time": "2022-01-13T18:29:25.896793",
     "status": "completed"
    },
    "tags": []
   },
   "source": [
    "## Prepare the text for topic modeling\n",
    "\n",
    "We have removed all the blank complaints, we need to:\n",
    "\n",
    "* Make the text lowercase\n",
    "* Remove text in square brackets\n",
    "* Remove punctuation\n",
    "* Remove words containing numbers\n",
    "\n",
    "\n",
    "Once we have done these cleaning operations we shall perform the following:\n",
    "* Lemmatize the texts\n",
    "* Use POS tags to get relevant words from the texts.\n"
   ]
  },
  {
   "cell_type": "code",
   "execution_count": 11,
   "id": "2f6507d8",
   "metadata": {
    "execution": {
     "iopub.execute_input": "2022-01-13T18:29:26.105893Z",
     "iopub.status.busy": "2022-01-13T18:29:26.104977Z",
     "iopub.status.idle": "2022-01-13T18:29:26.108134Z",
     "shell.execute_reply": "2022-01-13T18:29:26.107542Z",
     "shell.execute_reply.started": "2022-01-13T17:48:35.661726Z"
    },
    "id": "qm7SjjSkJrFz",
    "papermill": {
     "duration": 0.07635,
     "end_time": "2022-01-13T18:29:26.108284",
     "exception": false,
     "start_time": "2022-01-13T18:29:26.031934",
     "status": "completed"
    },
    "tags": []
   },
   "outputs": [],
   "source": [
    "# Function to clean the text and remove all the unnecessary elements.\n",
    "def cleaned_text(sentence):\n",
    "    # Convert the text to lowercase\n",
    "    sentence = sentence.lower()\n",
    "\n",
    "    # Remove text in square brackets\n",
    "    sentence = re.sub(\"[\\[].*?[\\]]\", \"\", sentence)\n",
    "    \n",
    "    # Remove punctuation\n",
    "    sentence = re.sub(r'[^\\w\\s]','', sentence)\n",
    "    \n",
    "    # Remove digits\n",
    "    sentence = re.sub(r'[0-9]', '', sentence, re.I|re.A)\n",
    "    \n",
    "    # Return the cleaned sentence\n",
    "    return sentence\n"
   ]
  },
  {
   "cell_type": "code",
   "execution_count": 12,
   "id": "b411fe29",
   "metadata": {
    "execution": {
     "iopub.execute_input": "2022-01-13T18:29:26.250240Z",
     "iopub.status.busy": "2022-01-13T18:29:26.249443Z",
     "iopub.status.idle": "2022-01-13T18:29:26.264423Z",
     "shell.execute_reply": "2022-01-13T18:29:26.263775Z",
     "shell.execute_reply.started": "2022-01-13T17:48:35.670321Z"
    },
    "id": "zgOu8t8HJrFz",
    "papermill": {
     "duration": 0.089267,
     "end_time": "2022-01-13T18:29:26.264596",
     "exception": false,
     "start_time": "2022-01-13T18:29:26.175329",
     "status": "completed"
    },
    "tags": []
   },
   "outputs": [],
   "source": [
    "# Function to Lemmatize the texts\n",
    "\n",
    "# Create a set of English stopwords\n",
    "stop = set(stopwords.words('english'))\n",
    "\n",
    "\n",
    "# Initialize the WordNet Lemmatizer\n",
    "lemmatizer = WordNetLemmatizer()  \n",
    "\n",
    "\n",
    "# function to convert nltk tag to wordnet tag\n",
    "def nltk_tag_to_wordnet_tag(nltk_tag):\n",
    "    if nltk_tag.startswith('J'):    #indicates that the word is an adjective.\n",
    "        return wordnet.ADJ\n",
    "    elif nltk_tag.startswith('V'):  #indicates that the word is a verb\n",
    "        return wordnet.VERB\n",
    "    elif nltk_tag.startswith('N'):  #indicates that the word is a noun\n",
    "        return wordnet.NOUN\n",
    "    elif nltk_tag.startswith('R'):  #indicates that the word is an adverb\n",
    "        return wordnet.ADV\n",
    "    else:          \n",
    "        return None\n",
    "\n",
    "def lemmatized_text(sentence):\n",
    "    # tokenize into words\n",
    "    words = nltk.word_tokenize(sentence)\n",
    "    \n",
    "    # remove stop words (this is optional but generally done)\n",
    "    words = [word for word in words if word not in stopwords.words(\"english\")]\n",
    "    \n",
    "    # tokenize the sentence and find the POS tag for each token\n",
    "    nltk_tagged = nltk.pos_tag(words)\n",
    "    \n",
    "    # tuple of (token, wordnet_tag)\n",
    "    wordnet_tagged = map(lambda x: (x[0], nltk_tag_to_wordnet_tag(x[1])), nltk_tagged)\n",
    "    lemmatized_sentence = []\n",
    "    for word, tag in wordnet_tagged:\n",
    "        if tag is None:\n",
    "            # if there is no available tag, append the token as is\n",
    "            lemmatized_sentence.append(word)\n",
    "        else:        \n",
    "            # else use the tag to lemmatize the token\n",
    "            lemmatized_sentence.append(lemmatizer.lemmatize(word, tag))\n",
    "    return \" \".join(lemmatized_sentence)"
   ]
  },
  {
   "cell_type": "code",
   "execution_count": 13,
   "id": "463e7880",
   "metadata": {
    "execution": {
     "iopub.execute_input": "2022-01-13T18:29:26.406456Z",
     "iopub.status.busy": "2022-01-13T18:29:26.405765Z",
     "iopub.status.idle": "2022-01-13T18:47:01.985022Z",
     "shell.execute_reply": "2022-01-13T18:47:01.985726Z",
     "shell.execute_reply.started": "2022-01-13T17:48:35.689328Z"
    },
    "id": "uXnN7aa_JrF0",
    "papermill": {
     "duration": 1055.654582,
     "end_time": "2022-01-13T18:47:01.985999",
     "exception": false,
     "start_time": "2022-01-13T18:29:26.331417",
     "status": "completed"
    },
    "tags": []
   },
   "outputs": [
    {
     "name": "stderr",
     "output_type": "stream",
     "text": [
      "100%|█████████████████████████████████████| 21072/21072 [50:24<00:00,  6.97it/s]\n"
     ]
    }
   ],
   "source": [
    "# Dataframe('df_clean') will have only the complaints and the lemmatized complaints \n",
    "df_clean = pd.DataFrame()\n",
    "\n",
    "for x in tqdm(df.complaint_what_happened):\n",
    "    df_clean = df_clean._append({'complaint_what_happened':x, 'lemmatized_complaints':lemmatized_text(cleaned_text(x))}, ignore_index=True)"
   ]
  },
  {
   "cell_type": "code",
   "execution_count": 14,
   "id": "9dc2974a",
   "metadata": {
    "execution": {
     "iopub.execute_input": "2022-01-13T18:47:06.068842Z",
     "iopub.status.busy": "2022-01-13T18:47:06.058924Z",
     "iopub.status.idle": "2022-01-13T18:47:06.073321Z",
     "shell.execute_reply": "2022-01-13T18:47:06.072505Z",
     "shell.execute_reply.started": "2022-01-13T18:05:34.531910Z"
    },
    "id": "nOiDVvEIJrF0",
    "papermill": {
     "duration": 2.085412,
     "end_time": "2022-01-13T18:47:06.073472",
     "exception": false,
     "start_time": "2022-01-13T18:47:03.988060",
     "status": "completed"
    },
    "tags": []
   },
   "outputs": [
    {
     "data": {
      "text/html": [
       "<div>\n",
       "<style scoped>\n",
       "    .dataframe tbody tr th:only-of-type {\n",
       "        vertical-align: middle;\n",
       "    }\n",
       "\n",
       "    .dataframe tbody tr th {\n",
       "        vertical-align: top;\n",
       "    }\n",
       "\n",
       "    .dataframe thead th {\n",
       "        text-align: right;\n",
       "    }\n",
       "</style>\n",
       "<table border=\"1\" class=\"dataframe\">\n",
       "  <thead>\n",
       "    <tr style=\"text-align: right;\">\n",
       "      <th></th>\n",
       "      <th>complaint_what_happened</th>\n",
       "      <th>lemmatized_complaints</th>\n",
       "    </tr>\n",
       "  </thead>\n",
       "  <tbody>\n",
       "    <tr>\n",
       "      <th>0</th>\n",
       "      <td>Good morning my name is XXXX XXXX and I appreciate it if you could help me put a stop to Chase Bank cardmember services. \\nIn 2018 I wrote to Chase asking for debt verification and what they sent me a statement which is not acceptable. I am asking the bank to validate the debt. Instead I been receiving mail every month from them attempting to c...</td>\n",
       "      <td>good morning name xxxx xxxx appreciate could help put stop chase bank cardmember service write chase ask debt verification send statement acceptable ask bank validate debt instead receive mail every month attempt collect debt right know information consumer chase account xxxx xxxx xxxx xxxx thanks advance help</td>\n",
       "    </tr>\n",
       "    <tr>\n",
       "      <th>1</th>\n",
       "      <td>I upgraded my XXXX XXXX card in XX/XX/2018 and was told by the agent who did the upgrade my anniversary date would not change. It turned the agent was giving me the wrong information in order to upgrade the account. XXXX   changed my anniversary date from XX/XX/XXXX to XX/XX/XXXX without my consent! XXXX has the recording of the agent who was m...</td>\n",
       "      <td>upgraded xxxx xxxx card xxxx tell agent upgrade anniversary date would change turned agent give wrong information order upgrade account xxxx change anniversary date xxxxxxxx xxxxxxxx without consent xxxx record agent mislead</td>\n",
       "    </tr>\n",
       "    <tr>\n",
       "      <th>2</th>\n",
       "      <td>Chase Card was reported on XX/XX/2019. However, fraudulent application have been submitted my identity without my consent to fraudulently obtain services. Do not extend credit without verifying the identity of the applicant.</td>\n",
       "      <td>chase card report xxxx however fraudulent application submit identity without consent fraudulently obtain service extend credit without verify identity applicant</td>\n",
       "    </tr>\n",
       "    <tr>\n",
       "      <th>3</th>\n",
       "      <td>On XX/XX/2018, while trying to book a XXXX  XXXX  ticket, I came across an offer for {$300.00} to be applied towards the ticket if I applied for a rewards card. I put in my information for the offer and within less than a minute, was notified via the screen that a decision could not be made. I immediately contacted XXXX and was referred to Chas...</td>\n",
       "      <td>xxxx try book xxxx xxxx ticket come across offer apply towards ticket apply reward card put information offer within less minute notified via screen decision could make immediately contacted xxxx refer chase bank immediately contact chase bank within minute get notification screen tell chase representative spoke application deny could state ask...</td>\n",
       "    </tr>\n",
       "    <tr>\n",
       "      <th>4</th>\n",
       "      <td>my grand son give me check for {$1600.00} i deposit it into my chase account after fund clear my chase bank closed my account never paid me my money they said they need to speek with my grand son check was clear money was taking by my chase bank refuse to pay me my money my grand son called chase 2 times they told him i should call not him to v...</td>\n",
       "      <td>grand son give check deposit chase account fund clear chase bank close account never pay money say need speek grand son check clear money take chase bank refuse pay money grand son call chase time tell call verify check owner country time date happen xxxx check number xxxx claim number xxxx chase</td>\n",
       "    </tr>\n",
       "    <tr>\n",
       "      <th>5</th>\n",
       "      <td>Can you please remove inquiry</td>\n",
       "      <td>please remove inquiry</td>\n",
       "    </tr>\n",
       "    <tr>\n",
       "      <th>6</th>\n",
       "      <td>With out notice J.P. Morgan Chase restricted my account by my debit card Tuesday XX/XX/2019. On Thursday XX/XX/2019 I went into A branch after being advised by a customer service representative that my account would actually be closed. I went into the branch to see how I can remove the funds that are in there currently in as well as if my direc...</td>\n",
       "      <td>notice jp morgan chase restrict account debit card tuesday xxxx thursday xxxx go branch advise customer service representative account would actually close go branch see remove fund currently well direct deposit place employment would return bank associate customer service representative assure fund would post may take additional business day s...</td>\n",
       "    </tr>\n",
       "    <tr>\n",
       "      <th>7</th>\n",
       "      <td>During the summer months, I experience a decline income due to my employment. Therefore, I request a one month payment extension with my Auto Loan Company, Chase. For the past almost fours years, my request for payment extension is granted. I have never been delinquent with my auto loan payment. However, On XX/XX/2019 my request for a one month...</td>\n",
       "      <td>summer month experience decline income due employment therefore request one month payment extension auto loan company chase past almost fours year request payment extension grant never delinquent auto loan payment however xxxx request one month payment extension deny year explain situation representative supervisor avail lengthy discussion wait...</td>\n",
       "    </tr>\n",
       "    <tr>\n",
       "      <th>8</th>\n",
       "      <td>On XXXX XX/XX/2019, I made a {$300.00} payment to an online retailer using Chase quick pay with XXXX on the Chase website. I realized that this was a scam website after no confirmation, product, or response to any inquiries regarding the order and contacted Chase to get more information about the transaction to attempt getting a refund through ...</td>\n",
       "      <td>xxxx xxxx make payment online retailer use chase quick pay xxxx chase website realize scam website confirmation product response inquiry regard order contact chase get information transaction attempt get refund retailer bank contact chase via secured message xxxx explain happen asked way reverse transaction contact xxxx give information recipie...</td>\n",
       "    </tr>\n",
       "    <tr>\n",
       "      <th>9</th>\n",
       "      <td>I have a Chase credit card which is incorrectly reporting data on my credit report. The company is not helping resolve the issue.</td>\n",
       "      <td>chase credit card incorrectly report data credit report company help resolve issue</td>\n",
       "    </tr>\n",
       "  </tbody>\n",
       "</table>\n",
       "</div>"
      ],
      "text/plain": [
       "                                                                                                                                                                                                                                                                                                                                         complaint_what_happened  \\\n",
       "0  Good morning my name is XXXX XXXX and I appreciate it if you could help me put a stop to Chase Bank cardmember services. \\nIn 2018 I wrote to Chase asking for debt verification and what they sent me a statement which is not acceptable. I am asking the bank to validate the debt. Instead I been receiving mail every month from them attempting to c...   \n",
       "1  I upgraded my XXXX XXXX card in XX/XX/2018 and was told by the agent who did the upgrade my anniversary date would not change. It turned the agent was giving me the wrong information in order to upgrade the account. XXXX   changed my anniversary date from XX/XX/XXXX to XX/XX/XXXX without my consent! XXXX has the recording of the agent who was m...   \n",
       "2                                                                                                                               Chase Card was reported on XX/XX/2019. However, fraudulent application have been submitted my identity without my consent to fraudulently obtain services. Do not extend credit without verifying the identity of the applicant.   \n",
       "3  On XX/XX/2018, while trying to book a XXXX  XXXX  ticket, I came across an offer for {$300.00} to be applied towards the ticket if I applied for a rewards card. I put in my information for the offer and within less than a minute, was notified via the screen that a decision could not be made. I immediately contacted XXXX and was referred to Chas...   \n",
       "4  my grand son give me check for {$1600.00} i deposit it into my chase account after fund clear my chase bank closed my account never paid me my money they said they need to speek with my grand son check was clear money was taking by my chase bank refuse to pay me my money my grand son called chase 2 times they told him i should call not him to v...   \n",
       "5                                                                                                                                                                                                                                                                                                                                  Can you please remove inquiry   \n",
       "6  With out notice J.P. Morgan Chase restricted my account by my debit card Tuesday XX/XX/2019. On Thursday XX/XX/2019 I went into A branch after being advised by a customer service representative that my account would actually be closed. I went into the branch to see how I can remove the funds that are in there currently in as well as if my direc...   \n",
       "7  During the summer months, I experience a decline income due to my employment. Therefore, I request a one month payment extension with my Auto Loan Company, Chase. For the past almost fours years, my request for payment extension is granted. I have never been delinquent with my auto loan payment. However, On XX/XX/2019 my request for a one month...   \n",
       "8  On XXXX XX/XX/2019, I made a {$300.00} payment to an online retailer using Chase quick pay with XXXX on the Chase website. I realized that this was a scam website after no confirmation, product, or response to any inquiries regarding the order and contacted Chase to get more information about the transaction to attempt getting a refund through ...   \n",
       "9                                                                                                                                                                                                                              I have a Chase credit card which is incorrectly reporting data on my credit report. The company is not helping resolve the issue.   \n",
       "\n",
       "                                                                                                                                                                                                                                                                                                                                           lemmatized_complaints  \n",
       "0                                        good morning name xxxx xxxx appreciate could help put stop chase bank cardmember service write chase ask debt verification send statement acceptable ask bank validate debt instead receive mail every month attempt collect debt right know information consumer chase account xxxx xxxx xxxx xxxx thanks advance help  \n",
       "1                                                                                                                               upgraded xxxx xxxx card xxxx tell agent upgrade anniversary date would change turned agent give wrong information order upgrade account xxxx change anniversary date xxxxxxxx xxxxxxxx without consent xxxx record agent mislead  \n",
       "2                                                                                                                                                                                              chase card report xxxx however fraudulent application submit identity without consent fraudulently obtain service extend credit without verify identity applicant  \n",
       "3  xxxx try book xxxx xxxx ticket come across offer apply towards ticket apply reward card put information offer within less minute notified via screen decision could make immediately contacted xxxx refer chase bank immediately contact chase bank within minute get notification screen tell chase representative spoke application deny could state ask...  \n",
       "4                                                      grand son give check deposit chase account fund clear chase bank close account never pay money say need speek grand son check clear money take chase bank refuse pay money grand son call chase time tell call verify check owner country time date happen xxxx check number xxxx claim number xxxx chase  \n",
       "5                                                                                                                                                                                                                                                                                                                                          please remove inquiry  \n",
       "6  notice jp morgan chase restrict account debit card tuesday xxxx thursday xxxx go branch advise customer service representative account would actually close go branch see remove fund currently well direct deposit place employment would return bank associate customer service representative assure fund would post may take additional business day s...  \n",
       "7  summer month experience decline income due employment therefore request one month payment extension auto loan company chase past almost fours year request payment extension grant never delinquent auto loan payment however xxxx request one month payment extension deny year explain situation representative supervisor avail lengthy discussion wait...  \n",
       "8  xxxx xxxx make payment online retailer use chase quick pay xxxx chase website realize scam website confirmation product response inquiry regard order contact chase get information transaction attempt get refund retailer bank contact chase via secured message xxxx explain happen asked way reverse transaction contact xxxx give information recipie...  \n",
       "9                                                                                                                                                                                                                                                                             chase credit card incorrectly report data credit report company help resolve issue  "
      ]
     },
     "execution_count": 14,
     "metadata": {},
     "output_type": "execute_result"
    }
   ],
   "source": [
    "df_clean.head(10)"
   ]
  },
  {
   "cell_type": "markdown",
   "id": "00894dc3",
   "metadata": {},
   "source": [
    "### <span style=\"color:navy\">Observation:</span>\n",
    "\n",
    "- `nltk_tag_to_wordnet_tag` function converted NLTK POS tags to WordNet POS tags, for properly lemmatize words\n",
    "- `lemmatized_text` Tokenized the sentence into words, removed stopwords, and tagged token with POS tag \n",
    "-  Lemmatized tokens are joined together to form a lemmatized sentence.\n",
    "-  df_clean is created which contains only the complaints and the lemmatized complaints "
   ]
  },
  {
   "cell_type": "code",
   "execution_count": 15,
   "id": "07c54b1b",
   "metadata": {
    "execution": {
     "iopub.execute_input": "2022-01-13T18:47:10.165279Z",
     "iopub.status.busy": "2022-01-13T18:47:10.164563Z",
     "iopub.status.idle": "2022-01-13T18:51:23.757878Z",
     "shell.execute_reply": "2022-01-13T18:51:23.758352Z",
     "shell.execute_reply.started": "2022-01-13T18:05:34.548087Z"
    },
    "id": "Kk7fc4DuJrF1",
    "papermill": {
     "duration": 255.64144,
     "end_time": "2022-01-13T18:51:23.758546",
     "exception": false,
     "start_time": "2022-01-13T18:47:08.117106",
     "status": "completed"
    },
    "tags": []
   },
   "outputs": [
    {
     "name": "stderr",
     "output_type": "stream",
     "text": [
      "100%|████████████████████████████████████| 21072/21072 [03:00<00:00, 116.94it/s]\n",
      "100%|██████████████████████████████████| 21072/21072 [00:00<00:00, 54794.12it/s]\n"
     ]
    }
   ],
   "source": [
    "from textblob import TextBlob\n",
    "\n",
    "tqdm.pandas()\n",
    "\n",
    "# Write your function to extract the POS tags \n",
    "def extract_pos_tag(sentence):\n",
    "    # Create a textblob object\n",
    "    blob = TextBlob(sentence)\n",
    "    \n",
    "    # extract words with tags 'NN', join them and return\n",
    "    return ' '.join([ word for (word,tag) in blob.tags if tag == \"NN\"])\n",
    "    \n",
    "df_clean[\"complaint_POS_removed\"] = df_clean.progress_apply(lambda x: extract_pos_tag(x.lemmatized_complaints), axis=1)\n",
    "df_clean[\"complaint_length\"] = df_clean.progress_apply(lambda x: len(x.complaint_POS_removed), axis=1)"
   ]
  },
  {
   "cell_type": "markdown",
   "id": "8332655b",
   "metadata": {},
   "source": [
    "### <span style=\"color:navy\">Observation:</span>\n",
    "\n",
    "- `textblob` module, used for part-of-speech tagging\n",
    "-  `extract_pos_tag` extracted nouns (words with POS tag 'NN') from each sentence. \n",
    "- New column named `\"complaint_POS_removed\"` created containing the extracted nouns for each complaint.\n",
    "- new column named `\"complaint_length\" stores the complaint_length of the `\"complaint_POS_removed\"` column"
   ]
  },
  {
   "cell_type": "code",
   "execution_count": 16,
   "id": "c5f736b6",
   "metadata": {
    "execution": {
     "iopub.execute_input": "2022-01-13T18:51:29.191671Z",
     "iopub.status.busy": "2022-01-13T18:51:29.180425Z",
     "iopub.status.idle": "2022-01-13T18:51:29.196339Z",
     "shell.execute_reply": "2022-01-13T18:51:29.195692Z",
     "shell.execute_reply.started": "2022-01-13T18:09:36.646992Z"
    },
    "id": "AjxfchvFJrF2",
    "papermill": {
     "duration": 2.740563,
     "end_time": "2022-01-13T18:51:29.196501",
     "exception": false,
     "start_time": "2022-01-13T18:51:26.455938",
     "status": "completed"
    },
    "tags": []
   },
   "outputs": [
    {
     "data": {
      "text/html": [
       "<div>\n",
       "<style scoped>\n",
       "    .dataframe tbody tr th:only-of-type {\n",
       "        vertical-align: middle;\n",
       "    }\n",
       "\n",
       "    .dataframe tbody tr th {\n",
       "        vertical-align: top;\n",
       "    }\n",
       "\n",
       "    .dataframe thead th {\n",
       "        text-align: right;\n",
       "    }\n",
       "</style>\n",
       "<table border=\"1\" class=\"dataframe\">\n",
       "  <thead>\n",
       "    <tr style=\"text-align: right;\">\n",
       "      <th></th>\n",
       "      <th>complaint_what_happened</th>\n",
       "      <th>lemmatized_complaints</th>\n",
       "      <th>complaint_POS_removed</th>\n",
       "      <th>complaint_length</th>\n",
       "    </tr>\n",
       "  </thead>\n",
       "  <tbody>\n",
       "    <tr>\n",
       "      <th>0</th>\n",
       "      <td>Good morning my name is XXXX XXXX and I appreciate it if you could help me put a stop to Chase Bank cardmember services. \\nIn 2018 I wrote to Chase asking for debt verification and what they sent me a statement which is not acceptable. I am asking the bank to validate the debt. Instead I been receiving mail every month from them attempting to c...</td>\n",
       "      <td>good morning name xxxx xxxx appreciate could help put stop chase bank cardmember service write chase ask debt verification send statement acceptable ask bank validate debt instead receive mail every month attempt collect debt right know information consumer chase account xxxx xxxx xxxx xxxx thanks advance help</td>\n",
       "      <td>morning name appreciate chase bank cardmember service chase debt verification statement bank debt mail month attempt debt right information consumer chase account advance help</td>\n",
       "      <td>175</td>\n",
       "    </tr>\n",
       "    <tr>\n",
       "      <th>1</th>\n",
       "      <td>I upgraded my XXXX XXXX card in XX/XX/2018 and was told by the agent who did the upgrade my anniversary date would not change. It turned the agent was giving me the wrong information in order to upgrade the account. XXXX   changed my anniversary date from XX/XX/XXXX to XX/XX/XXXX without my consent! XXXX has the recording of the agent who was m...</td>\n",
       "      <td>upgraded xxxx xxxx card xxxx tell agent upgrade anniversary date would change turned agent give wrong information order upgrade account xxxx change anniversary date xxxxxxxx xxxxxxxx without consent xxxx record agent mislead</td>\n",
       "      <td>xxxx card tell agent date information order upgrade account change anniversary date consent xxxx record agent mislead</td>\n",
       "      <td>117</td>\n",
       "    </tr>\n",
       "    <tr>\n",
       "      <th>2</th>\n",
       "      <td>Chase Card was reported on XX/XX/2019. However, fraudulent application have been submitted my identity without my consent to fraudulently obtain services. Do not extend credit without verifying the identity of the applicant.</td>\n",
       "      <td>chase card report xxxx however fraudulent application submit identity without consent fraudulently obtain service extend credit without verify identity applicant</td>\n",
       "      <td>card report application submit identity consent service credit identity applicant</td>\n",
       "      <td>81</td>\n",
       "    </tr>\n",
       "    <tr>\n",
       "      <th>3</th>\n",
       "      <td>On XX/XX/2018, while trying to book a XXXX  XXXX  ticket, I came across an offer for {$300.00} to be applied towards the ticket if I applied for a rewards card. I put in my information for the offer and within less than a minute, was notified via the screen that a decision could not be made. I immediately contacted XXXX and was referred to Chas...</td>\n",
       "      <td>xxxx try book xxxx xxxx ticket come across offer apply towards ticket apply reward card put information offer within less minute notified via screen decision could make immediately contacted xxxx refer chase bank immediately contact chase bank within minute get notification screen tell chase representative spoke application deny could state ask...</td>\n",
       "      <td>try book ticket come offer apply ticket card information offer decision bank chase bank get notification screen spoke application deny state information xxxx offer credit offer account statement purchase ticket get deny account application withdrawn oblige happen application xxxx request proceed application tell chase chase fact credit account ...</td>\n",
       "      <td>429</td>\n",
       "    </tr>\n",
       "    <tr>\n",
       "      <th>4</th>\n",
       "      <td>my grand son give me check for {$1600.00} i deposit it into my chase account after fund clear my chase bank closed my account never paid me my money they said they need to speek with my grand son check was clear money was taking by my chase bank refuse to pay me my money my grand son called chase 2 times they told him i should call not him to v...</td>\n",
       "      <td>grand son give check deposit chase account fund clear chase bank close account never pay money say need speek grand son check clear money take chase bank refuse pay money grand son call chase time tell call verify check owner country time date happen xxxx check number xxxx claim number xxxx chase</td>\n",
       "      <td>son check deposit chase account fund bank account money son check money bank refuse pay money son call time check owner country time date number claim number chase</td>\n",
       "      <td>163</td>\n",
       "    </tr>\n",
       "    <tr>\n",
       "      <th>...</th>\n",
       "      <td>...</td>\n",
       "      <td>...</td>\n",
       "      <td>...</td>\n",
       "      <td>...</td>\n",
       "    </tr>\n",
       "    <tr>\n",
       "      <th>21067</th>\n",
       "      <td>After being a Chase Card customer for well over a decade, was offered multiple solicitations for acquiring new credit cards with Chase - all with bonus airline miles and hotel points. Was approved for all ( 3 ) new cards with No annual fee for 1st year. After less than 2 months with payment always paid as agreed, Chase closed all my cards. One ...</td>\n",
       "      <td>chase card customer well decade offer multiple solicitation acquire new credit card chase bonus airline mile hotel point approve new card annual fee st year less month payment always pay agree chase close card one approve new card never activate sent chase do harm credit charge annual fee even though cancelled account fail credit point airline ...</td>\n",
       "      <td>chase card customer decade offer solicitation credit card chase bonus airline hotel point card fee year month payment chase card chase credit charge fee account credit point airline hotel credit enrollment fail credit airline charge</td>\n",
       "      <td>232</td>\n",
       "    </tr>\n",
       "    <tr>\n",
       "      <th>21068</th>\n",
       "      <td>On Wednesday, XX/XX/XXXX I called Chas, my XXXX XXXX Visa Credit Card provider, and asked how to make a claim under their purchase protection benefit. On XX/XX/XXXX, I purchased three high school textbooks for my XXXX year old daughter because she transferred to a new school. All three books were damaged when a water bottle in her backpack brok...</td>\n",
       "      <td>wednesday xxxxxxxx call chas xxxx xxxx visa credit card provider ask make claim purchase protection benefit xxxxxxxx purchase three high school textbook xxxx year old daughter transfer new school three book damage water bottle backpack break chase representative assure textbook would cover instructed file claim xxxx immediately go website file ...</td>\n",
       "      <td>call chas xxxx credit card provider claim purchase protection benefit purchase school textbook year daughter school book damage water bottle backpack break assure textbook claim file claim request paperwork copy credit card statement copy receipt evidence damage book item cover claim claim insurance provider review information contact business ...</td>\n",
       "      <td>702</td>\n",
       "    </tr>\n",
       "    <tr>\n",
       "      <th>21069</th>\n",
       "      <td>I am not familiar with XXXX pay and did not understand the great risk this provides to consumers. I believed this to be safe as it was through my Chase bank app. I have been with Chase for almost 20 years and trust their mobile banking and now am sadly regretful. I am being told to deal with the merchant except the merchant has refused to answe...</td>\n",
       "      <td>familiar xxxx pay understand great risk provide consumer believe safe chase bank app chase almost year trust mobile banking sadly regretful tell deal merchant except merchant refuse answer inquiry shut communication website say merchant look entirely legitamite even use face highly successful brand individual link social medium without consent ...</td>\n",
       "      <td>pay risk consumer chase bank chase year trust tell deal merchant merchant refuse answer inquiry shut communication look face brand medium consent perform research phone number information pi merchant account title holder perpetuate cycle fraud fix voip use identity chase bank report report recourse matter place address issue app verbiage point ...</td>\n",
       "      <td>695</td>\n",
       "    </tr>\n",
       "    <tr>\n",
       "      <th>21070</th>\n",
       "      <td>I have had flawless credit for 30 yrs. I've had Chase credit cards, \" Chase Freedom '' specifically since XXXX with no problems ever. I've done many balance transfers in my life, so I have plenty of experience. I recently did a balance transfer with Chase Freedom for {$9000.00} ( did many with other Chase cards, but apparently not \" Freeedom ''...</td>\n",
       "      <td>flawless credit yrs ive chase credit card chase freedom specifically since xxxx problem ever ive do many balance transfer life plenty experience recently balance transfer chase freedom many chase card apparently freeedom get first bill minimum payment shock immediately call xxxxxxxx representative tell min payment high bc make pay balance trans...</td>\n",
       "      <td>flawless credit chase credit card chase freedom xxxx problem balance transfer life experience balance transfer chase bill payment shock representative tell payment pay balance transfer fee payment balance standard rate advertise pay payment xxxxxxxx shock payment pay try work chase pay user agreement paperwork year everyone world card chase amt...</td>\n",
       "      <td>563</td>\n",
       "    </tr>\n",
       "    <tr>\n",
       "      <th>21071</th>\n",
       "      <td>Roughly 10+ years ago I closed out my accounts with JP Morgan Chase Bank XXXX in order to close out an unsecured line of credit I had to pay it off. I did that to close out my account roughly {$500.00} payment when I closed out the accounts, and now I get this late payment that showed up on my credit report after 10+ years stating I owe close t...</td>\n",
       "      <td>roughly year ago close account jp morgan chase bank xxxx order close unsecured line credit pay close account roughly payment close account get late payment show credit report year state owe close dollar never payment schedule notification year pay upon call tell need show proof pay would like think indeed pay would immediately receive late paym...</td>\n",
       "      <td>year account jp bank order line credit pay account payment account get payment show credit report year state dollar payment schedule notification year pay call pay pay payment notification chase bank customer service charge way line banking institution</td>\n",
       "      <td>252</td>\n",
       "    </tr>\n",
       "  </tbody>\n",
       "</table>\n",
       "<p>21072 rows × 4 columns</p>\n",
       "</div>"
      ],
      "text/plain": [
       "                                                                                                                                                                                                                                                                                                                                             complaint_what_happened  \\\n",
       "0      Good morning my name is XXXX XXXX and I appreciate it if you could help me put a stop to Chase Bank cardmember services. \\nIn 2018 I wrote to Chase asking for debt verification and what they sent me a statement which is not acceptable. I am asking the bank to validate the debt. Instead I been receiving mail every month from them attempting to c...   \n",
       "1      I upgraded my XXXX XXXX card in XX/XX/2018 and was told by the agent who did the upgrade my anniversary date would not change. It turned the agent was giving me the wrong information in order to upgrade the account. XXXX   changed my anniversary date from XX/XX/XXXX to XX/XX/XXXX without my consent! XXXX has the recording of the agent who was m...   \n",
       "2                                                                                                                                   Chase Card was reported on XX/XX/2019. However, fraudulent application have been submitted my identity without my consent to fraudulently obtain services. Do not extend credit without verifying the identity of the applicant.   \n",
       "3      On XX/XX/2018, while trying to book a XXXX  XXXX  ticket, I came across an offer for {$300.00} to be applied towards the ticket if I applied for a rewards card. I put in my information for the offer and within less than a minute, was notified via the screen that a decision could not be made. I immediately contacted XXXX and was referred to Chas...   \n",
       "4      my grand son give me check for {$1600.00} i deposit it into my chase account after fund clear my chase bank closed my account never paid me my money they said they need to speek with my grand son check was clear money was taking by my chase bank refuse to pay me my money my grand son called chase 2 times they told him i should call not him to v...   \n",
       "...                                                                                                                                                                                                                                                                                                                                                              ...   \n",
       "21067  After being a Chase Card customer for well over a decade, was offered multiple solicitations for acquiring new credit cards with Chase - all with bonus airline miles and hotel points. Was approved for all ( 3 ) new cards with No annual fee for 1st year. After less than 2 months with payment always paid as agreed, Chase closed all my cards. One ...   \n",
       "21068  On Wednesday, XX/XX/XXXX I called Chas, my XXXX XXXX Visa Credit Card provider, and asked how to make a claim under their purchase protection benefit. On XX/XX/XXXX, I purchased three high school textbooks for my XXXX year old daughter because she transferred to a new school. All three books were damaged when a water bottle in her backpack brok...   \n",
       "21069  I am not familiar with XXXX pay and did not understand the great risk this provides to consumers. I believed this to be safe as it was through my Chase bank app. I have been with Chase for almost 20 years and trust their mobile banking and now am sadly regretful. I am being told to deal with the merchant except the merchant has refused to answe...   \n",
       "21070  I have had flawless credit for 30 yrs. I've had Chase credit cards, \" Chase Freedom '' specifically since XXXX with no problems ever. I've done many balance transfers in my life, so I have plenty of experience. I recently did a balance transfer with Chase Freedom for {$9000.00} ( did many with other Chase cards, but apparently not \" Freeedom ''...   \n",
       "21071  Roughly 10+ years ago I closed out my accounts with JP Morgan Chase Bank XXXX in order to close out an unsecured line of credit I had to pay it off. I did that to close out my account roughly {$500.00} payment when I closed out the accounts, and now I get this late payment that showed up on my credit report after 10+ years stating I owe close t...   \n",
       "\n",
       "                                                                                                                                                                                                                                                                                                                                               lemmatized_complaints  \\\n",
       "0                                            good morning name xxxx xxxx appreciate could help put stop chase bank cardmember service write chase ask debt verification send statement acceptable ask bank validate debt instead receive mail every month attempt collect debt right know information consumer chase account xxxx xxxx xxxx xxxx thanks advance help   \n",
       "1                                                                                                                                   upgraded xxxx xxxx card xxxx tell agent upgrade anniversary date would change turned agent give wrong information order upgrade account xxxx change anniversary date xxxxxxxx xxxxxxxx without consent xxxx record agent mislead   \n",
       "2                                                                                                                                                                                                  chase card report xxxx however fraudulent application submit identity without consent fraudulently obtain service extend credit without verify identity applicant   \n",
       "3      xxxx try book xxxx xxxx ticket come across offer apply towards ticket apply reward card put information offer within less minute notified via screen decision could make immediately contacted xxxx refer chase bank immediately contact chase bank within minute get notification screen tell chase representative spoke application deny could state ask...   \n",
       "4                                                          grand son give check deposit chase account fund clear chase bank close account never pay money say need speek grand son check clear money take chase bank refuse pay money grand son call chase time tell call verify check owner country time date happen xxxx check number xxxx claim number xxxx chase   \n",
       "...                                                                                                                                                                                                                                                                                                                                                              ...   \n",
       "21067  chase card customer well decade offer multiple solicitation acquire new credit card chase bonus airline mile hotel point approve new card annual fee st year less month payment always pay agree chase close card one approve new card never activate sent chase do harm credit charge annual fee even though cancelled account fail credit point airline ...   \n",
       "21068  wednesday xxxxxxxx call chas xxxx xxxx visa credit card provider ask make claim purchase protection benefit xxxxxxxx purchase three high school textbook xxxx year old daughter transfer new school three book damage water bottle backpack break chase representative assure textbook would cover instructed file claim xxxx immediately go website file ...   \n",
       "21069  familiar xxxx pay understand great risk provide consumer believe safe chase bank app chase almost year trust mobile banking sadly regretful tell deal merchant except merchant refuse answer inquiry shut communication website say merchant look entirely legitamite even use face highly successful brand individual link social medium without consent ...   \n",
       "21070  flawless credit yrs ive chase credit card chase freedom specifically since xxxx problem ever ive do many balance transfer life plenty experience recently balance transfer chase freedom many chase card apparently freeedom get first bill minimum payment shock immediately call xxxxxxxx representative tell min payment high bc make pay balance trans...   \n",
       "21071  roughly year ago close account jp morgan chase bank xxxx order close unsecured line credit pay close account roughly payment close account get late payment show credit report year state owe close dollar never payment schedule notification year pay upon call tell need show proof pay would like think indeed pay would immediately receive late paym...   \n",
       "\n",
       "                                                                                                                                                                                                                                                                                                                                               complaint_POS_removed  \\\n",
       "0                                                                                                                                                                                    morning name appreciate chase bank cardmember service chase debt verification statement bank debt mail month attempt debt right information consumer chase account advance help   \n",
       "1                                                                                                                                                                                                                                              xxxx card tell agent date information order upgrade account change anniversary date consent xxxx record agent mislead   \n",
       "2                                                                                                                                                                                                                                                                                  card report application submit identity consent service credit identity applicant   \n",
       "3      try book ticket come offer apply ticket card information offer decision bank chase bank get notification screen spoke application deny state information xxxx offer credit offer account statement purchase ticket get deny account application withdrawn oblige happen application xxxx request proceed application tell chase chase fact credit account ...   \n",
       "4                                                                                                                                                                                                son check deposit chase account fund bank account money son check money bank refuse pay money son call time check owner country time date number claim number chase   \n",
       "...                                                                                                                                                                                                                                                                                                                                                              ...   \n",
       "21067                                                                                                                       chase card customer decade offer solicitation credit card chase bonus airline hotel point card fee year month payment chase card chase credit charge fee account credit point airline hotel credit enrollment fail credit airline charge   \n",
       "21068  call chas xxxx credit card provider claim purchase protection benefit purchase school textbook year daughter school book damage water bottle backpack break assure textbook claim file claim request paperwork copy credit card statement copy receipt evidence damage book item cover claim claim insurance provider review information contact business ...   \n",
       "21069  pay risk consumer chase bank chase year trust tell deal merchant merchant refuse answer inquiry shut communication look face brand medium consent perform research phone number information pi merchant account title holder perpetuate cycle fraud fix voip use identity chase bank report report recourse matter place address issue app verbiage point ...   \n",
       "21070  flawless credit chase credit card chase freedom xxxx problem balance transfer life experience balance transfer chase bill payment shock representative tell payment pay balance transfer fee payment balance standard rate advertise pay payment xxxxxxxx shock payment pay try work chase pay user agreement paperwork year everyone world card chase amt...   \n",
       "21071                                                                                                   year account jp bank order line credit pay account payment account get payment show credit report year state dollar payment schedule notification year pay call pay pay payment notification chase bank customer service charge way line banking institution   \n",
       "\n",
       "       complaint_length  \n",
       "0                   175  \n",
       "1                   117  \n",
       "2                    81  \n",
       "3                   429  \n",
       "4                   163  \n",
       "...                 ...  \n",
       "21067               232  \n",
       "21068               702  \n",
       "21069               695  \n",
       "21070               563  \n",
       "21071               252  \n",
       "\n",
       "[21072 rows x 4 columns]"
      ]
     },
     "execution_count": 16,
     "metadata": {},
     "output_type": "execute_result"
    }
   ],
   "source": [
    "# The clean dataframe should now contain the raw complaint, lemmatized complaint \n",
    "# and the complaint after removing POS tags.\n",
    "df_clean"
   ]
  },
  {
   "cell_type": "markdown",
   "id": "d232038b",
   "metadata": {},
   "source": [
    "### <span style=\"color:navy\">Observation:</span>\n",
    "\n",
    "- Clean dataframe now contains the raw complaint, lemmatized complaint, complaint after removing POS tags and lenght of complaint_POS_removed column ."
   ]
  },
  {
   "cell_type": "markdown",
   "id": "1bf6dee5",
   "metadata": {
    "id": "_7Un1AElJrF2",
    "papermill": {
     "duration": 2.722454,
     "end_time": "2022-01-13T18:51:34.551572",
     "exception": false,
     "start_time": "2022-01-13T18:51:31.829118",
     "status": "completed"
    },
    "tags": []
   },
   "source": [
    "## Exploratory data analysis to get familiar with the data.\n",
    "\n",
    "*   Visualise the data according to the 'Complaint' character complaint_length.\n",
    "*   Using a word cloud we shall find the top 40 words by frequency among all the articles after processing the text.\n",
    "*   We will find the top unigrams, bigrams and trigrams by frequency among all the complaints after processing the text."
   ]
  },
  {
   "cell_type": "code",
   "execution_count": 17,
   "id": "33443706",
   "metadata": {
    "execution": {
     "iopub.execute_input": "2022-01-13T18:51:39.856512Z",
     "iopub.status.busy": "2022-01-13T18:51:39.855794Z",
     "iopub.status.idle": "2022-01-13T18:51:40.184613Z",
     "shell.execute_reply": "2022-01-13T18:51:40.184098Z",
     "shell.execute_reply.started": "2022-01-13T18:09:36.671248Z"
    },
    "id": "q-zaqJF6JrF2",
    "papermill": {
     "duration": 3.014492,
     "end_time": "2022-01-13T18:51:40.184761",
     "exception": false,
     "start_time": "2022-01-13T18:51:37.170269",
     "status": "completed"
    },
    "tags": []
   },
   "outputs": [
    {
     "data": {
      "image/png": "[encoded data removed]",
      "text/plain": [
       "<Figure size 1800x500 with 1 Axes>"
      ]
     },
     "metadata": {},
     "output_type": "display_data"
    }
   ],
   "source": [
    "# Code to visualise the data according to the 'Complaint' character complaint_length\n",
    "plt.figure(figsize=(18,5))\n",
    "plt.hist(df_clean.complaint_length, bins=50)\n",
    "plt.xlabel(\"Complaint Character complaint_length\")\n",
    "plt.ylabel(\"Frequency\")\n",
    "plt.show()"
   ]
  },
  {
   "cell_type": "code",
   "execution_count": 18,
   "id": "ce655a98",
   "metadata": {
    "execution": {
     "iopub.execute_input": "2022-01-13T18:51:45.567957Z",
     "iopub.status.busy": "2022-01-13T18:51:45.567230Z",
     "iopub.status.idle": "2022-01-13T18:51:46.002651Z",
     "shell.execute_reply": "2022-01-13T18:51:46.003125Z",
     "shell.execute_reply.started": "2022-01-13T18:09:37.016629Z"
    },
    "papermill": {
     "duration": 3.152928,
     "end_time": "2022-01-13T18:51:46.003310",
     "exception": false,
     "start_time": "2022-01-13T18:51:42.850382",
     "status": "completed"
    },
    "tags": []
   },
   "outputs": [
    {
     "data": {
      "image/png": "[encoded data removed]",
      "text/plain": [
       "<Figure size 1800x500 with 1 Axes>"
      ]
     },
     "metadata": {},
     "output_type": "display_data"
    }
   ],
   "source": [
    "# Zoomed to see the figure upto 4000\n",
    "plt.figure(figsize=(18,5))\n",
    "plt.hist([l for l in df_clean.complaint_length if l < 4000], bins=50)\n",
    "plt.xlabel(\"Complaint Character complaint_length\")\n",
    "plt.ylabel(\"Frequency\")\n",
    "plt.show()"
   ]
  },
  {
   "cell_type": "markdown",
   "id": "f21a9250",
   "metadata": {},
   "source": [
    "### <span style=\"color:navy\">Observation:</span>\n",
    "\n",
    "- Observed frequency pattern using 'Complaint Character complaint_length' .\n",
    "- More dense appears between 100 to 600 chars of complaints"
   ]
  },
  {
   "cell_type": "markdown",
   "id": "8cc445b3",
   "metadata": {
    "id": "T9jD_6SeJrF3",
    "papermill": {
     "duration": 2.696766,
     "end_time": "2022-01-13T18:51:51.314851",
     "exception": false,
     "start_time": "2022-01-13T18:51:48.618085",
     "status": "completed"
    },
    "tags": []
   },
   "source": [
    "#### Find the top 40 words by frequency among all the articles after processing the text."
   ]
  },
  {
   "cell_type": "code",
   "execution_count": 19,
   "id": "20df93e8",
   "metadata": {
    "execution": {
     "iopub.execute_input": "2022-01-13T18:51:56.637438Z",
     "iopub.status.busy": "2022-01-13T18:51:56.636711Z",
     "iopub.status.idle": "2022-01-13T18:51:57.172205Z",
     "shell.execute_reply": "2022-01-13T18:51:57.172705Z",
     "shell.execute_reply.started": "2022-01-13T18:09:37.465252Z"
    },
    "id": "QcfdvtfZJrF3",
    "papermill": {
     "duration": 3.241022,
     "end_time": "2022-01-13T18:51:57.172875",
     "exception": false,
     "start_time": "2022-01-13T18:51:53.931853",
     "status": "completed"
    },
    "tags": []
   },
   "outputs": [
    {
     "data": {
      "image/png": "[encoded data removed]",
      "text/plain": [
       "<Figure size 1600x1200 with 1 Axes>"
      ]
     },
     "metadata": {},
     "output_type": "display_data"
    }
   ],
   "source": [
    "# Using a word cloud find the top 40 words by frequency among all the articles after processing the text\n",
    "from wordcloud import WordCloud\n",
    "\n",
    "wordcloud = WordCloud(\n",
    "                          background_color='lightblue',\n",
    "                          stopwords=stop,\n",
    "                          max_words=40,\n",
    "                          max_font_size=40, \n",
    "                          random_state=42\n",
    "                         ).generate(str(df_clean['complaint_POS_removed']))\n",
    "\n",
    "fig = plt.figure(figsize=(16,12))\n",
    "plt.imshow(wordcloud)\n",
    "plt.axis('off')\n",
    "plt.show()"
   ]
  },
  {
   "cell_type": "markdown",
   "id": "04f4013c",
   "metadata": {},
   "source": [
    "### <span style=\"color:navy\">Observation:</span>\n",
    "\n",
    "- WordCloud object created to find the top 40 words by frequency among all the articles after processing the text data of complaint_POS_removed col from the DataFrame.\n",
    "\n"
   ]
  },
  {
   "cell_type": "code",
   "execution_count": 20,
   "id": "59d188b3",
   "metadata": {
    "execution": {
     "iopub.execute_input": "2022-01-13T18:52:02.526606Z",
     "iopub.status.busy": "2022-01-13T18:52:02.516378Z",
     "iopub.status.idle": "2022-01-13T18:52:02.528673Z",
     "shell.execute_reply": "2022-01-13T18:52:02.529290Z",
     "shell.execute_reply.started": "2022-01-13T18:09:37.983952Z"
    },
    "id": "OkSmc3UaJrF4",
    "papermill": {
     "duration": 2.688131,
     "end_time": "2022-01-13T18:52:02.529464",
     "exception": false,
     "start_time": "2022-01-13T18:51:59.841333",
     "status": "completed"
    },
    "tags": []
   },
   "outputs": [],
   "source": [
    "# Removing -PRON- from the text corpus\n",
    "df_clean['Complaint_clean'] = df_clean['complaint_POS_removed'].str.replace('-PRON-', '')"
   ]
  },
  {
   "cell_type": "markdown",
   "id": "2b7b0232",
   "metadata": {
    "id": "5DfCSbbmJrF4",
    "papermill": {
     "duration": 2.701116,
     "end_time": "2022-01-13T18:52:07.926848",
     "exception": false,
     "start_time": "2022-01-13T18:52:05.225732",
     "status": "completed"
    },
    "tags": []
   },
   "source": [
    "#### Find the top unigrams,bigrams and trigrams by frequency among all the complaints after processing the text."
   ]
  },
  {
   "cell_type": "code",
   "execution_count": 21,
   "id": "fe508474",
   "metadata": {
    "execution": {
     "iopub.execute_input": "2022-01-13T18:52:13.360102Z",
     "iopub.status.busy": "2022-01-13T18:52:13.359122Z",
     "iopub.status.idle": "2022-01-13T18:52:21.692970Z",
     "shell.execute_reply": "2022-01-13T18:52:21.692329Z",
     "shell.execute_reply.started": "2022-01-13T18:09:38.016632Z"
    },
    "id": "5mbk5DS5JrF4",
    "papermill": {
     "duration": 11.09332,
     "end_time": "2022-01-13T18:52:21.693155",
     "exception": false,
     "start_time": "2022-01-13T18:52:10.599835",
     "status": "completed"
    },
    "tags": []
   },
   "outputs": [
    {
     "data": {
      "image/png": "[encoded data removed]",
      "text/plain": [
       "<Figure size 1500x600 with 1 Axes>"
      ]
     },
     "metadata": {},
     "output_type": "display_data"
    }
   ],
   "source": [
    "# Find the top 30 unigram frequency among the complaints in the cleaned datafram(df_clean). \n",
    "def get_top_n_words(corpus, n=None):\n",
    "    vec = CountVectorizer(stop_words='english').fit(corpus)\n",
    "    bag_of_words = vec.transform(corpus)\n",
    "    sum_words = bag_of_words.sum(axis=0) \n",
    "    words_freq = [(word, sum_words[0, idx]) for word, idx in vec.vocabulary_.items()]\n",
    "    words_freq =sorted(words_freq, key = lambda x: x[1], reverse=True)\n",
    "    return words_freq[:n]\n",
    "\n",
    "# Top 30 unigrams by frequency among all the complaints\n",
    "common_words = get_top_n_words(df_clean['complaint_POS_removed'].values.astype('U'), 30)\n",
    "unigram_df = pd.DataFrame(common_words, columns = ['unigram' , 'count'])\n",
    "\n",
    "# Plot the top 30 unigrams\n",
    "plt.figure(figsize=(15,6))\n",
    "sns.barplot(x='unigram', y='count', data=unigram_df, palette=\"coolwarm\")\n",
    "plt.xticks(rotation=90)\n",
    "plt.title(\"Top 30 unigrams in the Complaint text after removing stop words and lemmatization\", fontsize=20)\n",
    "plt.show()"
   ]
  },
  {
   "cell_type": "code",
   "execution_count": 22,
   "id": "cbc205d6",
   "metadata": {
    "execution": {
     "iopub.execute_input": "2022-01-13T18:52:27.044153Z",
     "iopub.status.busy": "2022-01-13T18:52:27.043156Z",
     "iopub.status.idle": "2022-01-13T18:52:27.047798Z",
     "shell.execute_reply": "2022-01-13T18:52:27.048322Z",
     "shell.execute_reply.started": "2022-01-13T18:09:44.824671Z"
    },
    "id": "YX7fedm1JrF8",
    "papermill": {
     "duration": 2.660764,
     "end_time": "2022-01-13T18:52:27.048511",
     "exception": false,
     "start_time": "2022-01-13T18:52:24.387747",
     "status": "completed"
    },
    "tags": []
   },
   "outputs": [
    {
     "data": {
      "text/html": [
       "<div>\n",
       "<style scoped>\n",
       "    .dataframe tbody tr th:only-of-type {\n",
       "        vertical-align: middle;\n",
       "    }\n",
       "\n",
       "    .dataframe tbody tr th {\n",
       "        vertical-align: top;\n",
       "    }\n",
       "\n",
       "    .dataframe thead th {\n",
       "        text-align: right;\n",
       "    }\n",
       "</style>\n",
       "<table border=\"1\" class=\"dataframe\">\n",
       "  <thead>\n",
       "    <tr style=\"text-align: right;\">\n",
       "      <th></th>\n",
       "      <th>unigram</th>\n",
       "      <th>count</th>\n",
       "    </tr>\n",
       "  </thead>\n",
       "  <tbody>\n",
       "    <tr>\n",
       "      <th>0</th>\n",
       "      <td>chase</td>\n",
       "      <td>54088</td>\n",
       "    </tr>\n",
       "    <tr>\n",
       "      <th>1</th>\n",
       "      <td>account</td>\n",
       "      <td>43603</td>\n",
       "    </tr>\n",
       "    <tr>\n",
       "      <th>2</th>\n",
       "      <td>credit</td>\n",
       "      <td>34084</td>\n",
       "    </tr>\n",
       "    <tr>\n",
       "      <th>3</th>\n",
       "      <td>bank</td>\n",
       "      <td>28639</td>\n",
       "    </tr>\n",
       "    <tr>\n",
       "      <th>4</th>\n",
       "      <td>card</td>\n",
       "      <td>26599</td>\n",
       "    </tr>\n",
       "    <tr>\n",
       "      <th>5</th>\n",
       "      <td>payment</td>\n",
       "      <td>21175</td>\n",
       "    </tr>\n",
       "    <tr>\n",
       "      <th>6</th>\n",
       "      <td>charge</td>\n",
       "      <td>17070</td>\n",
       "    </tr>\n",
       "    <tr>\n",
       "      <th>7</th>\n",
       "      <td>time</td>\n",
       "      <td>16065</td>\n",
       "    </tr>\n",
       "    <tr>\n",
       "      <th>8</th>\n",
       "      <td>xxxx</td>\n",
       "      <td>14380</td>\n",
       "    </tr>\n",
       "    <tr>\n",
       "      <th>9</th>\n",
       "      <td>day</td>\n",
       "      <td>13243</td>\n",
       "    </tr>\n",
       "  </tbody>\n",
       "</table>\n",
       "</div>"
      ],
      "text/plain": [
       "   unigram  count\n",
       "0    chase  54088\n",
       "1  account  43603\n",
       "2   credit  34084\n",
       "3     bank  28639\n",
       "4     card  26599\n",
       "5  payment  21175\n",
       "6   charge  17070\n",
       "7     time  16065\n",
       "8     xxxx  14380\n",
       "9      day  13243"
      ]
     },
     "execution_count": 22,
     "metadata": {},
     "output_type": "execute_result"
    }
   ],
   "source": [
    "# Print the top 10 words in the unigram frequency\n",
    "unigram_df.head(10)"
   ]
  },
  {
   "cell_type": "markdown",
   "id": "3476058e",
   "metadata": {},
   "source": [
    "### <span style=\"color:navy\">Observation:</span>\n",
    "- A unigram is a single word occurring in a text, to examine individual word frequencies and distributions.\n",
    "- Found top 30 unigram frequency among the complaints.\n",
    "\n"
   ]
  },
  {
   "cell_type": "code",
   "execution_count": 23,
   "id": "72369525",
   "metadata": {
    "execution": {
     "iopub.execute_input": "2022-01-13T18:52:32.533760Z",
     "iopub.status.busy": "2022-01-13T18:52:32.533020Z",
     "iopub.status.idle": "2022-01-13T18:52:43.701807Z",
     "shell.execute_reply": "2022-01-13T18:52:43.702341Z",
     "shell.execute_reply.started": "2022-01-13T18:09:44.836690Z"
    },
    "id": "aV7kD7w8JrF8",
    "papermill": {
     "duration": 13.920037,
     "end_time": "2022-01-13T18:52:43.702529",
     "exception": false,
     "start_time": "2022-01-13T18:52:29.782492",
     "status": "completed"
    },
    "tags": []
   },
   "outputs": [
    {
     "data": {
      "image/png": "[encoded data removed]",
      "text/plain": [
       "<Figure size 1500x600 with 1 Axes>"
      ]
     },
     "metadata": {},
     "output_type": "display_data"
    }
   ],
   "source": [
    "# Find the top 30 bigram frequency among the complaints in the cleaned datafram(df_clean). \n",
    "def get_top_n_bigram(corpus, n=None):\n",
    "    vec = CountVectorizer(ngram_range=(2, 2), stop_words='english').fit(corpus)\n",
    "    bag_of_words = vec.transform(corpus)\n",
    "    sum_words = bag_of_words.sum(axis=0) \n",
    "    words_freq = [(word, sum_words[0, idx]) for word, idx in vec.vocabulary_.items()]\n",
    "    words_freq =sorted(words_freq, key = lambda x: x[1], reverse=True)\n",
    "    return words_freq[:n]\n",
    "\n",
    "# Top 30 bigrams by frequency among all the complaints\n",
    "common_words = get_top_n_bigram(df_clean['Complaint_clean'].values.astype('U'), 30)\n",
    "biagram_df = pd.DataFrame(common_words, columns = ['bigram' , 'count'])\n",
    "\n",
    "# Plot the top 30 bigrams\n",
    "plt.figure(figsize=(15,6))\n",
    "sns.barplot(x='bigram', y='count', data=biagram_df, palette=\"coolwarm\")\n",
    "plt.xticks(rotation=90)\n",
    "plt.title(\"Top 30 bigrams in the Complaint text after removing stop words and lemmatization\", fontsize=20)\n",
    "plt.show()"
   ]
  },
  {
   "cell_type": "code",
   "execution_count": 24,
   "id": "b6dcb6e2",
   "metadata": {
    "execution": {
     "iopub.execute_input": "2022-01-13T18:52:49.132984Z",
     "iopub.status.busy": "2022-01-13T18:52:49.132314Z",
     "iopub.status.idle": "2022-01-13T18:52:49.142731Z",
     "shell.execute_reply": "2022-01-13T18:52:49.141990Z",
     "shell.execute_reply.started": "2022-01-13T18:09:55.590576Z"
    },
    "id": "NPnMNIpyJrF9",
    "papermill": {
     "duration": 2.752729,
     "end_time": "2022-01-13T18:52:49.142913",
     "exception": false,
     "start_time": "2022-01-13T18:52:46.390184",
     "status": "completed"
    },
    "tags": []
   },
   "outputs": [
    {
     "data": {
      "text/html": [
       "<div>\n",
       "<style scoped>\n",
       "    .dataframe tbody tr th:only-of-type {\n",
       "        vertical-align: middle;\n",
       "    }\n",
       "\n",
       "    .dataframe tbody tr th {\n",
       "        vertical-align: top;\n",
       "    }\n",
       "\n",
       "    .dataframe thead th {\n",
       "        text-align: right;\n",
       "    }\n",
       "</style>\n",
       "<table border=\"1\" class=\"dataframe\">\n",
       "  <thead>\n",
       "    <tr style=\"text-align: right;\">\n",
       "      <th></th>\n",
       "      <th>bigram</th>\n",
       "      <th>count</th>\n",
       "    </tr>\n",
       "  </thead>\n",
       "  <tbody>\n",
       "    <tr>\n",
       "      <th>0</th>\n",
       "      <td>credit card</td>\n",
       "      <td>12610</td>\n",
       "    </tr>\n",
       "    <tr>\n",
       "      <th>1</th>\n",
       "      <td>chase bank</td>\n",
       "      <td>5456</td>\n",
       "    </tr>\n",
       "    <tr>\n",
       "      <th>2</th>\n",
       "      <td>credit report</td>\n",
       "      <td>4044</td>\n",
       "    </tr>\n",
       "    <tr>\n",
       "      <th>3</th>\n",
       "      <td>check account</td>\n",
       "      <td>3734</td>\n",
       "    </tr>\n",
       "    <tr>\n",
       "      <th>4</th>\n",
       "      <td>customer service</td>\n",
       "      <td>3074</td>\n",
       "    </tr>\n",
       "    <tr>\n",
       "      <th>5</th>\n",
       "      <td>chase credit</td>\n",
       "      <td>2992</td>\n",
       "    </tr>\n",
       "    <tr>\n",
       "      <th>6</th>\n",
       "      <td>bank account</td>\n",
       "      <td>2510</td>\n",
       "    </tr>\n",
       "    <tr>\n",
       "      <th>7</th>\n",
       "      <td>account chase</td>\n",
       "      <td>2284</td>\n",
       "    </tr>\n",
       "    <tr>\n",
       "      <th>8</th>\n",
       "      <td>chase account</td>\n",
       "      <td>2066</td>\n",
       "    </tr>\n",
       "    <tr>\n",
       "      <th>9</th>\n",
       "      <td>account account</td>\n",
       "      <td>1861</td>\n",
       "    </tr>\n",
       "  </tbody>\n",
       "</table>\n",
       "</div>"
      ],
      "text/plain": [
       "             bigram  count\n",
       "0       credit card  12610\n",
       "1        chase bank   5456\n",
       "2     credit report   4044\n",
       "3     check account   3734\n",
       "4  customer service   3074\n",
       "5      chase credit   2992\n",
       "6      bank account   2510\n",
       "7     account chase   2284\n",
       "8     chase account   2066\n",
       "9   account account   1861"
      ]
     },
     "execution_count": 24,
     "metadata": {},
     "output_type": "execute_result"
    }
   ],
   "source": [
    "# Print the top 10 words in the bigram frequency\n",
    "biagram_df.head(10)"
   ]
  },
  {
   "cell_type": "markdown",
   "id": "93f32bae",
   "metadata": {},
   "source": [
    "### <span style=\"color:navy\">Observation:</span>\n",
    "- A bigram is a sequence of two consecutive words within a text, for capturing immediate word associations and linguistic patterns.\n",
    "- Found top 30 bigram frequency among the complaints.\n",
    "\n"
   ]
  },
  {
   "cell_type": "code",
   "execution_count": 25,
   "id": "c0934e80",
   "metadata": {
    "execution": {
     "iopub.execute_input": "2022-01-13T18:52:55.417169Z",
     "iopub.status.busy": "2022-01-13T18:52:54.519854Z",
     "iopub.status.idle": "2022-01-13T18:53:09.833633Z",
     "shell.execute_reply": "2022-01-13T18:53:09.832666Z",
     "shell.execute_reply.started": "2022-01-13T18:09:55.602908Z"
    },
    "id": "Xkh7vtbtJrF-",
    "papermill": {
     "duration": 17.983477,
     "end_time": "2022-01-13T18:53:09.833783",
     "exception": false,
     "start_time": "2022-01-13T18:52:51.850306",
     "status": "completed"
    },
    "tags": []
   },
   "outputs": [
    {
     "data": {
      "image/png": "[encoded data removed]",
      "text/plain": [
       "<Figure size 1500x600 with 1 Axes>"
      ]
     },
     "metadata": {},
     "output_type": "display_data"
    }
   ],
   "source": [
    "# Write your code here to find the top 30 trigram frequency among the complaints in the cleaned datafram(df_clean). \n",
    "def get_top_n_trigram(corpus, n=None):\n",
    "    vec = CountVectorizer(ngram_range=(3, 3), stop_words='english').fit(corpus)\n",
    "    bag_of_words = vec.transform(corpus)\n",
    "    sum_words = bag_of_words.sum(axis=0) \n",
    "    words_freq = [(word, sum_words[0, idx]) for word, idx in vec.vocabulary_.items()]\n",
    "    words_freq =sorted(words_freq, key = lambda x: x[1], reverse=True)\n",
    "    return words_freq[:n]\n",
    "\n",
    "# Top 30 trigrams by frequency among all the complaints\n",
    "common_words = get_top_n_trigram(df_clean['Complaint_clean'].values.astype('U'), 30)\n",
    "trigram_df = pd.DataFrame(common_words, columns = ['trigram' , 'count'])\n",
    "\n",
    "# Plot the top 30 unigrams\n",
    "plt.figure(figsize=(15,6))\n",
    "sns.barplot(x='trigram', y='count', data=trigram_df, palette=\"coolwarm\")\n",
    "plt.xticks(rotation=90)\n",
    "plt.title(\"Top 30 trigrams in the Complaint text after removing stop words and lemmatization\", fontsize=20)\n",
    "plt.show()"
   ]
  },
  {
   "cell_type": "code",
   "execution_count": 26,
   "id": "54c64ae3",
   "metadata": {
    "execution": {
     "iopub.execute_input": "2022-01-13T18:53:15.202384Z",
     "iopub.status.busy": "2022-01-13T18:53:15.201398Z",
     "iopub.status.idle": "2022-01-13T18:53:15.211172Z",
     "shell.execute_reply": "2022-01-13T18:53:15.211695Z",
     "shell.execute_reply.started": "2022-01-13T18:10:10.357333Z"
    },
    "id": "REcVxNfvJrF-",
    "papermill": {
     "duration": 2.680038,
     "end_time": "2022-01-13T18:53:15.211868",
     "exception": false,
     "start_time": "2022-01-13T18:53:12.531830",
     "status": "completed"
    },
    "tags": []
   },
   "outputs": [
    {
     "data": {
      "text/html": [
       "<div>\n",
       "<style scoped>\n",
       "    .dataframe tbody tr th:only-of-type {\n",
       "        vertical-align: middle;\n",
       "    }\n",
       "\n",
       "    .dataframe tbody tr th {\n",
       "        vertical-align: top;\n",
       "    }\n",
       "\n",
       "    .dataframe thead th {\n",
       "        text-align: right;\n",
       "    }\n",
       "</style>\n",
       "<table border=\"1\" class=\"dataframe\">\n",
       "  <thead>\n",
       "    <tr style=\"text-align: right;\">\n",
       "      <th></th>\n",
       "      <th>trigram</th>\n",
       "      <th>count</th>\n",
       "    </tr>\n",
       "  </thead>\n",
       "  <tbody>\n",
       "    <tr>\n",
       "      <th>0</th>\n",
       "      <td>chase credit card</td>\n",
       "      <td>2143</td>\n",
       "    </tr>\n",
       "    <tr>\n",
       "      <th>1</th>\n",
       "      <td>credit card company</td>\n",
       "      <td>1000</td>\n",
       "    </tr>\n",
       "    <tr>\n",
       "      <th>2</th>\n",
       "      <td>credit card account</td>\n",
       "      <td>906</td>\n",
       "    </tr>\n",
       "    <tr>\n",
       "      <th>3</th>\n",
       "      <td>credit card chase</td>\n",
       "      <td>703</td>\n",
       "    </tr>\n",
       "    <tr>\n",
       "      <th>4</th>\n",
       "      <td>chase customer service</td>\n",
       "      <td>494</td>\n",
       "    </tr>\n",
       "    <tr>\n",
       "      <th>5</th>\n",
       "      <td>charge credit card</td>\n",
       "      <td>491</td>\n",
       "    </tr>\n",
       "    <tr>\n",
       "      <th>6</th>\n",
       "      <td>credit card credit</td>\n",
       "      <td>490</td>\n",
       "    </tr>\n",
       "    <tr>\n",
       "      <th>7</th>\n",
       "      <td>inquiry credit report</td>\n",
       "      <td>411</td>\n",
       "    </tr>\n",
       "    <tr>\n",
       "      <th>8</th>\n",
       "      <td>chase check account</td>\n",
       "      <td>381</td>\n",
       "    </tr>\n",
       "    <tr>\n",
       "      <th>9</th>\n",
       "      <td>credit report credit</td>\n",
       "      <td>375</td>\n",
       "    </tr>\n",
       "  </tbody>\n",
       "</table>\n",
       "</div>"
      ],
      "text/plain": [
       "                  trigram  count\n",
       "0       chase credit card   2143\n",
       "1     credit card company   1000\n",
       "2     credit card account    906\n",
       "3       credit card chase    703\n",
       "4  chase customer service    494\n",
       "5      charge credit card    491\n",
       "6      credit card credit    490\n",
       "7   inquiry credit report    411\n",
       "8     chase check account    381\n",
       "9    credit report credit    375"
      ]
     },
     "execution_count": 26,
     "metadata": {},
     "output_type": "execute_result"
    }
   ],
   "source": [
    "# Print the top 10 words in the trigram frequency\n",
    "trigram_df.head(10)"
   ]
  },
  {
   "cell_type": "markdown",
   "id": "af7a164a",
   "metadata": {},
   "source": [
    "### <span style=\"color:navy\">Observation:</span>\n",
    "- A trigram is a sequence of three consecutive words within a text, for capturing contextual information and analyzing text structure.\n",
    "- Found top 30 Trigram frequency among the complaints.\n"
   ]
  },
  {
   "cell_type": "markdown",
   "id": "98a04f55",
   "metadata": {
    "id": "yUXzFji0JrF_",
    "papermill": {
     "duration": 2.667278,
     "end_time": "2022-01-13T18:53:20.613826",
     "exception": false,
     "start_time": "2022-01-13T18:53:17.946548",
     "status": "completed"
    },
    "tags": []
   },
   "source": [
    "## The personal details of customer has been masked in the dataset with xxxx. Let's remove the masked text as this will be of no use for our analysis"
   ]
  },
  {
   "cell_type": "code",
   "execution_count": 27,
   "id": "1dfe97e6",
   "metadata": {
    "execution": {
     "iopub.execute_input": "2022-01-13T18:53:25.985122Z",
     "iopub.status.busy": "2022-01-13T18:53:25.984386Z",
     "iopub.status.idle": "2022-01-13T18:53:26.023604Z",
     "shell.execute_reply": "2022-01-13T18:53:26.022993Z",
     "shell.execute_reply.started": "2022-01-13T18:10:10.372824Z"
    },
    "id": "wKda-a_IJrF_",
    "papermill": {
     "duration": 2.762797,
     "end_time": "2022-01-13T18:53:26.023750",
     "exception": false,
     "start_time": "2022-01-13T18:53:23.260953",
     "status": "completed"
    },
    "tags": []
   },
   "outputs": [],
   "source": [
    "df_clean['Complaint_clean'] = df_clean['Complaint_clean'].str.replace('xxxx','')"
   ]
  },
  {
   "cell_type": "code",
   "execution_count": 28,
   "id": "4f459500",
   "metadata": {
    "execution": {
     "iopub.execute_input": "2022-01-13T18:53:31.425893Z",
     "iopub.status.busy": "2022-01-13T18:53:31.425195Z",
     "iopub.status.idle": "2022-01-13T18:53:31.436190Z",
     "shell.execute_reply": "2022-01-13T18:53:31.436758Z",
     "shell.execute_reply.started": "2022-01-13T18:10:10.422170Z"
    },
    "id": "9UIFk8fQJrF_",
    "papermill": {
     "duration": 2.764108,
     "end_time": "2022-01-13T18:53:31.436931",
     "exception": false,
     "start_time": "2022-01-13T18:53:28.672823",
     "status": "completed"
    },
    "tags": []
   },
   "outputs": [
    {
     "data": {
      "text/html": [
       "<div>\n",
       "<style scoped>\n",
       "    .dataframe tbody tr th:only-of-type {\n",
       "        vertical-align: middle;\n",
       "    }\n",
       "\n",
       "    .dataframe tbody tr th {\n",
       "        vertical-align: top;\n",
       "    }\n",
       "\n",
       "    .dataframe thead th {\n",
       "        text-align: right;\n",
       "    }\n",
       "</style>\n",
       "<table border=\"1\" class=\"dataframe\">\n",
       "  <thead>\n",
       "    <tr style=\"text-align: right;\">\n",
       "      <th></th>\n",
       "      <th>complaint_what_happened</th>\n",
       "      <th>lemmatized_complaints</th>\n",
       "      <th>complaint_POS_removed</th>\n",
       "      <th>complaint_length</th>\n",
       "      <th>Complaint_clean</th>\n",
       "    </tr>\n",
       "  </thead>\n",
       "  <tbody>\n",
       "    <tr>\n",
       "      <th>0</th>\n",
       "      <td>Good morning my name is XXXX XXXX and I appreciate it if you could help me put a stop to Chase Bank cardmember services. \\nIn 2018 I wrote to Chase asking for debt verification and what they sent me a statement which is not acceptable. I am asking the bank to validate the debt. Instead I been receiving mail every month from them attempting to c...</td>\n",
       "      <td>good morning name xxxx xxxx appreciate could help put stop chase bank cardmember service write chase ask debt verification send statement acceptable ask bank validate debt instead receive mail every month attempt collect debt right know information consumer chase account xxxx xxxx xxxx xxxx thanks advance help</td>\n",
       "      <td>morning name appreciate chase bank cardmember service chase debt verification statement bank debt mail month attempt debt right information consumer chase account advance help</td>\n",
       "      <td>175</td>\n",
       "      <td>morning name appreciate chase bank cardmember service chase debt verification statement bank debt mail month attempt debt right information consumer chase account advance help</td>\n",
       "    </tr>\n",
       "    <tr>\n",
       "      <th>1</th>\n",
       "      <td>I upgraded my XXXX XXXX card in XX/XX/2018 and was told by the agent who did the upgrade my anniversary date would not change. It turned the agent was giving me the wrong information in order to upgrade the account. XXXX   changed my anniversary date from XX/XX/XXXX to XX/XX/XXXX without my consent! XXXX has the recording of the agent who was m...</td>\n",
       "      <td>upgraded xxxx xxxx card xxxx tell agent upgrade anniversary date would change turned agent give wrong information order upgrade account xxxx change anniversary date xxxxxxxx xxxxxxxx without consent xxxx record agent mislead</td>\n",
       "      <td>xxxx card tell agent date information order upgrade account change anniversary date consent xxxx record agent mislead</td>\n",
       "      <td>117</td>\n",
       "      <td>card tell agent date information order upgrade account change anniversary date consent  record agent mislead</td>\n",
       "    </tr>\n",
       "    <tr>\n",
       "      <th>2</th>\n",
       "      <td>Chase Card was reported on XX/XX/2019. However, fraudulent application have been submitted my identity without my consent to fraudulently obtain services. Do not extend credit without verifying the identity of the applicant.</td>\n",
       "      <td>chase card report xxxx however fraudulent application submit identity without consent fraudulently obtain service extend credit without verify identity applicant</td>\n",
       "      <td>card report application submit identity consent service credit identity applicant</td>\n",
       "      <td>81</td>\n",
       "      <td>card report application submit identity consent service credit identity applicant</td>\n",
       "    </tr>\n",
       "    <tr>\n",
       "      <th>3</th>\n",
       "      <td>On XX/XX/2018, while trying to book a XXXX  XXXX  ticket, I came across an offer for {$300.00} to be applied towards the ticket if I applied for a rewards card. I put in my information for the offer and within less than a minute, was notified via the screen that a decision could not be made. I immediately contacted XXXX and was referred to Chas...</td>\n",
       "      <td>xxxx try book xxxx xxxx ticket come across offer apply towards ticket apply reward card put information offer within less minute notified via screen decision could make immediately contacted xxxx refer chase bank immediately contact chase bank within minute get notification screen tell chase representative spoke application deny could state ask...</td>\n",
       "      <td>try book ticket come offer apply ticket card information offer decision bank chase bank get notification screen spoke application deny state information xxxx offer credit offer account statement purchase ticket get deny account application withdrawn oblige happen application xxxx request proceed application tell chase chase fact credit account ...</td>\n",
       "      <td>429</td>\n",
       "      <td>try book ticket come offer apply ticket card information offer decision bank chase bank get notification screen spoke application deny state information  offer credit offer account statement purchase ticket get deny account application withdrawn oblige happen application  request proceed application tell chase chase fact credit account name rep...</td>\n",
       "    </tr>\n",
       "    <tr>\n",
       "      <th>4</th>\n",
       "      <td>my grand son give me check for {$1600.00} i deposit it into my chase account after fund clear my chase bank closed my account never paid me my money they said they need to speek with my grand son check was clear money was taking by my chase bank refuse to pay me my money my grand son called chase 2 times they told him i should call not him to v...</td>\n",
       "      <td>grand son give check deposit chase account fund clear chase bank close account never pay money say need speek grand son check clear money take chase bank refuse pay money grand son call chase time tell call verify check owner country time date happen xxxx check number xxxx claim number xxxx chase</td>\n",
       "      <td>son check deposit chase account fund bank account money son check money bank refuse pay money son call time check owner country time date number claim number chase</td>\n",
       "      <td>163</td>\n",
       "      <td>son check deposit chase account fund bank account money son check money bank refuse pay money son call time check owner country time date number claim number chase</td>\n",
       "    </tr>\n",
       "    <tr>\n",
       "      <th>5</th>\n",
       "      <td>Can you please remove inquiry</td>\n",
       "      <td>please remove inquiry</td>\n",
       "      <td>inquiry</td>\n",
       "      <td>7</td>\n",
       "      <td>inquiry</td>\n",
       "    </tr>\n",
       "    <tr>\n",
       "      <th>6</th>\n",
       "      <td>With out notice J.P. Morgan Chase restricted my account by my debit card Tuesday XX/XX/2019. On Thursday XX/XX/2019 I went into A branch after being advised by a customer service representative that my account would actually be closed. I went into the branch to see how I can remove the funds that are in there currently in as well as if my direc...</td>\n",
       "      <td>notice jp morgan chase restrict account debit card tuesday xxxx thursday xxxx go branch advise customer service representative account would actually close go branch see remove fund currently well direct deposit place employment would return bank associate customer service representative assure fund would post may take additional business day s...</td>\n",
       "      <td>jp restrict account debit card tuesday thursday branch customer service account branch fund deposit place employment bank customer service assure fund business day attempt branch fund look fund statement call tell business day state tuesday date fund bank teller chase mail check business day fund owe account bind fee rent car payment thing peac...</td>\n",
       "      <td>564</td>\n",
       "      <td>jp restrict account debit card tuesday thursday branch customer service account branch fund deposit place employment bank customer service assure fund business day attempt branch fund look fund statement call tell business day state tuesday date fund bank teller chase mail check business day fund owe account bind fee rent car payment thing peac...</td>\n",
       "    </tr>\n",
       "    <tr>\n",
       "      <th>7</th>\n",
       "      <td>During the summer months, I experience a decline income due to my employment. Therefore, I request a one month payment extension with my Auto Loan Company, Chase. For the past almost fours years, my request for payment extension is granted. I have never been delinquent with my auto loan payment. However, On XX/XX/2019 my request for a one month...</td>\n",
       "      <td>summer month experience decline income due employment therefore request one month payment extension auto loan company chase past almost fours year request payment extension grant never delinquent auto loan payment however xxxx request one month payment extension deny year explain situation representative supervisor avail lengthy discussion wait...</td>\n",
       "      <td>summer month experience income employment month payment extension auto loan company year payment extension grant auto loan payment month payment extension deny year situation representative supervisor avail discussion wait reason decline reason baffle office xxxx executive director communication jpmorgan contact chase followup week office call ...</td>\n",
       "      <td>605</td>\n",
       "      <td>summer month experience income employment month payment extension auto loan company year payment extension grant auto loan payment month payment extension deny year situation representative supervisor avail discussion wait reason decline reason baffle office  executive director communication jpmorgan contact chase followup week office call repr...</td>\n",
       "    </tr>\n",
       "    <tr>\n",
       "      <th>8</th>\n",
       "      <td>On XXXX XX/XX/2019, I made a {$300.00} payment to an online retailer using Chase quick pay with XXXX on the Chase website. I realized that this was a scam website after no confirmation, product, or response to any inquiries regarding the order and contacted Chase to get more information about the transaction to attempt getting a refund through ...</td>\n",
       "      <td>xxxx xxxx make payment online retailer use chase quick pay xxxx chase website realize scam website confirmation product response inquiry regard order contact chase get information transaction attempt get refund retailer bank contact chase via secured message xxxx explain happen asked way reverse transaction contact xxxx give information recipie...</td>\n",
       "      <td>payment online retailer use pay chase website confirmation product response inquiry regard order contact information transaction attempt retailer bank message xxxx way transaction contact information recipient message review response restate email transfer mention scam handle inquiry email require expertise team order assist consumer online sup...</td>\n",
       "      <td>1265</td>\n",
       "      <td>payment online retailer use pay chase website confirmation product response inquiry regard order contact information transaction attempt retailer bank message  way transaction contact information recipient message review response restate email transfer mention scam handle inquiry email require expertise team order assist consumer online support...</td>\n",
       "    </tr>\n",
       "    <tr>\n",
       "      <th>9</th>\n",
       "      <td>I have a Chase credit card which is incorrectly reporting data on my credit report. The company is not helping resolve the issue.</td>\n",
       "      <td>chase credit card incorrectly report data credit report company help resolve issue</td>\n",
       "      <td>chase credit card credit report company issue</td>\n",
       "      <td>45</td>\n",
       "      <td>chase credit card credit report company issue</td>\n",
       "    </tr>\n",
       "    <tr>\n",
       "      <th>10</th>\n",
       "      <td>mishandling of this account by Chase auto and XXXX.</td>\n",
       "      <td>mishandle account chase auto xxxx</td>\n",
       "      <td>account auto xxxx</td>\n",
       "      <td>17</td>\n",
       "      <td>account auto</td>\n",
       "    </tr>\n",
       "    <tr>\n",
       "      <th>11</th>\n",
       "      <td>I have reached out to XXXX several times in attempt to have this fraudulent inquiry removed I was told that I need to call and contact the original creditor that placed this inquiry on my report. I have made several attempts to get chase bank to contact the bureau and remove this inquiry that was not authorized by me. They seem to not be able t...</td>\n",
       "      <td>reach xxxx several time attempt fraudulent inquiry remove tell need call contact original creditor place inquiry report make several attempt get chase bank contact bureau remove inquiry authorize seem able get right person take care issue matter many attempt make nobody seem understand im talkin want chase bank fraudulent inquiry remove credit ...</td>\n",
       "      <td>reach time inquiry tell contact creditor place report attempt bank contact bureau inquiry authorize get person care issue nobody im talkin chase bank inquiry credit report action kind credit chase bank account matter</td>\n",
       "      <td>216</td>\n",
       "      <td>reach time inquiry tell contact creditor place report attempt bank contact bureau inquiry authorize get person care issue nobody im talkin chase bank inquiry credit report action kind credit chase bank account matter</td>\n",
       "    </tr>\n",
       "    <tr>\n",
       "      <th>12</th>\n",
       "      <td>I opened an account with chase bank on XXXX and used a code for XXXX bonus. I called to follow up on XX/XX/XXXX about the terms and was told everything was on the account and once I made XXXX direct deposit the bonus would be paid out in 10 days. As of XXXX I had made the required deposits and was told my account never had the coupon code appli...</td>\n",
       "      <td>open account chase bank xxxx use code xxxx bonus call follow xxxxxxxx term tell everything account make xxxx direct deposit bonus would pay day xxxx make require deposit tell account never coupon code apply past day bonus would pay</td>\n",
       "      <td>account bank xxxx use code bonus call term tell everything account xxxx deposit bonus day deposit tell account coupon code day bonus</td>\n",
       "      <td>132</td>\n",
       "      <td>account bank  use code bonus call term tell everything account  deposit bonus day deposit tell account coupon code day bonus</td>\n",
       "    </tr>\n",
       "    <tr>\n",
       "      <th>13</th>\n",
       "      <td>To whom it may concern, Chase bank charged wrongly overdraft fees, I have alert of low balance or unsuficent fee balance and always deposit immediatly to cover transactions if needed but Chase always changed the order and charged me overdraft fee anyway. when you call they said their per their guidelines they don't refund more then 2 overdrawft...</td>\n",
       "      <td>may concern chase bank charge wrongly overdraft fee alert low balance unsuficent fee balance always deposit immediatly cover transaction need chase always change order charge overdraft fee anyway call say per guideline dont refund overdrawft doesnt matter bank fault take people money ok see attach document chase refund always find way take back...</td>\n",
       "      <td>concern bank charge fee alert balance fee balance transaction change order charge overdraft fee guideline dont refund matter bank fault money chase refund way refund place</td>\n",
       "      <td>171</td>\n",
       "      <td>concern bank charge fee alert balance fee balance transaction change order charge overdraft fee guideline dont refund matter bank fault money chase refund way refund place</td>\n",
       "    </tr>\n",
       "    <tr>\n",
       "      <th>14</th>\n",
       "      <td>My chase amazon card was declined for a catering order I had placed for my brothers funeral in the amount of {$710.00}. I contacted chase around noon today XX/XX/2019 and was asked the last 4 numbers of my chase savings account and the other user on my account. I responded that I did not have a savings and I am only authorized user. Customer re...</td>\n",
       "      <td>chase amazon card decline cater order place brother funeral amount contact chase around noon today xxxx ask last number chase saving account user account respond saving authorize user customer rep tell would call back minute keep line open didnt receive call back hour contact chase first call thought someone use card fraudulently speak rep tran...</td>\n",
       "      <td>chase decline cater order place amount contact chase noon today ask number account account respond customer rep tell keep line didnt call hour contact chase thought someone use card rep transfer supervisor card transaction cater company card decline use card pay order purchase respond contact caterer decline rep question use code caterer respon...</td>\n",
       "      <td>643</td>\n",
       "      <td>chase decline cater order place amount contact chase noon today ask number account account respond customer rep tell keep line didnt call hour contact chase thought someone use card rep transfer supervisor card transaction cater company card decline use card pay order purchase respond contact caterer decline rep question use code caterer respon...</td>\n",
       "    </tr>\n",
       "    <tr>\n",
       "      <th>15</th>\n",
       "      <td>I opened the saving account for the {$25.00} bonus. I was supposed to received the {$25.00} bonus after 3 consecutive auto transfers from checking to savings. I notice on XX/XX/2019 that automatic transfer was cancelled for not enough funds into my checking 's account. Therefore, I put enough funds in my account on XX/XX/2019 requested that the...</td>\n",
       "      <td>open save account bonus suppose receive bonus consecutive auto transfer check saving notice xxxx automatic transfer cancel enough fund check account therefore put enough fund account xxxx request executive team reactivate automatic transfer month xxxx although m xxxx reach executive office fail try resolve concern case xxxx</td>\n",
       "      <td>save account bonus bonus auto transfer check transfer cancel fund check account fund account request executive team transfer month executive office try resolve concern case xxxx</td>\n",
       "      <td>177</td>\n",
       "      <td>save account bonus bonus auto transfer check transfer cancel fund check account fund account request executive team transfer month executive office try resolve concern case</td>\n",
       "    </tr>\n",
       "    <tr>\n",
       "      <th>16</th>\n",
       "      <td>XXXX XXXX a sofa, love seat, table and chairs and was never delivered. Debit card charged {$2400.00}. Bank says Visa denied claim, we have no furniture and no money.</td>\n",
       "      <td>xxxx xxxx sofa love seat table chair never deliver debit card charge bank say visa deny claim furniture money</td>\n",
       "      <td>sofa love seat chair charge bank claim furniture money</td>\n",
       "      <td>54</td>\n",
       "      <td>sofa love seat chair charge bank claim furniture money</td>\n",
       "    </tr>\n",
       "    <tr>\n",
       "      <th>17</th>\n",
       "      <td>My card went missing and i didnt realize it until today, i checked my email and they said there has been deposits and money taken out again. I had {$400.00} in my bank account and its gone.</td>\n",
       "      <td>card go miss didnt realize today check email say deposit money take bank account go</td>\n",
       "      <td>card didnt realize today deposit money bank account</td>\n",
       "      <td>51</td>\n",
       "      <td>card didnt realize today deposit money bank account</td>\n",
       "    </tr>\n",
       "    <tr>\n",
       "      <th>18</th>\n",
       "      <td>Chase sent me an email today with the innocuous title \" Important information regarding changes to your Chase account '' ( they often use similar titles for ads and other communications ). \\n\\nIn it, they force me into binding arbitration ( despite that never being something I had agreed to and never being a part of any contract between me and ...</td>\n",
       "      <td>chase send email today innocuous title important information regard change chase account often use similar title ad communication force bind arbitration despite never something agree never part contract include method opt additional information consequence many people ive see similar problem afraid chase close account opt even egregiously despi...</td>\n",
       "      <td>send email today title information regard change chase account title ad communication force bind arbitration something part contract method information consequence problem chase account chase email require mail letter information order loss time money malpractice chase</td>\n",
       "      <td>269</td>\n",
       "      <td>send email today title information regard change chase account title ad communication force bind arbitration something part contract method information consequence problem chase account chase email require mail letter information order loss time money malpractice chase</td>\n",
       "    </tr>\n",
       "    <tr>\n",
       "      <th>19</th>\n",
       "      <td>I made a purchase with XXXX XXXX XXXX on XX/XX/2019 in the amount of {$38.00}. I was charged twice for this transaction. I placed a disputes case with Chase bank on XX/XX/2019 when I noticed the charge on my account. I called back on Sunday, XX/XX/2019 about the provisional credit for the charge and again on Monday, XX/XX/2019. I was told the c...</td>\n",
       "      <td>make purchase xxxx xxxx xxxx xxxx amount charge twice transaction place dispute case chase bank xxxx noticed charge account call back sunday xxxx provisional credit charge monday xxxx tell charge post provisional credit could provide used debt card monday xxxx try use would work go chase bank xxxx xxxx xxxx xxxx xxxx nevada tell account close d...</td>\n",
       "      <td>purchase amount charge transaction place dispute case bank xxxx charge account call credit charge tell charge post credit debt card monday try use bank account activity shock report fraud account dispute department place dispute case charge charge credit account day dispute department monday explain thaxxxx credit account dispute claim escalati...</td>\n",
       "      <td>570</td>\n",
       "      <td>purchase amount charge transaction place dispute case bank  charge account call credit charge tell charge post credit debt card monday try use bank account activity shock report fraud account dispute department place dispute case charge charge credit account day dispute department monday explain tha credit account dispute claim escalation manag...</td>\n",
       "    </tr>\n",
       "  </tbody>\n",
       "</table>\n",
       "</div>"
      ],
      "text/plain": [
       "                                                                                                                                                                                                                                                                                                                                          complaint_what_happened  \\\n",
       "0   Good morning my name is XXXX XXXX and I appreciate it if you could help me put a stop to Chase Bank cardmember services. \\nIn 2018 I wrote to Chase asking for debt verification and what they sent me a statement which is not acceptable. I am asking the bank to validate the debt. Instead I been receiving mail every month from them attempting to c...   \n",
       "1   I upgraded my XXXX XXXX card in XX/XX/2018 and was told by the agent who did the upgrade my anniversary date would not change. It turned the agent was giving me the wrong information in order to upgrade the account. XXXX   changed my anniversary date from XX/XX/XXXX to XX/XX/XXXX without my consent! XXXX has the recording of the agent who was m...   \n",
       "2                                                                                                                                Chase Card was reported on XX/XX/2019. However, fraudulent application have been submitted my identity without my consent to fraudulently obtain services. Do not extend credit without verifying the identity of the applicant.   \n",
       "3   On XX/XX/2018, while trying to book a XXXX  XXXX  ticket, I came across an offer for {$300.00} to be applied towards the ticket if I applied for a rewards card. I put in my information for the offer and within less than a minute, was notified via the screen that a decision could not be made. I immediately contacted XXXX and was referred to Chas...   \n",
       "4   my grand son give me check for {$1600.00} i deposit it into my chase account after fund clear my chase bank closed my account never paid me my money they said they need to speek with my grand son check was clear money was taking by my chase bank refuse to pay me my money my grand son called chase 2 times they told him i should call not him to v...   \n",
       "5                                                                                                                                                                                                                                                                                                                                   Can you please remove inquiry   \n",
       "6   With out notice J.P. Morgan Chase restricted my account by my debit card Tuesday XX/XX/2019. On Thursday XX/XX/2019 I went into A branch after being advised by a customer service representative that my account would actually be closed. I went into the branch to see how I can remove the funds that are in there currently in as well as if my direc...   \n",
       "7   During the summer months, I experience a decline income due to my employment. Therefore, I request a one month payment extension with my Auto Loan Company, Chase. For the past almost fours years, my request for payment extension is granted. I have never been delinquent with my auto loan payment. However, On XX/XX/2019 my request for a one month...   \n",
       "8   On XXXX XX/XX/2019, I made a {$300.00} payment to an online retailer using Chase quick pay with XXXX on the Chase website. I realized that this was a scam website after no confirmation, product, or response to any inquiries regarding the order and contacted Chase to get more information about the transaction to attempt getting a refund through ...   \n",
       "9                                                                                                                                                                                                                               I have a Chase credit card which is incorrectly reporting data on my credit report. The company is not helping resolve the issue.   \n",
       "10                                                                                                                                                                                                                                                                                                            mishandling of this account by Chase auto and XXXX.   \n",
       "11  I have reached out to XXXX several times in attempt to have this fraudulent inquiry removed I was told that I need to call and contact the original creditor that placed this inquiry on my report. I have made several attempts to get chase bank to contact the bureau and remove this inquiry that was not authorized by me. They seem to not be able t...   \n",
       "12  I opened an account with chase bank on XXXX and used a code for XXXX bonus. I called to follow up on XX/XX/XXXX about the terms and was told everything was on the account and once I made XXXX direct deposit the bonus would be paid out in 10 days. As of XXXX I had made the required deposits and was told my account never had the coupon code appli...   \n",
       "13  To whom it may concern, Chase bank charged wrongly overdraft fees, I have alert of low balance or unsuficent fee balance and always deposit immediatly to cover transactions if needed but Chase always changed the order and charged me overdraft fee anyway. when you call they said their per their guidelines they don't refund more then 2 overdrawft...   \n",
       "14  My chase amazon card was declined for a catering order I had placed for my brothers funeral in the amount of {$710.00}. I contacted chase around noon today XX/XX/2019 and was asked the last 4 numbers of my chase savings account and the other user on my account. I responded that I did not have a savings and I am only authorized user. Customer re...   \n",
       "15  I opened the saving account for the {$25.00} bonus. I was supposed to received the {$25.00} bonus after 3 consecutive auto transfers from checking to savings. I notice on XX/XX/2019 that automatic transfer was cancelled for not enough funds into my checking 's account. Therefore, I put enough funds in my account on XX/XX/2019 requested that the...   \n",
       "16                                                                                                                                                                                          XXXX XXXX a sofa, love seat, table and chairs and was never delivered. Debit card charged {$2400.00}. Bank says Visa denied claim, we have no furniture and no money.   \n",
       "17                                                                                                                                                                  My card went missing and i didnt realize it until today, i checked my email and they said there has been deposits and money taken out again. I had {$400.00} in my bank account and its gone.   \n",
       "18  Chase sent me an email today with the innocuous title \" Important information regarding changes to your Chase account '' ( they often use similar titles for ads and other communications ). \\n\\nIn it, they force me into binding arbitration ( despite that never being something I had agreed to and never being a part of any contract between me and ...   \n",
       "19  I made a purchase with XXXX XXXX XXXX on XX/XX/2019 in the amount of {$38.00}. I was charged twice for this transaction. I placed a disputes case with Chase bank on XX/XX/2019 when I noticed the charge on my account. I called back on Sunday, XX/XX/2019 about the provisional credit for the charge and again on Monday, XX/XX/2019. I was told the c...   \n",
       "\n",
       "                                                                                                                                                                                                                                                                                                                                            lemmatized_complaints  \\\n",
       "0                                         good morning name xxxx xxxx appreciate could help put stop chase bank cardmember service write chase ask debt verification send statement acceptable ask bank validate debt instead receive mail every month attempt collect debt right know information consumer chase account xxxx xxxx xxxx xxxx thanks advance help   \n",
       "1                                                                                                                                upgraded xxxx xxxx card xxxx tell agent upgrade anniversary date would change turned agent give wrong information order upgrade account xxxx change anniversary date xxxxxxxx xxxxxxxx without consent xxxx record agent mislead   \n",
       "2                                                                                                                                                                                               chase card report xxxx however fraudulent application submit identity without consent fraudulently obtain service extend credit without verify identity applicant   \n",
       "3   xxxx try book xxxx xxxx ticket come across offer apply towards ticket apply reward card put information offer within less minute notified via screen decision could make immediately contacted xxxx refer chase bank immediately contact chase bank within minute get notification screen tell chase representative spoke application deny could state ask...   \n",
       "4                                                       grand son give check deposit chase account fund clear chase bank close account never pay money say need speek grand son check clear money take chase bank refuse pay money grand son call chase time tell call verify check owner country time date happen xxxx check number xxxx claim number xxxx chase   \n",
       "5                                                                                                                                                                                                                                                                                                                                           please remove inquiry   \n",
       "6   notice jp morgan chase restrict account debit card tuesday xxxx thursday xxxx go branch advise customer service representative account would actually close go branch see remove fund currently well direct deposit place employment would return bank associate customer service representative assure fund would post may take additional business day s...   \n",
       "7   summer month experience decline income due employment therefore request one month payment extension auto loan company chase past almost fours year request payment extension grant never delinquent auto loan payment however xxxx request one month payment extension deny year explain situation representative supervisor avail lengthy discussion wait...   \n",
       "8   xxxx xxxx make payment online retailer use chase quick pay xxxx chase website realize scam website confirmation product response inquiry regard order contact chase get information transaction attempt get refund retailer bank contact chase via secured message xxxx explain happen asked way reverse transaction contact xxxx give information recipie...   \n",
       "9                                                                                                                                                                                                                                                                              chase credit card incorrectly report data credit report company help resolve issue   \n",
       "10                                                                                                                                                                                                                                                                                                                              mishandle account chase auto xxxx   \n",
       "11  reach xxxx several time attempt fraudulent inquiry remove tell need call contact original creditor place inquiry report make several attempt get chase bank contact bureau remove inquiry authorize seem able get right person take care issue matter many attempt make nobody seem understand im talkin want chase bank fraudulent inquiry remove credit ...   \n",
       "12                                                                                                                        open account chase bank xxxx use code xxxx bonus call follow xxxxxxxx term tell everything account make xxxx direct deposit bonus would pay day xxxx make require deposit tell account never coupon code apply past day bonus would pay   \n",
       "13  may concern chase bank charge wrongly overdraft fee alert low balance unsuficent fee balance always deposit immediatly cover transaction need chase always change order charge overdraft fee anyway call say per guideline dont refund overdrawft doesnt matter bank fault take people money ok see attach document chase refund always find way take back...   \n",
       "14  chase amazon card decline cater order place brother funeral amount contact chase around noon today xxxx ask last number chase saving account user account respond saving authorize user customer rep tell would call back minute keep line open didnt receive call back hour contact chase first call thought someone use card fraudulently speak rep tran...   \n",
       "15                          open save account bonus suppose receive bonus consecutive auto transfer check saving notice xxxx automatic transfer cancel enough fund check account therefore put enough fund account xxxx request executive team reactivate automatic transfer month xxxx although m xxxx reach executive office fail try resolve concern case xxxx   \n",
       "16                                                                                                                                                                                                                                                  xxxx xxxx sofa love seat table chair never deliver debit card charge bank say visa deny claim furniture money   \n",
       "17                                                                                                                                                                                                                                                                            card go miss didnt realize today check email say deposit money take bank account go   \n",
       "18  chase send email today innocuous title important information regard change chase account often use similar title ad communication force bind arbitration despite never something agree never part contract include method opt additional information consequence many people ive see similar problem afraid chase close account opt even egregiously despi...   \n",
       "19  make purchase xxxx xxxx xxxx xxxx amount charge twice transaction place dispute case chase bank xxxx noticed charge account call back sunday xxxx provisional credit charge monday xxxx tell charge post provisional credit could provide used debt card monday xxxx try use would work go chase bank xxxx xxxx xxxx xxxx xxxx nevada tell account close d...   \n",
       "\n",
       "                                                                                                                                                                                                                                                                                                                                            complaint_POS_removed  \\\n",
       "0                                                                                                                                                                                 morning name appreciate chase bank cardmember service chase debt verification statement bank debt mail month attempt debt right information consumer chase account advance help   \n",
       "1                                                                                                                                                                                                                                           xxxx card tell agent date information order upgrade account change anniversary date consent xxxx record agent mislead   \n",
       "2                                                                                                                                                                                                                                                                               card report application submit identity consent service credit identity applicant   \n",
       "3   try book ticket come offer apply ticket card information offer decision bank chase bank get notification screen spoke application deny state information xxxx offer credit offer account statement purchase ticket get deny account application withdrawn oblige happen application xxxx request proceed application tell chase chase fact credit account ...   \n",
       "4                                                                                                                                                                                             son check deposit chase account fund bank account money son check money bank refuse pay money son call time check owner country time date number claim number chase   \n",
       "5                                                                                                                                                                                                                                                                                                                                                         inquiry   \n",
       "6   jp restrict account debit card tuesday thursday branch customer service account branch fund deposit place employment bank customer service assure fund business day attempt branch fund look fund statement call tell business day state tuesday date fund bank teller chase mail check business day fund owe account bind fee rent car payment thing peac...   \n",
       "7   summer month experience income employment month payment extension auto loan company year payment extension grant auto loan payment month payment extension deny year situation representative supervisor avail discussion wait reason decline reason baffle office xxxx executive director communication jpmorgan contact chase followup week office call ...   \n",
       "8   payment online retailer use pay chase website confirmation product response inquiry regard order contact information transaction attempt retailer bank message xxxx way transaction contact information recipient message review response restate email transfer mention scam handle inquiry email require expertise team order assist consumer online sup...   \n",
       "9                                                                                                                                                                                                                                                                                                                   chase credit card credit report company issue   \n",
       "10                                                                                                                                                                                                                                                                                                                                              account auto xxxx   \n",
       "11                                                                                                                                       reach time inquiry tell contact creditor place report attempt bank contact bureau inquiry authorize get person care issue nobody im talkin chase bank inquiry credit report action kind credit chase bank account matter   \n",
       "12                                                                                                                                                                                                                           account bank xxxx use code bonus call term tell everything account xxxx deposit bonus day deposit tell account coupon code day bonus   \n",
       "13                                                                                                                                                                                    concern bank charge fee alert balance fee balance transaction change order charge overdraft fee guideline dont refund matter bank fault money chase refund way refund place   \n",
       "14  chase decline cater order place amount contact chase noon today ask number account account respond customer rep tell keep line didnt call hour contact chase thought someone use card rep transfer supervisor card transaction cater company card decline use card pay order purchase respond contact caterer decline rep question use code caterer respon...   \n",
       "15                                                                                                                                                                              save account bonus bonus auto transfer check transfer cancel fund check account fund account request executive team transfer month executive office try resolve concern case xxxx   \n",
       "16                                                                                                                                                                                                                                                                                                         sofa love seat chair charge bank claim furniture money   \n",
       "17                                                                                                                                                                                                                                                                                                            card didnt realize today deposit money bank account   \n",
       "18                                                                                  send email today title information regard change chase account title ad communication force bind arbitration something part contract method information consequence problem chase account chase email require mail letter information order loss time money malpractice chase   \n",
       "19  purchase amount charge transaction place dispute case bank xxxx charge account call credit charge tell charge post credit debt card monday try use bank account activity shock report fraud account dispute department place dispute case charge charge credit account day dispute department monday explain thaxxxx credit account dispute claim escalati...   \n",
       "\n",
       "    complaint_length  \\\n",
       "0                175   \n",
       "1                117   \n",
       "2                 81   \n",
       "3                429   \n",
       "4                163   \n",
       "5                  7   \n",
       "6                564   \n",
       "7                605   \n",
       "8               1265   \n",
       "9                 45   \n",
       "10                17   \n",
       "11               216   \n",
       "12               132   \n",
       "13               171   \n",
       "14               643   \n",
       "15               177   \n",
       "16                54   \n",
       "17                51   \n",
       "18               269   \n",
       "19               570   \n",
       "\n",
       "                                                                                                                                                                                                                                                                                                                                                  Complaint_clean  \n",
       "0                                                                                                                                                                                 morning name appreciate chase bank cardmember service chase debt verification statement bank debt mail month attempt debt right information consumer chase account advance help  \n",
       "1                                                                                                                                                                                                                                                    card tell agent date information order upgrade account change anniversary date consent  record agent mislead  \n",
       "2                                                                                                                                                                                                                                                                               card report application submit identity consent service credit identity applicant  \n",
       "3   try book ticket come offer apply ticket card information offer decision bank chase bank get notification screen spoke application deny state information  offer credit offer account statement purchase ticket get deny account application withdrawn oblige happen application  request proceed application tell chase chase fact credit account name rep...  \n",
       "4                                                                                                                                                                                             son check deposit chase account fund bank account money son check money bank refuse pay money son call time check owner country time date number claim number chase  \n",
       "5                                                                                                                                                                                                                                                                                                                                                         inquiry  \n",
       "6   jp restrict account debit card tuesday thursday branch customer service account branch fund deposit place employment bank customer service assure fund business day attempt branch fund look fund statement call tell business day state tuesday date fund bank teller chase mail check business day fund owe account bind fee rent car payment thing peac...  \n",
       "7   summer month experience income employment month payment extension auto loan company year payment extension grant auto loan payment month payment extension deny year situation representative supervisor avail discussion wait reason decline reason baffle office  executive director communication jpmorgan contact chase followup week office call repr...  \n",
       "8   payment online retailer use pay chase website confirmation product response inquiry regard order contact information transaction attempt retailer bank message  way transaction contact information recipient message review response restate email transfer mention scam handle inquiry email require expertise team order assist consumer online support...  \n",
       "9                                                                                                                                                                                                                                                                                                                   chase credit card credit report company issue  \n",
       "10                                                                                                                                                                                                                                                                                                                                                  account auto   \n",
       "11                                                                                                                                       reach time inquiry tell contact creditor place report attempt bank contact bureau inquiry authorize get person care issue nobody im talkin chase bank inquiry credit report action kind credit chase bank account matter  \n",
       "12                                                                                                                                                                                                                                   account bank  use code bonus call term tell everything account  deposit bonus day deposit tell account coupon code day bonus  \n",
       "13                                                                                                                                                                                    concern bank charge fee alert balance fee balance transaction change order charge overdraft fee guideline dont refund matter bank fault money chase refund way refund place  \n",
       "14  chase decline cater order place amount contact chase noon today ask number account account respond customer rep tell keep line didnt call hour contact chase thought someone use card rep transfer supervisor card transaction cater company card decline use card pay order purchase respond contact caterer decline rep question use code caterer respon...  \n",
       "15                                                                                                                                                                                  save account bonus bonus auto transfer check transfer cancel fund check account fund account request executive team transfer month executive office try resolve concern case   \n",
       "16                                                                                                                                                                                                                                                                                                         sofa love seat chair charge bank claim furniture money  \n",
       "17                                                                                                                                                                                                                                                                                                            card didnt realize today deposit money bank account  \n",
       "18                                                                                  send email today title information regard change chase account title ad communication force bind arbitration something part contract method information consequence problem chase account chase email require mail letter information order loss time money malpractice chase  \n",
       "19  purchase amount charge transaction place dispute case bank  charge account call credit charge tell charge post credit debt card monday try use bank account activity shock report fraud account dispute department place dispute case charge charge credit account day dispute department monday explain tha credit account dispute claim escalation manag...  "
      ]
     },
     "execution_count": 28,
     "metadata": {},
     "output_type": "execute_result"
    }
   ],
   "source": [
    "# All masked texts has been removed\n",
    "df_clean.head(20)"
   ]
  },
  {
   "cell_type": "markdown",
   "id": "5e8fb5e2",
   "metadata": {},
   "source": [
    "### <span style=\"color:navy\">Observation:</span>\n",
    "- All masked texts has been removed\n"
   ]
  },
  {
   "cell_type": "markdown",
   "id": "602f504c",
   "metadata": {
    "id": "k-I0k0QtJrGA",
    "papermill": {
     "duration": 2.74988,
     "end_time": "2022-01-13T18:53:36.821570",
     "exception": false,
     "start_time": "2022-01-13T18:53:34.071690",
     "status": "completed"
    },
    "tags": []
   },
   "source": [
    "## Feature Extraction\n",
    "Convert the raw texts to a matrix of TF-IDF features\n",
    "\n",
    "**max_df** is used for removing terms that appear too frequently, also known as \"corpus-specific stop words\"\n",
    "max_df = 0.95 means \"ignore terms that appear in more than 95% of the complaints\"\n",
    "\n",
    "**min_df** is used for removing terms that appear too infrequently\n",
    "min_df = 2 means \"ignore terms that appear in less than 2 complaints\""
   ]
  },
  {
   "cell_type": "code",
   "execution_count": 29,
   "id": "c561f2f6",
   "metadata": {
    "execution": {
     "iopub.execute_input": "2022-01-13T18:53:42.200878Z",
     "iopub.status.busy": "2022-01-13T18:53:42.200201Z",
     "iopub.status.idle": "2022-01-13T18:53:42.203474Z",
     "shell.execute_reply": "2022-01-13T18:53:42.202938Z",
     "shell.execute_reply.started": "2022-01-13T18:10:10.443873Z"
    },
    "id": "Y8fGwaCPJrGA",
    "papermill": {
     "duration": 2.73762,
     "end_time": "2022-01-13T18:53:42.203624",
     "exception": false,
     "start_time": "2022-01-13T18:53:39.466004",
     "status": "completed"
    },
    "tags": []
   },
   "outputs": [],
   "source": [
    "# Initialise the TfidfVectorizer \n",
    "\n",
    "# Remove common English stop words, ignore terms occurring in over 95% or in fewer than 2 documents, \n",
    "# enhancing the quality of the generated vectors.\n",
    "tfidf = TfidfVectorizer(max_df=0.95, min_df=2, stop_words=\"english\")"
   ]
  },
  {
   "cell_type": "markdown",
   "id": "3aaa6aa9",
   "metadata": {
    "id": "yYzD85nTJrGA",
    "papermill": {
     "duration": 2.758432,
     "end_time": "2022-01-13T18:53:47.601284",
     "exception": false,
     "start_time": "2022-01-13T18:53:44.842852",
     "status": "completed"
    },
    "tags": []
   },
   "source": [
    "#### Create a document term matrix using fit_transform\n",
    "\n",
    "The contents of a document term matrix are tuples of (complaint_id,token_id) tf-idf score:\n",
    "The tuples that are not there have a tf-idf score of 0"
   ]
  },
  {
   "cell_type": "code",
   "execution_count": 30,
   "id": "6f32c1e0",
   "metadata": {
    "execution": {
     "iopub.execute_input": "2022-01-13T18:53:53.201544Z",
     "iopub.status.busy": "2022-01-13T18:53:53.200771Z",
     "iopub.status.idle": "2022-01-13T18:53:54.864731Z",
     "shell.execute_reply": "2022-01-13T18:53:54.864133Z",
     "shell.execute_reply.started": "2022-01-13T18:10:10.452605Z"
    },
    "id": "ffzdDpp_JrGB",
    "papermill": {
     "duration": 4.40362,
     "end_time": "2022-01-13T18:53:54.864879",
     "exception": false,
     "start_time": "2022-01-13T18:53:50.461259",
     "status": "completed"
    },
    "tags": []
   },
   "outputs": [],
   "source": [
    "# Write your code here to create the Document Term Matrix by transforming the complaints column present in df_clean.\n",
    "dtm = tfidf.fit_transform(df_clean.Complaint_clean)"
   ]
  },
  {
   "cell_type": "markdown",
   "id": "68fb5b36",
   "metadata": {},
   "source": [
    "### <span style=\"color:navy\">Observation:</span>\n",
    "\n",
    "\n",
    "- TF-IDF vectorizer (`tfidf`) is fitted to the cleaned complaint text data (`df_clean.Complaint_clean`) and transformed it into a document-term matrix (DTM). \n",
    "- It converts the text data into a numerical format \n"
   ]
  },
  {
   "cell_type": "markdown",
   "id": "36de1ca6",
   "metadata": {
    "id": "7Q9lwvNEJrGB",
    "papermill": {
     "duration": 2.700309,
     "end_time": "2022-01-13T18:54:00.396740",
     "exception": false,
     "start_time": "2022-01-13T18:53:57.696431",
     "status": "completed"
    },
    "tags": []
   },
   "source": [
    "## Topic Modelling using NMF\n",
    "\n",
    "Non-Negative Matrix Factorization (NMF) is an unsupervised technique so there are no labeling of topics that the model will be trained on. The way it works is that, NMF decomposes (or factorizes) high-dimensional vectors into a lower-dimensional representation. These lower-dimensional vectors are non-negative which also means their coefficients are non-negative.\n",
    "\n",
    "In this task we will perform the following:\n",
    "\n",
    "* Find the best number of clusters \n",
    "* Apply the best number to create word clusters\n",
    "* Inspect & validate the correction of each cluster wrt the complaints \n",
    "* Correct the labels if needed \n",
    "* Map the clusters to topics/cluster names"
   ]
  },
  {
   "cell_type": "code",
   "execution_count": 31,
   "id": "cfa80539",
   "metadata": {
    "execution": {
     "iopub.execute_input": "2022-01-13T18:54:05.790214Z",
     "iopub.status.busy": "2022-01-13T18:54:05.789156Z",
     "iopub.status.idle": "2022-01-13T18:54:05.825421Z",
     "shell.execute_reply": "2022-01-13T18:54:05.825912Z",
     "shell.execute_reply.started": "2022-01-13T18:10:12.102457Z"
    },
    "id": "amLT4omWJrGB",
    "papermill": {
     "duration": 2.734727,
     "end_time": "2022-01-13T18:54:05.826154",
     "exception": false,
     "start_time": "2022-01-13T18:54:03.091427",
     "status": "completed"
    },
    "tags": []
   },
   "outputs": [],
   "source": [
    "from sklearn.decomposition import NMF"
   ]
  },
  {
   "cell_type": "markdown",
   "id": "f515cd45",
   "metadata": {
    "id": "0wYR1xUTJrGD",
    "papermill": {
     "duration": 2.682118,
     "end_time": "2022-01-13T18:54:11.411364",
     "exception": false,
     "start_time": "2022-01-13T18:54:08.729246",
     "status": "completed"
    },
    "tags": []
   },
   "source": [
    "## Manual Topic Modeling\n",
    "You need to do take the trial & error approach to find the best num of topics for your NMF model.\n",
    "\n",
    "The only parameter that is required is the number of components i.e. the number of topics we want. This is the most crucial step in the whole topic modeling process and will greatly affect how good your final topics are."
   ]
  },
  {
   "cell_type": "code",
   "execution_count": 32,
   "id": "e3858b6b",
   "metadata": {
    "execution": {
     "iopub.execute_input": "2022-01-13T18:54:16.795319Z",
     "iopub.status.busy": "2022-01-13T18:54:16.794352Z",
     "iopub.status.idle": "2022-01-13T18:54:16.797311Z",
     "shell.execute_reply": "2022-01-13T18:54:16.796743Z",
     "shell.execute_reply.started": "2022-01-13T18:10:12.136287Z"
    },
    "id": "sgd2A6bhJrGD",
    "papermill": {
     "duration": 2.734538,
     "end_time": "2022-01-13T18:54:16.797456",
     "exception": false,
     "start_time": "2022-01-13T18:54:14.062918",
     "status": "completed"
    },
    "tags": []
   },
   "outputs": [],
   "source": [
    "# Load your nmf_model with the n_components i.e 5\n",
    "num_topics = 5 # write the value you want to test out\n",
    "\n",
    "# keep the random_state = 40\n",
    "nmf_model = NMF(n_components=num_topics, random_state=40) "
   ]
  },
  {
   "cell_type": "code",
   "execution_count": 33,
   "id": "157feb24",
   "metadata": {
    "execution": {
     "iopub.execute_input": "2022-01-13T18:54:22.219608Z",
     "iopub.status.busy": "2022-01-13T18:54:22.218572Z",
     "iopub.status.idle": "2022-01-13T18:54:23.264493Z",
     "shell.execute_reply": "2022-01-13T18:54:23.265347Z",
     "shell.execute_reply.started": "2022-01-13T18:10:12.141995Z"
    },
    "id": "VPMDYbt_JrGE",
    "papermill": {
     "duration": 3.771197,
     "end_time": "2022-01-13T18:54:23.265666",
     "exception": false,
     "start_time": "2022-01-13T18:54:19.494469",
     "status": "completed"
    },
    "tags": []
   },
   "outputs": [
    {
     "data": {
      "text/plain": [
       "7292"
      ]
     },
     "execution_count": 33,
     "metadata": {},
     "output_type": "execute_result"
    }
   ],
   "source": [
    "nmf_model.fit(dtm)\n",
    "len(tfidf.get_feature_names_out())"
   ]
  },
  {
   "cell_type": "code",
   "execution_count": 34,
   "id": "53e841a5",
   "metadata": {
    "execution": {
     "iopub.execute_input": "2022-01-13T18:54:28.604273Z",
     "iopub.status.busy": "2022-01-13T18:54:28.603289Z",
     "iopub.status.idle": "2022-01-13T18:54:28.846947Z",
     "shell.execute_reply": "2022-01-13T18:54:28.846326Z",
     "shell.execute_reply.started": "2022-01-13T18:10:13.149592Z"
    },
    "id": "16kRfat5JrGE",
    "papermill": {
     "duration": 2.895506,
     "end_time": "2022-01-13T18:54:28.847119",
     "exception": false,
     "start_time": "2022-01-13T18:54:25.951613",
     "status": "completed"
    },
    "tags": []
   },
   "outputs": [
    {
     "name": "stdout",
     "output_type": "stream",
     "text": [
      "\u001b[1mThe Top 15 Words For Topic #1 \u001b[0m\n",
      "['business', 'tell', 'claim', 'transfer', 'number', 'transaction', 'branch', 'day', 'fund', 'deposit', 'chase', 'money', 'check', 'bank', 'account']\n",
      "\n",
      "\n",
      "\u001b[1mThe Top 15 Words For Topic #2 \u001b[0m\n",
      "['year', 'application', 'letter', 'limit', 'debt', 'bureau', 'information', 'score', 'company', 'account', 'chase', 'inquiry', 'report', 'card', 'credit']\n",
      "\n",
      "\n",
      "\u001b[1mThe Top 15 Words For Topic #3 \u001b[0m\n",
      "['bank', 'document', 'foreclosure', 'sale', 'house', 'time', 'rate', 'letter', 'year', 'property', 'modification', 'chase', 'home', 'mortgage', 'loan']\n",
      "\n",
      "\n",
      "\u001b[1mThe Top 15 Words For Topic #4 \u001b[0m\n",
      "['balance', 'statement', 'pay', 'service', 'refund', 'fraud', 'claim', 'merchant', 'purchase', 'transaction', 'dispute', 'chase', 'card', 'fee', 'charge']\n",
      "\n",
      "\n",
      "\u001b[1mThe Top 15 Words For Topic #5 \u001b[0m\n",
      "['mortgage', 'year', 'account', 'credit', 'chase', 'date', 'time', 'auto', 'day', 'fee', 'statement', 'month', 'balance', 'pay', 'payment']\n",
      "\n",
      "\n"
     ]
    }
   ],
   "source": [
    "# Print the Top15 words for each of the topics\n",
    "for index,topic in enumerate(nmf_model.components_):\n",
    "    print(f'\\033[1mThe Top 15 Words For Topic #{index + 1}', '\\033[0m')\n",
    "    print([tfidf.get_feature_names_out()[i] for i in topic.argsort()[-15:]])\n",
    "    print('\\n')"
   ]
  },
  {
   "cell_type": "code",
   "execution_count": 35,
   "id": "d3c1d0f7",
   "metadata": {
    "execution": {
     "iopub.execute_input": "2022-01-13T18:54:34.315256Z",
     "iopub.status.busy": "2022-01-13T18:54:34.314558Z",
     "iopub.status.idle": "2022-01-13T18:54:34.357986Z",
     "shell.execute_reply": "2022-01-13T18:54:34.357437Z",
     "shell.execute_reply.started": "2022-01-13T18:10:13.442829Z"
    },
    "id": "0OIT7LmFJrGF",
    "papermill": {
     "duration": 2.777656,
     "end_time": "2022-01-13T18:54:34.358152",
     "exception": false,
     "start_time": "2022-01-13T18:54:31.580496",
     "status": "completed"
    },
    "tags": []
   },
   "outputs": [
    {
     "data": {
      "text/plain": [
       "array([0, 1, 1, ..., 3, 4, 4])"
      ]
     },
     "execution_count": 35,
     "metadata": {},
     "output_type": "execute_result"
    }
   ],
   "source": [
    "# Create the best topic for each complaint in terms of integer value 0,1,2,3 & 4\n",
    "topic_results = nmf_model.transform(dtm)\n",
    "topic_results[0].round(2)\n",
    "topic_results[0].argmax()\n",
    "topic_results.argmax(axis=1)"
   ]
  },
  {
   "cell_type": "code",
   "execution_count": 36,
   "id": "08a9f994",
   "metadata": {
    "execution": {
     "iopub.execute_input": "2022-01-13T18:54:39.824446Z",
     "iopub.status.busy": "2022-01-13T18:54:39.823651Z",
     "iopub.status.idle": "2022-01-13T18:54:39.829344Z",
     "shell.execute_reply": "2022-01-13T18:54:39.829947Z",
     "shell.execute_reply.started": "2022-01-13T18:10:13.487003Z"
    },
    "id": "peyYv-ORJrGF",
    "papermill": {
     "duration": 2.794875,
     "end_time": "2022-01-13T18:54:39.830186",
     "exception": false,
     "start_time": "2022-01-13T18:54:37.035311",
     "status": "completed"
    },
    "tags": []
   },
   "outputs": [],
   "source": [
    "#Assign the best topic to each of the cmplaints in Topic Column\n",
    "df_clean['Topic'] = topic_results.argmax(axis = 1) # assign topics to each rows."
   ]
  },
  {
   "cell_type": "code",
   "execution_count": 37,
   "id": "3c5a66a0",
   "metadata": {
    "execution": {
     "iopub.execute_input": "2022-01-13T18:54:45.500215Z",
     "iopub.status.busy": "2022-01-13T18:54:45.499484Z",
     "iopub.status.idle": "2022-01-13T18:54:45.502215Z",
     "shell.execute_reply": "2022-01-13T18:54:45.502796Z",
     "shell.execute_reply.started": "2022-01-13T18:10:13.495248Z"
    },
    "id": "fLh_Gf3nJrGF",
    "papermill": {
     "duration": 2.760404,
     "end_time": "2022-01-13T18:54:45.502963",
     "exception": false,
     "start_time": "2022-01-13T18:54:42.742559",
     "status": "completed"
    },
    "tags": []
   },
   "outputs": [
    {
     "data": {
      "text/html": [
       "<div>\n",
       "<style scoped>\n",
       "    .dataframe tbody tr th:only-of-type {\n",
       "        vertical-align: middle;\n",
       "    }\n",
       "\n",
       "    .dataframe tbody tr th {\n",
       "        vertical-align: top;\n",
       "    }\n",
       "\n",
       "    .dataframe thead th {\n",
       "        text-align: right;\n",
       "    }\n",
       "</style>\n",
       "<table border=\"1\" class=\"dataframe\">\n",
       "  <thead>\n",
       "    <tr style=\"text-align: right;\">\n",
       "      <th></th>\n",
       "      <th>complaint_what_happened</th>\n",
       "      <th>lemmatized_complaints</th>\n",
       "      <th>complaint_POS_removed</th>\n",
       "      <th>complaint_length</th>\n",
       "      <th>Complaint_clean</th>\n",
       "      <th>Topic</th>\n",
       "    </tr>\n",
       "  </thead>\n",
       "  <tbody>\n",
       "    <tr>\n",
       "      <th>0</th>\n",
       "      <td>Good morning my name is XXXX XXXX and I appreciate it if you could help me put a stop to Chase Bank cardmember services. \\nIn 2018 I wrote to Chase asking for debt verification and what they sent me a statement which is not acceptable. I am asking the bank to validate the debt. Instead I been receiving mail every month from them attempting to c...</td>\n",
       "      <td>good morning name xxxx xxxx appreciate could help put stop chase bank cardmember service write chase ask debt verification send statement acceptable ask bank validate debt instead receive mail every month attempt collect debt right know information consumer chase account xxxx xxxx xxxx xxxx thanks advance help</td>\n",
       "      <td>morning name appreciate chase bank cardmember service chase debt verification statement bank debt mail month attempt debt right information consumer chase account advance help</td>\n",
       "      <td>175</td>\n",
       "      <td>morning name appreciate chase bank cardmember service chase debt verification statement bank debt mail month attempt debt right information consumer chase account advance help</td>\n",
       "      <td>0</td>\n",
       "    </tr>\n",
       "    <tr>\n",
       "      <th>1</th>\n",
       "      <td>I upgraded my XXXX XXXX card in XX/XX/2018 and was told by the agent who did the upgrade my anniversary date would not change. It turned the agent was giving me the wrong information in order to upgrade the account. XXXX   changed my anniversary date from XX/XX/XXXX to XX/XX/XXXX without my consent! XXXX has the recording of the agent who was m...</td>\n",
       "      <td>upgraded xxxx xxxx card xxxx tell agent upgrade anniversary date would change turned agent give wrong information order upgrade account xxxx change anniversary date xxxxxxxx xxxxxxxx without consent xxxx record agent mislead</td>\n",
       "      <td>xxxx card tell agent date information order upgrade account change anniversary date consent xxxx record agent mislead</td>\n",
       "      <td>117</td>\n",
       "      <td>card tell agent date information order upgrade account change anniversary date consent  record agent mislead</td>\n",
       "      <td>1</td>\n",
       "    </tr>\n",
       "    <tr>\n",
       "      <th>2</th>\n",
       "      <td>Chase Card was reported on XX/XX/2019. However, fraudulent application have been submitted my identity without my consent to fraudulently obtain services. Do not extend credit without verifying the identity of the applicant.</td>\n",
       "      <td>chase card report xxxx however fraudulent application submit identity without consent fraudulently obtain service extend credit without verify identity applicant</td>\n",
       "      <td>card report application submit identity consent service credit identity applicant</td>\n",
       "      <td>81</td>\n",
       "      <td>card report application submit identity consent service credit identity applicant</td>\n",
       "      <td>1</td>\n",
       "    </tr>\n",
       "    <tr>\n",
       "      <th>3</th>\n",
       "      <td>On XX/XX/2018, while trying to book a XXXX  XXXX  ticket, I came across an offer for {$300.00} to be applied towards the ticket if I applied for a rewards card. I put in my information for the offer and within less than a minute, was notified via the screen that a decision could not be made. I immediately contacted XXXX and was referred to Chas...</td>\n",
       "      <td>xxxx try book xxxx xxxx ticket come across offer apply towards ticket apply reward card put information offer within less minute notified via screen decision could make immediately contacted xxxx refer chase bank immediately contact chase bank within minute get notification screen tell chase representative spoke application deny could state ask...</td>\n",
       "      <td>try book ticket come offer apply ticket card information offer decision bank chase bank get notification screen spoke application deny state information xxxx offer credit offer account statement purchase ticket get deny account application withdrawn oblige happen application xxxx request proceed application tell chase chase fact credit account ...</td>\n",
       "      <td>429</td>\n",
       "      <td>try book ticket come offer apply ticket card information offer decision bank chase bank get notification screen spoke application deny state information  offer credit offer account statement purchase ticket get deny account application withdrawn oblige happen application  request proceed application tell chase chase fact credit account name rep...</td>\n",
       "      <td>1</td>\n",
       "    </tr>\n",
       "    <tr>\n",
       "      <th>4</th>\n",
       "      <td>my grand son give me check for {$1600.00} i deposit it into my chase account after fund clear my chase bank closed my account never paid me my money they said they need to speek with my grand son check was clear money was taking by my chase bank refuse to pay me my money my grand son called chase 2 times they told him i should call not him to v...</td>\n",
       "      <td>grand son give check deposit chase account fund clear chase bank close account never pay money say need speek grand son check clear money take chase bank refuse pay money grand son call chase time tell call verify check owner country time date happen xxxx check number xxxx claim number xxxx chase</td>\n",
       "      <td>son check deposit chase account fund bank account money son check money bank refuse pay money son call time check owner country time date number claim number chase</td>\n",
       "      <td>163</td>\n",
       "      <td>son check deposit chase account fund bank account money son check money bank refuse pay money son call time check owner country time date number claim number chase</td>\n",
       "      <td>0</td>\n",
       "    </tr>\n",
       "  </tbody>\n",
       "</table>\n",
       "</div>"
      ],
      "text/plain": [
       "                                                                                                                                                                                                                                                                                                                                         complaint_what_happened  \\\n",
       "0  Good morning my name is XXXX XXXX and I appreciate it if you could help me put a stop to Chase Bank cardmember services. \\nIn 2018 I wrote to Chase asking for debt verification and what they sent me a statement which is not acceptable. I am asking the bank to validate the debt. Instead I been receiving mail every month from them attempting to c...   \n",
       "1  I upgraded my XXXX XXXX card in XX/XX/2018 and was told by the agent who did the upgrade my anniversary date would not change. It turned the agent was giving me the wrong information in order to upgrade the account. XXXX   changed my anniversary date from XX/XX/XXXX to XX/XX/XXXX without my consent! XXXX has the recording of the agent who was m...   \n",
       "2                                                                                                                               Chase Card was reported on XX/XX/2019. However, fraudulent application have been submitted my identity without my consent to fraudulently obtain services. Do not extend credit without verifying the identity of the applicant.   \n",
       "3  On XX/XX/2018, while trying to book a XXXX  XXXX  ticket, I came across an offer for {$300.00} to be applied towards the ticket if I applied for a rewards card. I put in my information for the offer and within less than a minute, was notified via the screen that a decision could not be made. I immediately contacted XXXX and was referred to Chas...   \n",
       "4  my grand son give me check for {$1600.00} i deposit it into my chase account after fund clear my chase bank closed my account never paid me my money they said they need to speek with my grand son check was clear money was taking by my chase bank refuse to pay me my money my grand son called chase 2 times they told him i should call not him to v...   \n",
       "\n",
       "                                                                                                                                                                                                                                                                                                                                           lemmatized_complaints  \\\n",
       "0                                        good morning name xxxx xxxx appreciate could help put stop chase bank cardmember service write chase ask debt verification send statement acceptable ask bank validate debt instead receive mail every month attempt collect debt right know information consumer chase account xxxx xxxx xxxx xxxx thanks advance help   \n",
       "1                                                                                                                               upgraded xxxx xxxx card xxxx tell agent upgrade anniversary date would change turned agent give wrong information order upgrade account xxxx change anniversary date xxxxxxxx xxxxxxxx without consent xxxx record agent mislead   \n",
       "2                                                                                                                                                                                              chase card report xxxx however fraudulent application submit identity without consent fraudulently obtain service extend credit without verify identity applicant   \n",
       "3  xxxx try book xxxx xxxx ticket come across offer apply towards ticket apply reward card put information offer within less minute notified via screen decision could make immediately contacted xxxx refer chase bank immediately contact chase bank within minute get notification screen tell chase representative spoke application deny could state ask...   \n",
       "4                                                      grand son give check deposit chase account fund clear chase bank close account never pay money say need speek grand son check clear money take chase bank refuse pay money grand son call chase time tell call verify check owner country time date happen xxxx check number xxxx claim number xxxx chase   \n",
       "\n",
       "                                                                                                                                                                                                                                                                                                                                           complaint_POS_removed  \\\n",
       "0                                                                                                                                                                                morning name appreciate chase bank cardmember service chase debt verification statement bank debt mail month attempt debt right information consumer chase account advance help   \n",
       "1                                                                                                                                                                                                                                          xxxx card tell agent date information order upgrade account change anniversary date consent xxxx record agent mislead   \n",
       "2                                                                                                                                                                                                                                                                              card report application submit identity consent service credit identity applicant   \n",
       "3  try book ticket come offer apply ticket card information offer decision bank chase bank get notification screen spoke application deny state information xxxx offer credit offer account statement purchase ticket get deny account application withdrawn oblige happen application xxxx request proceed application tell chase chase fact credit account ...   \n",
       "4                                                                                                                                                                                            son check deposit chase account fund bank account money son check money bank refuse pay money son call time check owner country time date number claim number chase   \n",
       "\n",
       "   complaint_length  \\\n",
       "0               175   \n",
       "1               117   \n",
       "2                81   \n",
       "3               429   \n",
       "4               163   \n",
       "\n",
       "                                                                                                                                                                                                                                                                                                                                                 Complaint_clean  \\\n",
       "0                                                                                                                                                                                morning name appreciate chase bank cardmember service chase debt verification statement bank debt mail month attempt debt right information consumer chase account advance help   \n",
       "1                                                                                                                                                                                                                                                   card tell agent date information order upgrade account change anniversary date consent  record agent mislead   \n",
       "2                                                                                                                                                                                                                                                                              card report application submit identity consent service credit identity applicant   \n",
       "3  try book ticket come offer apply ticket card information offer decision bank chase bank get notification screen spoke application deny state information  offer credit offer account statement purchase ticket get deny account application withdrawn oblige happen application  request proceed application tell chase chase fact credit account name rep...   \n",
       "4                                                                                                                                                                                            son check deposit chase account fund bank account money son check money bank refuse pay money son call time check owner country time date number claim number chase   \n",
       "\n",
       "   Topic  \n",
       "0      0  \n",
       "1      1  \n",
       "2      1  \n",
       "3      1  \n",
       "4      0  "
      ]
     },
     "execution_count": 37,
     "metadata": {},
     "output_type": "execute_result"
    }
   ],
   "source": [
    "df_clean.head()"
   ]
  },
  {
   "cell_type": "markdown",
   "id": "dd93a3c3",
   "metadata": {},
   "source": [
    "### <span style=\"color:navy\">Observation:</span>\n",
    "- Used NMF (Non-negative Matrix Factorization) model (`nmf_model`) 5 topices. \n",
    "\n",
    "- Fitteded the NMF model to the document-term matrix (`dtm`), which contains TF-IDF scores for terms in the complaint text data.\n",
    "\n",
    "- Got top 15 words for each topic, \n",
    "\n",
    "- For each complaint, topic with the highest probability (i.e., the dominant topic) was assigned it as the topic of that complaint.\n",
    "\n",
    "- Observed first few rows of the `df_clean` DataFrame, and it shows the assigned topics for each complaint.\n"
   ]
  },
  {
   "cell_type": "code",
   "execution_count": 38,
   "id": "aa7ee5e6",
   "metadata": {
    "execution": {
     "iopub.execute_input": "2022-01-13T18:54:50.916963Z",
     "iopub.status.busy": "2022-01-13T18:54:50.916137Z",
     "iopub.status.idle": "2022-01-13T18:54:50.937109Z",
     "shell.execute_reply": "2022-01-13T18:54:50.937716Z",
     "shell.execute_reply.started": "2022-01-13T18:10:13.515336Z"
    },
    "id": "aQKpufSPJrGG",
    "papermill": {
     "duration": 2.656095,
     "end_time": "2022-01-13T18:54:50.937885",
     "exception": false,
     "start_time": "2022-01-13T18:54:48.281790",
     "status": "completed"
    },
    "tags": []
   },
   "outputs": [
    {
     "data": {
      "text/html": [
       "<div>\n",
       "<style scoped>\n",
       "    .dataframe tbody tr th:only-of-type {\n",
       "        vertical-align: middle;\n",
       "    }\n",
       "\n",
       "    .dataframe tbody tr th {\n",
       "        vertical-align: top;\n",
       "    }\n",
       "\n",
       "    .dataframe thead th {\n",
       "        text-align: right;\n",
       "    }\n",
       "</style>\n",
       "<table border=\"1\" class=\"dataframe\">\n",
       "  <thead>\n",
       "    <tr style=\"text-align: right;\">\n",
       "      <th></th>\n",
       "      <th>complaint_what_happened</th>\n",
       "      <th>lemmatized_complaints</th>\n",
       "      <th>complaint_POS_removed</th>\n",
       "      <th>complaint_length</th>\n",
       "      <th>Complaint_clean</th>\n",
       "      <th>Topic</th>\n",
       "    </tr>\n",
       "  </thead>\n",
       "  <tbody>\n",
       "    <tr>\n",
       "      <th>0</th>\n",
       "      <td>Good morning my name is XXXX XXXX and I appreciate it if you could help me put a stop to Chase Bank cardmember services. \\nIn 2018 I wrote to Chase asking for debt verification and what they sent me a statement which is not acceptable. I am asking the bank to validate the debt. Instead I been receiving mail every month from them attempting to c...</td>\n",
       "      <td>good morning name xxxx xxxx appreciate could help put stop chase bank cardmember service write chase ask debt verification send statement acceptable ask bank validate debt instead receive mail every month attempt collect debt right know information consumer chase account xxxx xxxx xxxx xxxx thanks advance help</td>\n",
       "      <td>morning name appreciate chase bank cardmember service chase debt verification statement bank debt mail month attempt debt right information consumer chase account advance help</td>\n",
       "      <td>175</td>\n",
       "      <td>morning name appreciate chase bank cardmember service chase debt verification statement bank debt mail month attempt debt right information consumer chase account advance help</td>\n",
       "      <td>0</td>\n",
       "    </tr>\n",
       "    <tr>\n",
       "      <th>4</th>\n",
       "      <td>my grand son give me check for {$1600.00} i deposit it into my chase account after fund clear my chase bank closed my account never paid me my money they said they need to speek with my grand son check was clear money was taking by my chase bank refuse to pay me my money my grand son called chase 2 times they told him i should call not him to v...</td>\n",
       "      <td>grand son give check deposit chase account fund clear chase bank close account never pay money say need speek grand son check clear money take chase bank refuse pay money grand son call chase time tell call verify check owner country time date happen xxxx check number xxxx claim number xxxx chase</td>\n",
       "      <td>son check deposit chase account fund bank account money son check money bank refuse pay money son call time check owner country time date number claim number chase</td>\n",
       "      <td>163</td>\n",
       "      <td>son check deposit chase account fund bank account money son check money bank refuse pay money son call time check owner country time date number claim number chase</td>\n",
       "      <td>0</td>\n",
       "    </tr>\n",
       "    <tr>\n",
       "      <th>6</th>\n",
       "      <td>With out notice J.P. Morgan Chase restricted my account by my debit card Tuesday XX/XX/2019. On Thursday XX/XX/2019 I went into A branch after being advised by a customer service representative that my account would actually be closed. I went into the branch to see how I can remove the funds that are in there currently in as well as if my direc...</td>\n",
       "      <td>notice jp morgan chase restrict account debit card tuesday xxxx thursday xxxx go branch advise customer service representative account would actually close go branch see remove fund currently well direct deposit place employment would return bank associate customer service representative assure fund would post may take additional business day s...</td>\n",
       "      <td>jp restrict account debit card tuesday thursday branch customer service account branch fund deposit place employment bank customer service assure fund business day attempt branch fund look fund statement call tell business day state tuesday date fund bank teller chase mail check business day fund owe account bind fee rent car payment thing peac...</td>\n",
       "      <td>564</td>\n",
       "      <td>jp restrict account debit card tuesday thursday branch customer service account branch fund deposit place employment bank customer service assure fund business day attempt branch fund look fund statement call tell business day state tuesday date fund bank teller chase mail check business day fund owe account bind fee rent car payment thing peac...</td>\n",
       "      <td>0</td>\n",
       "    </tr>\n",
       "    <tr>\n",
       "      <th>10</th>\n",
       "      <td>mishandling of this account by Chase auto and XXXX.</td>\n",
       "      <td>mishandle account chase auto xxxx</td>\n",
       "      <td>account auto xxxx</td>\n",
       "      <td>17</td>\n",
       "      <td>account auto</td>\n",
       "      <td>0</td>\n",
       "    </tr>\n",
       "    <tr>\n",
       "      <th>12</th>\n",
       "      <td>I opened an account with chase bank on XXXX and used a code for XXXX bonus. I called to follow up on XX/XX/XXXX about the terms and was told everything was on the account and once I made XXXX direct deposit the bonus would be paid out in 10 days. As of XXXX I had made the required deposits and was told my account never had the coupon code appli...</td>\n",
       "      <td>open account chase bank xxxx use code xxxx bonus call follow xxxxxxxx term tell everything account make xxxx direct deposit bonus would pay day xxxx make require deposit tell account never coupon code apply past day bonus would pay</td>\n",
       "      <td>account bank xxxx use code bonus call term tell everything account xxxx deposit bonus day deposit tell account coupon code day bonus</td>\n",
       "      <td>132</td>\n",
       "      <td>account bank  use code bonus call term tell everything account  deposit bonus day deposit tell account coupon code day bonus</td>\n",
       "      <td>0</td>\n",
       "    </tr>\n",
       "    <tr>\n",
       "      <th>1</th>\n",
       "      <td>I upgraded my XXXX XXXX card in XX/XX/2018 and was told by the agent who did the upgrade my anniversary date would not change. It turned the agent was giving me the wrong information in order to upgrade the account. XXXX   changed my anniversary date from XX/XX/XXXX to XX/XX/XXXX without my consent! XXXX has the recording of the agent who was m...</td>\n",
       "      <td>upgraded xxxx xxxx card xxxx tell agent upgrade anniversary date would change turned agent give wrong information order upgrade account xxxx change anniversary date xxxxxxxx xxxxxxxx without consent xxxx record agent mislead</td>\n",
       "      <td>xxxx card tell agent date information order upgrade account change anniversary date consent xxxx record agent mislead</td>\n",
       "      <td>117</td>\n",
       "      <td>card tell agent date information order upgrade account change anniversary date consent  record agent mislead</td>\n",
       "      <td>1</td>\n",
       "    </tr>\n",
       "    <tr>\n",
       "      <th>2</th>\n",
       "      <td>Chase Card was reported on XX/XX/2019. However, fraudulent application have been submitted my identity without my consent to fraudulently obtain services. Do not extend credit without verifying the identity of the applicant.</td>\n",
       "      <td>chase card report xxxx however fraudulent application submit identity without consent fraudulently obtain service extend credit without verify identity applicant</td>\n",
       "      <td>card report application submit identity consent service credit identity applicant</td>\n",
       "      <td>81</td>\n",
       "      <td>card report application submit identity consent service credit identity applicant</td>\n",
       "      <td>1</td>\n",
       "    </tr>\n",
       "    <tr>\n",
       "      <th>3</th>\n",
       "      <td>On XX/XX/2018, while trying to book a XXXX  XXXX  ticket, I came across an offer for {$300.00} to be applied towards the ticket if I applied for a rewards card. I put in my information for the offer and within less than a minute, was notified via the screen that a decision could not be made. I immediately contacted XXXX and was referred to Chas...</td>\n",
       "      <td>xxxx try book xxxx xxxx ticket come across offer apply towards ticket apply reward card put information offer within less minute notified via screen decision could make immediately contacted xxxx refer chase bank immediately contact chase bank within minute get notification screen tell chase representative spoke application deny could state ask...</td>\n",
       "      <td>try book ticket come offer apply ticket card information offer decision bank chase bank get notification screen spoke application deny state information xxxx offer credit offer account statement purchase ticket get deny account application withdrawn oblige happen application xxxx request proceed application tell chase chase fact credit account ...</td>\n",
       "      <td>429</td>\n",
       "      <td>try book ticket come offer apply ticket card information offer decision bank chase bank get notification screen spoke application deny state information  offer credit offer account statement purchase ticket get deny account application withdrawn oblige happen application  request proceed application tell chase chase fact credit account name rep...</td>\n",
       "      <td>1</td>\n",
       "    </tr>\n",
       "    <tr>\n",
       "      <th>5</th>\n",
       "      <td>Can you please remove inquiry</td>\n",
       "      <td>please remove inquiry</td>\n",
       "      <td>inquiry</td>\n",
       "      <td>7</td>\n",
       "      <td>inquiry</td>\n",
       "      <td>1</td>\n",
       "    </tr>\n",
       "    <tr>\n",
       "      <th>9</th>\n",
       "      <td>I have a Chase credit card which is incorrectly reporting data on my credit report. The company is not helping resolve the issue.</td>\n",
       "      <td>chase credit card incorrectly report data credit report company help resolve issue</td>\n",
       "      <td>chase credit card credit report company issue</td>\n",
       "      <td>45</td>\n",
       "      <td>chase credit card credit report company issue</td>\n",
       "      <td>1</td>\n",
       "    </tr>\n",
       "    <tr>\n",
       "      <th>47</th>\n",
       "      <td>I am XXXX military member ( XXXX ) with the XXXX. Chase Auto Finance is refusing to pay on the GAP insurance/waiver coverage that I purchased at the time I signed the financing agreement. While stationed at XXXX I purchased a XXXX Cadillac ATS Premium and financed the vehicle with Chase Auto Finance. When I purchased the vehicle the original fi...</td>\n",
       "      <td>xxxx military member xxxx xxxx chase auto finance refuse pay gap insurancewaiver coverage purchase time sign financing agreement station xxxx purchase xxxx cadillac at premium finance vehicle chase auto finance purchase vehicle original financing agreement include option purchase gap insurance additional provider gap insurance xxxx xxxx however...</td>\n",
       "      <td>member auto finance refuse pay gap insurancewaiver coverage purchase time sign agreement station purchase cadillac finance vehicle auto finance purchase vehicle financing agreement option purchase gap insurance provider gap insurance sign gap state insurance agreement chase auto finance deficiency event vehicle auto finance ship vehicle order r...</td>\n",
       "      <td>561</td>\n",
       "      <td>member auto finance refuse pay gap insurancewaiver coverage purchase time sign agreement station purchase cadillac finance vehicle auto finance purchase vehicle financing agreement option purchase gap insurance provider gap insurance sign gap state insurance agreement chase auto finance deficiency event vehicle auto finance ship vehicle order r...</td>\n",
       "      <td>2</td>\n",
       "    </tr>\n",
       "    <tr>\n",
       "      <th>41</th>\n",
       "      <td>My name is XXXX XXXX. I have missed a payment in XX/XX/2018 and was 30 days past due but now current. I applied numerous times for a loan modification to get loss mitigation assistance but did not get any help. Chase only gave me a loan forbearance option. I am XXXX XXXX XXXX and have an issue with refinancing since my DTI is too high because o...</td>\n",
       "      <td>name xxxx xxxx miss payment xxxx day past due current apply numerous time loan modification get loss mitigation assistance get help chase give loan forbearance option xxxx xxxx xxxx issue refinance since dti high excessive debt get decline every time credit score low xxxx</td>\n",
       "      <td>name payment day time loan modification loss mitigation assistance loan forbearance option issue refinance dti debt get time credit xxxx</td>\n",
       "      <td>136</td>\n",
       "      <td>name payment day time loan modification loss mitigation assistance loan forbearance option issue refinance dti debt get time credit</td>\n",
       "      <td>2</td>\n",
       "    </tr>\n",
       "    <tr>\n",
       "      <th>32</th>\n",
       "      <td>I bought a new XXXX XXXX on XX/XX/XXXX from XXXX XXXX XXXX in XXXX. \\nI paid the loan in XX/XX/XXXXbut chase financial never release the title. \\nI contacted chase several time with no resolution. Each time they told me they will release it but nothing was done. \\nNow I moved to another state and I can not get the registration in the other stat...</td>\n",
       "      <td>buy new xxxx xxxx xxxxxxxx xxxx xxxx xxxx xxxx pay loan xxxxxxxxbut chase financial never release title contact chase several time resolution time tell release nothing do move another state get registration state title oblige rent car since use car</td>\n",
       "      <td>pay loan release time resolution time release nothing state get registration state title rent car use car</td>\n",
       "      <td>105</td>\n",
       "      <td>pay loan release time resolution time release nothing state get registration state title rent car use car</td>\n",
       "      <td>2</td>\n",
       "    </tr>\n",
       "    <tr>\n",
       "      <th>30</th>\n",
       "      <td>I have wired through one of Chase branches in XXXX XXXX, the exact Reinstatement Amount of {$43000.00} to JPMorgan Chase Bank In order to remove/withdraw their wrongful foreclosure proceedings on my residential property.\\n\\nHowever, the Chase Executive Ms. XXXX XXXX, and it's trustee, XXXX XXXX XXXX XXXX are not honoring even their own rules an...</td>\n",
       "      <td>wire one chase branch xxxx xxxx exact reinstatement amount jpmorgan chase bank order removewithdraw wrongful foreclosure proceeding residential property however chase executive m xxxx xxxx trustee xxxx xxxx xxxx xxxx honor even rule regulation want total payoff order remove wrongful foreclosure proceeding sale date xxxx xxxx xxxx family residen...</td>\n",
       "      <td>wire chase branch reinstatement amount bank order foreclosure property executive m trustee regulation payoff order foreclosure sale date family resident prepare time reinstatement amount foreclosure resort chapter bankruptcy file appreciate assistant bring jpmorgan foreclosure trustee quality sense stop harass family default claim complaint com...</td>\n",
       "      <td>408</td>\n",
       "      <td>wire chase branch reinstatement amount bank order foreclosure property executive m trustee regulation payoff order foreclosure sale date family resident prepare time reinstatement amount foreclosure resort chapter bankruptcy file appreciate assistant bring jpmorgan foreclosure trustee quality sense stop harass family default claim complaint com...</td>\n",
       "      <td>2</td>\n",
       "    </tr>\n",
       "    <tr>\n",
       "      <th>23</th>\n",
       "      <td>I have been trying to do a loan modification with Chase and all they do is give me the runaround I'm 72 mo behind they dont let me make payments I have aens all doc in but always asking more</td>\n",
       "      <td>try loan modification chase give runaround im mo behind dont let make payment aens doc always ask</td>\n",
       "      <td>try loan modification chase runaround im mo payment</td>\n",
       "      <td>51</td>\n",
       "      <td>try loan modification chase runaround im mo payment</td>\n",
       "      <td>2</td>\n",
       "    </tr>\n",
       "    <tr>\n",
       "      <th>13</th>\n",
       "      <td>To whom it may concern, Chase bank charged wrongly overdraft fees, I have alert of low balance or unsuficent fee balance and always deposit immediatly to cover transactions if needed but Chase always changed the order and charged me overdraft fee anyway. when you call they said their per their guidelines they don't refund more then 2 overdrawft...</td>\n",
       "      <td>may concern chase bank charge wrongly overdraft fee alert low balance unsuficent fee balance always deposit immediatly cover transaction need chase always change order charge overdraft fee anyway call say per guideline dont refund overdrawft doesnt matter bank fault take people money ok see attach document chase refund always find way take back...</td>\n",
       "      <td>concern bank charge fee alert balance fee balance transaction change order charge overdraft fee guideline dont refund matter bank fault money chase refund way refund place</td>\n",
       "      <td>171</td>\n",
       "      <td>concern bank charge fee alert balance fee balance transaction change order charge overdraft fee guideline dont refund matter bank fault money chase refund way refund place</td>\n",
       "      <td>3</td>\n",
       "    </tr>\n",
       "    <tr>\n",
       "      <th>16</th>\n",
       "      <td>XXXX XXXX a sofa, love seat, table and chairs and was never delivered. Debit card charged {$2400.00}. Bank says Visa denied claim, we have no furniture and no money.</td>\n",
       "      <td>xxxx xxxx sofa love seat table chair never deliver debit card charge bank say visa deny claim furniture money</td>\n",
       "      <td>sofa love seat chair charge bank claim furniture money</td>\n",
       "      <td>54</td>\n",
       "      <td>sofa love seat chair charge bank claim furniture money</td>\n",
       "      <td>3</td>\n",
       "    </tr>\n",
       "    <tr>\n",
       "      <th>14</th>\n",
       "      <td>My chase amazon card was declined for a catering order I had placed for my brothers funeral in the amount of {$710.00}. I contacted chase around noon today XX/XX/2019 and was asked the last 4 numbers of my chase savings account and the other user on my account. I responded that I did not have a savings and I am only authorized user. Customer re...</td>\n",
       "      <td>chase amazon card decline cater order place brother funeral amount contact chase around noon today xxxx ask last number chase saving account user account respond saving authorize user customer rep tell would call back minute keep line open didnt receive call back hour contact chase first call thought someone use card fraudulently speak rep tran...</td>\n",
       "      <td>chase decline cater order place amount contact chase noon today ask number account account respond customer rep tell keep line didnt call hour contact chase thought someone use card rep transfer supervisor card transaction cater company card decline use card pay order purchase respond contact caterer decline rep question use code caterer respon...</td>\n",
       "      <td>643</td>\n",
       "      <td>chase decline cater order place amount contact chase noon today ask number account account respond customer rep tell keep line didnt call hour contact chase thought someone use card rep transfer supervisor card transaction cater company card decline use card pay order purchase respond contact caterer decline rep question use code caterer respon...</td>\n",
       "      <td>3</td>\n",
       "    </tr>\n",
       "    <tr>\n",
       "      <th>8</th>\n",
       "      <td>On XXXX XX/XX/2019, I made a {$300.00} payment to an online retailer using Chase quick pay with XXXX on the Chase website. I realized that this was a scam website after no confirmation, product, or response to any inquiries regarding the order and contacted Chase to get more information about the transaction to attempt getting a refund through ...</td>\n",
       "      <td>xxxx xxxx make payment online retailer use chase quick pay xxxx chase website realize scam website confirmation product response inquiry regard order contact chase get information transaction attempt get refund retailer bank contact chase via secured message xxxx explain happen asked way reverse transaction contact xxxx give information recipie...</td>\n",
       "      <td>payment online retailer use pay chase website confirmation product response inquiry regard order contact information transaction attempt retailer bank message xxxx way transaction contact information recipient message review response restate email transfer mention scam handle inquiry email require expertise team order assist consumer online sup...</td>\n",
       "      <td>1265</td>\n",
       "      <td>payment online retailer use pay chase website confirmation product response inquiry regard order contact information transaction attempt retailer bank message  way transaction contact information recipient message review response restate email transfer mention scam handle inquiry email require expertise team order assist consumer online support...</td>\n",
       "      <td>3</td>\n",
       "    </tr>\n",
       "    <tr>\n",
       "      <th>19</th>\n",
       "      <td>I made a purchase with XXXX XXXX XXXX on XX/XX/2019 in the amount of {$38.00}. I was charged twice for this transaction. I placed a disputes case with Chase bank on XX/XX/2019 when I noticed the charge on my account. I called back on Sunday, XX/XX/2019 about the provisional credit for the charge and again on Monday, XX/XX/2019. I was told the c...</td>\n",
       "      <td>make purchase xxxx xxxx xxxx xxxx amount charge twice transaction place dispute case chase bank xxxx noticed charge account call back sunday xxxx provisional credit charge monday xxxx tell charge post provisional credit could provide used debt card monday xxxx try use would work go chase bank xxxx xxxx xxxx xxxx xxxx nevada tell account close d...</td>\n",
       "      <td>purchase amount charge transaction place dispute case bank xxxx charge account call credit charge tell charge post credit debt card monday try use bank account activity shock report fraud account dispute department place dispute case charge charge credit account day dispute department monday explain thaxxxx credit account dispute claim escalati...</td>\n",
       "      <td>570</td>\n",
       "      <td>purchase amount charge transaction place dispute case bank  charge account call credit charge tell charge post credit debt card monday try use bank account activity shock report fraud account dispute department place dispute case charge charge credit account day dispute department monday explain tha credit account dispute claim escalation manag...</td>\n",
       "      <td>3</td>\n",
       "    </tr>\n",
       "    <tr>\n",
       "      <th>24</th>\n",
       "      <td>I made a purchase of {$260.00} on XX/XX/XXXX. I made payments of {$160.00} on XX/XX/XXXX and {$260.00} on XX/XX/XXXX. The minimum payment was {$140.00}. The closing date was XX/XX/XXXX ( please see attached statement ). That statement ( XX/XX/XXXX ) shows that I had an outstanding purchase balance of {$230.00} on XX/XX/XXXX. I have enclosed the...</td>\n",
       "      <td>make purchase xxxxxxxx make payment xxxxxxxx xxxxxxxx minimum payment closing date xxxxxxxx please see attached statement statement xxxxxxxx show outstanding purchase balance xxxxxxxx enclose previous month statement show purchase prior one xxxxxxxx however get xxxx statement show still purchase balance promotional balance xxxx xxxx xxxx promot...</td>\n",
       "      <td>purchase payment xxxxxxxx payment closing date please statement statement show purchase balance month statement show purchase xxxxxxxx statement show balance balance balance difference payment payment require chase purchase balance payment meet payment minimum interest rate balance time chase skirt law turn profit need problem logic chase thank...</td>\n",
       "      <td>370</td>\n",
       "      <td>purchase payment  payment closing date please statement statement show purchase balance month statement show purchase  statement show balance balance balance difference payment payment require chase purchase balance payment meet payment minimum interest rate balance time chase skirt law turn profit need problem logic chase thank advance assista...</td>\n",
       "      <td>4</td>\n",
       "    </tr>\n",
       "    <tr>\n",
       "      <th>57</th>\n",
       "      <td>Action Taken By The Company Between the dates of XX/XX/XXXX - XX/XX/XXXX an individual ( or group of individuals ) contacted Chase Claims and opened multiple claims that reversed payments to creditors authorized by me and then used the credited reversed funds and fees to make unauthorized transactions. \\n\\nXX/XX/XXXX : 1. Claim # : XXXX An unau...</td>\n",
       "      <td>action take company date xxxxxxxx xxxxxxxx individual group individual contact chase claim open multiple claim reverse payment creditor authorize use credit reversed fund fee make unauthorized transaction xxxxxxxx claim xxxx unauthorized claim make individual group individual retroactively reverse payment personal loan pave xxxxxxxx claim xxxx ...</td>\n",
       "      <td>action company date xxxxxxxx group contact chase claim multiple claim payment creditor authorize use credit fund fee transaction claim claim group payment loan claim claim group payment behalf pay credit card date payment occur claim claim group payment xxxx payment reverse claim claim group payment xxxx payment payment payment date claim claim...</td>\n",
       "      <td>1679</td>\n",
       "      <td>action company date  group contact chase claim multiple claim payment creditor authorize use credit fund fee transaction claim claim group payment loan claim claim group payment behalf pay credit card date payment occur claim claim group payment  payment reverse claim claim group payment  payment payment payment date claim claim group payment p...</td>\n",
       "      <td>4</td>\n",
       "    </tr>\n",
       "    <tr>\n",
       "      <th>33</th>\n",
       "      <td>I recently called to ask Chase bank why they reported to the credit Bureau that I was 30 days late on a payment that was already paid off. When I called I got this info : They showed that on the XXXX of XX/XX/2019 I was very late on my bill and owed XXXX to bring this balance down to XXXX and be finished with the bill. I paid that amount on the...</td>\n",
       "      <td>recently call ask chase bank report credit bureau day late payment already pay call get info show xxxx xxxx late bill owe xxxx bring balance xxxx finish bill pay amount day xxxx xxxx say try make another payment later day day come back return payment man phone state payment go would mean credit account xxxx since didnt owe anything updated acco...</td>\n",
       "      <td>ask bank report credit day payment call show bill bring balance bill pay amount day payment day day payment man phone state payment go credit account didnt anything account charge fee payment idea pay amount report credit day pay accrue guy represent chase credit score drop point call report</td>\n",
       "      <td>292</td>\n",
       "      <td>ask bank report credit day payment call show bill bring balance bill pay amount day payment day day payment man phone state payment go credit account didnt anything account charge fee payment idea pay amount report credit day pay accrue guy represent chase credit score drop point call report</td>\n",
       "      <td>4</td>\n",
       "    </tr>\n",
       "    <tr>\n",
       "      <th>7</th>\n",
       "      <td>During the summer months, I experience a decline income due to my employment. Therefore, I request a one month payment extension with my Auto Loan Company, Chase. For the past almost fours years, my request for payment extension is granted. I have never been delinquent with my auto loan payment. However, On XX/XX/2019 my request for a one month...</td>\n",
       "      <td>summer month experience decline income due employment therefore request one month payment extension auto loan company chase past almost fours year request payment extension grant never delinquent auto loan payment however xxxx request one month payment extension deny year explain situation representative supervisor avail lengthy discussion wait...</td>\n",
       "      <td>summer month experience income employment month payment extension auto loan company year payment extension grant auto loan payment month payment extension deny year situation representative supervisor avail discussion wait reason decline reason baffle office xxxx executive director communication jpmorgan contact chase followup week office call ...</td>\n",
       "      <td>605</td>\n",
       "      <td>summer month experience income employment month payment extension auto loan company year payment extension grant auto loan payment month payment extension deny year situation representative supervisor avail discussion wait reason decline reason baffle office  executive director communication jpmorgan contact chase followup week office call repr...</td>\n",
       "      <td>4</td>\n",
       "    </tr>\n",
       "    <tr>\n",
       "      <th>72</th>\n",
       "      <td>In XXXX of this year Chase withdrew money from my escrow account to pay my property taxes. However, they also withdrew money to pay for another property that I do not own or has any connection with me or my account. \\n\\nThis left me in an escrow shortage and they have adjusted my monthly payment to reflect this as well. I called to explain thei...</td>\n",
       "      <td>xxxx year chase withdraw money escrow account pay property tax however also withdraw money pay another property connection account leave escrow shortage adjust monthly payment reflect well call explain mistake take two week finally manage remove incorrect parcel account however refund erroneous tax payment make escrow account instead wait local...</td>\n",
       "      <td>year chase money escrow property tax money pay property connection account shortage payment reflect week parcel account tax payment escrow account municipality refund money perspective chase knowledge permission misappropriate fund escrow footing bill money</td>\n",
       "      <td>257</td>\n",
       "      <td>year chase money escrow property tax money pay property connection account shortage payment reflect week parcel account tax payment escrow account municipality refund money perspective chase knowledge permission misappropriate fund escrow footing bill money</td>\n",
       "      <td>4</td>\n",
       "    </tr>\n",
       "  </tbody>\n",
       "</table>\n",
       "</div>"
      ],
      "text/plain": [
       "                                                                                                                                                                                                                                                                                                                                          complaint_what_happened  \\\n",
       "0   Good morning my name is XXXX XXXX and I appreciate it if you could help me put a stop to Chase Bank cardmember services. \\nIn 2018 I wrote to Chase asking for debt verification and what they sent me a statement which is not acceptable. I am asking the bank to validate the debt. Instead I been receiving mail every month from them attempting to c...   \n",
       "4   my grand son give me check for {$1600.00} i deposit it into my chase account after fund clear my chase bank closed my account never paid me my money they said they need to speek with my grand son check was clear money was taking by my chase bank refuse to pay me my money my grand son called chase 2 times they told him i should call not him to v...   \n",
       "6   With out notice J.P. Morgan Chase restricted my account by my debit card Tuesday XX/XX/2019. On Thursday XX/XX/2019 I went into A branch after being advised by a customer service representative that my account would actually be closed. I went into the branch to see how I can remove the funds that are in there currently in as well as if my direc...   \n",
       "10                                                                                                                                                                                                                                                                                                            mishandling of this account by Chase auto and XXXX.   \n",
       "12  I opened an account with chase bank on XXXX and used a code for XXXX bonus. I called to follow up on XX/XX/XXXX about the terms and was told everything was on the account and once I made XXXX direct deposit the bonus would be paid out in 10 days. As of XXXX I had made the required deposits and was told my account never had the coupon code appli...   \n",
       "1   I upgraded my XXXX XXXX card in XX/XX/2018 and was told by the agent who did the upgrade my anniversary date would not change. It turned the agent was giving me the wrong information in order to upgrade the account. XXXX   changed my anniversary date from XX/XX/XXXX to XX/XX/XXXX without my consent! XXXX has the recording of the agent who was m...   \n",
       "2                                                                                                                                Chase Card was reported on XX/XX/2019. However, fraudulent application have been submitted my identity without my consent to fraudulently obtain services. Do not extend credit without verifying the identity of the applicant.   \n",
       "3   On XX/XX/2018, while trying to book a XXXX  XXXX  ticket, I came across an offer for {$300.00} to be applied towards the ticket if I applied for a rewards card. I put in my information for the offer and within less than a minute, was notified via the screen that a decision could not be made. I immediately contacted XXXX and was referred to Chas...   \n",
       "5                                                                                                                                                                                                                                                                                                                                   Can you please remove inquiry   \n",
       "9                                                                                                                                                                                                                               I have a Chase credit card which is incorrectly reporting data on my credit report. The company is not helping resolve the issue.   \n",
       "47  I am XXXX military member ( XXXX ) with the XXXX. Chase Auto Finance is refusing to pay on the GAP insurance/waiver coverage that I purchased at the time I signed the financing agreement. While stationed at XXXX I purchased a XXXX Cadillac ATS Premium and financed the vehicle with Chase Auto Finance. When I purchased the vehicle the original fi...   \n",
       "41  My name is XXXX XXXX. I have missed a payment in XX/XX/2018 and was 30 days past due but now current. I applied numerous times for a loan modification to get loss mitigation assistance but did not get any help. Chase only gave me a loan forbearance option. I am XXXX XXXX XXXX and have an issue with refinancing since my DTI is too high because o...   \n",
       "32  I bought a new XXXX XXXX on XX/XX/XXXX from XXXX XXXX XXXX in XXXX. \\nI paid the loan in XX/XX/XXXXbut chase financial never release the title. \\nI contacted chase several time with no resolution. Each time they told me they will release it but nothing was done. \\nNow I moved to another state and I can not get the registration in the other stat...   \n",
       "30  I have wired through one of Chase branches in XXXX XXXX, the exact Reinstatement Amount of {$43000.00} to JPMorgan Chase Bank In order to remove/withdraw their wrongful foreclosure proceedings on my residential property.\\n\\nHowever, the Chase Executive Ms. XXXX XXXX, and it's trustee, XXXX XXXX XXXX XXXX are not honoring even their own rules an...   \n",
       "23                                                                                                                                                                 I have been trying to do a loan modification with Chase and all they do is give me the runaround I'm 72 mo behind they dont let me make payments I have aens all doc in but always asking more   \n",
       "13  To whom it may concern, Chase bank charged wrongly overdraft fees, I have alert of low balance or unsuficent fee balance and always deposit immediatly to cover transactions if needed but Chase always changed the order and charged me overdraft fee anyway. when you call they said their per their guidelines they don't refund more then 2 overdrawft...   \n",
       "16                                                                                                                                                                                          XXXX XXXX a sofa, love seat, table and chairs and was never delivered. Debit card charged {$2400.00}. Bank says Visa denied claim, we have no furniture and no money.   \n",
       "14  My chase amazon card was declined for a catering order I had placed for my brothers funeral in the amount of {$710.00}. I contacted chase around noon today XX/XX/2019 and was asked the last 4 numbers of my chase savings account and the other user on my account. I responded that I did not have a savings and I am only authorized user. Customer re...   \n",
       "8   On XXXX XX/XX/2019, I made a {$300.00} payment to an online retailer using Chase quick pay with XXXX on the Chase website. I realized that this was a scam website after no confirmation, product, or response to any inquiries regarding the order and contacted Chase to get more information about the transaction to attempt getting a refund through ...   \n",
       "19  I made a purchase with XXXX XXXX XXXX on XX/XX/2019 in the amount of {$38.00}. I was charged twice for this transaction. I placed a disputes case with Chase bank on XX/XX/2019 when I noticed the charge on my account. I called back on Sunday, XX/XX/2019 about the provisional credit for the charge and again on Monday, XX/XX/2019. I was told the c...   \n",
       "24  I made a purchase of {$260.00} on XX/XX/XXXX. I made payments of {$160.00} on XX/XX/XXXX and {$260.00} on XX/XX/XXXX. The minimum payment was {$140.00}. The closing date was XX/XX/XXXX ( please see attached statement ). That statement ( XX/XX/XXXX ) shows that I had an outstanding purchase balance of {$230.00} on XX/XX/XXXX. I have enclosed the...   \n",
       "57  Action Taken By The Company Between the dates of XX/XX/XXXX - XX/XX/XXXX an individual ( or group of individuals ) contacted Chase Claims and opened multiple claims that reversed payments to creditors authorized by me and then used the credited reversed funds and fees to make unauthorized transactions. \\n\\nXX/XX/XXXX : 1. Claim # : XXXX An unau...   \n",
       "33  I recently called to ask Chase bank why they reported to the credit Bureau that I was 30 days late on a payment that was already paid off. When I called I got this info : They showed that on the XXXX of XX/XX/2019 I was very late on my bill and owed XXXX to bring this balance down to XXXX and be finished with the bill. I paid that amount on the...   \n",
       "7   During the summer months, I experience a decline income due to my employment. Therefore, I request a one month payment extension with my Auto Loan Company, Chase. For the past almost fours years, my request for payment extension is granted. I have never been delinquent with my auto loan payment. However, On XX/XX/2019 my request for a one month...   \n",
       "72  In XXXX of this year Chase withdrew money from my escrow account to pay my property taxes. However, they also withdrew money to pay for another property that I do not own or has any connection with me or my account. \\n\\nThis left me in an escrow shortage and they have adjusted my monthly payment to reflect this as well. I called to explain thei...   \n",
       "\n",
       "                                                                                                                                                                                                                                                                                                                                            lemmatized_complaints  \\\n",
       "0                                         good morning name xxxx xxxx appreciate could help put stop chase bank cardmember service write chase ask debt verification send statement acceptable ask bank validate debt instead receive mail every month attempt collect debt right know information consumer chase account xxxx xxxx xxxx xxxx thanks advance help   \n",
       "4                                                       grand son give check deposit chase account fund clear chase bank close account never pay money say need speek grand son check clear money take chase bank refuse pay money grand son call chase time tell call verify check owner country time date happen xxxx check number xxxx claim number xxxx chase   \n",
       "6   notice jp morgan chase restrict account debit card tuesday xxxx thursday xxxx go branch advise customer service representative account would actually close go branch see remove fund currently well direct deposit place employment would return bank associate customer service representative assure fund would post may take additional business day s...   \n",
       "10                                                                                                                                                                                                                                                                                                                              mishandle account chase auto xxxx   \n",
       "12                                                                                                                        open account chase bank xxxx use code xxxx bonus call follow xxxxxxxx term tell everything account make xxxx direct deposit bonus would pay day xxxx make require deposit tell account never coupon code apply past day bonus would pay   \n",
       "1                                                                                                                                upgraded xxxx xxxx card xxxx tell agent upgrade anniversary date would change turned agent give wrong information order upgrade account xxxx change anniversary date xxxxxxxx xxxxxxxx without consent xxxx record agent mislead   \n",
       "2                                                                                                                                                                                               chase card report xxxx however fraudulent application submit identity without consent fraudulently obtain service extend credit without verify identity applicant   \n",
       "3   xxxx try book xxxx xxxx ticket come across offer apply towards ticket apply reward card put information offer within less minute notified via screen decision could make immediately contacted xxxx refer chase bank immediately contact chase bank within minute get notification screen tell chase representative spoke application deny could state ask...   \n",
       "5                                                                                                                                                                                                                                                                                                                                           please remove inquiry   \n",
       "9                                                                                                                                                                                                                                                                              chase credit card incorrectly report data credit report company help resolve issue   \n",
       "47  xxxx military member xxxx xxxx chase auto finance refuse pay gap insurancewaiver coverage purchase time sign financing agreement station xxxx purchase xxxx cadillac at premium finance vehicle chase auto finance purchase vehicle original financing agreement include option purchase gap insurance additional provider gap insurance xxxx xxxx however...   \n",
       "41                                                                               name xxxx xxxx miss payment xxxx day past due current apply numerous time loan modification get loss mitigation assistance get help chase give loan forbearance option xxxx xxxx xxxx issue refinance since dti high excessive debt get decline every time credit score low xxxx   \n",
       "32                                                                                                       buy new xxxx xxxx xxxxxxxx xxxx xxxx xxxx xxxx pay loan xxxxxxxxbut chase financial never release title contact chase several time resolution time tell release nothing do move another state get registration state title oblige rent car since use car   \n",
       "30  wire one chase branch xxxx xxxx exact reinstatement amount jpmorgan chase bank order removewithdraw wrongful foreclosure proceeding residential property however chase executive m xxxx xxxx trustee xxxx xxxx xxxx xxxx honor even rule regulation want total payoff order remove wrongful foreclosure proceeding sale date xxxx xxxx xxxx family residen...   \n",
       "23                                                                                                                                                                                                                                                              try loan modification chase give runaround im mo behind dont let make payment aens doc always ask   \n",
       "13  may concern chase bank charge wrongly overdraft fee alert low balance unsuficent fee balance always deposit immediatly cover transaction need chase always change order charge overdraft fee anyway call say per guideline dont refund overdrawft doesnt matter bank fault take people money ok see attach document chase refund always find way take back...   \n",
       "16                                                                                                                                                                                                                                                  xxxx xxxx sofa love seat table chair never deliver debit card charge bank say visa deny claim furniture money   \n",
       "14  chase amazon card decline cater order place brother funeral amount contact chase around noon today xxxx ask last number chase saving account user account respond saving authorize user customer rep tell would call back minute keep line open didnt receive call back hour contact chase first call thought someone use card fraudulently speak rep tran...   \n",
       "8   xxxx xxxx make payment online retailer use chase quick pay xxxx chase website realize scam website confirmation product response inquiry regard order contact chase get information transaction attempt get refund retailer bank contact chase via secured message xxxx explain happen asked way reverse transaction contact xxxx give information recipie...   \n",
       "19  make purchase xxxx xxxx xxxx xxxx amount charge twice transaction place dispute case chase bank xxxx noticed charge account call back sunday xxxx provisional credit charge monday xxxx tell charge post provisional credit could provide used debt card monday xxxx try use would work go chase bank xxxx xxxx xxxx xxxx xxxx nevada tell account close d...   \n",
       "24  make purchase xxxxxxxx make payment xxxxxxxx xxxxxxxx minimum payment closing date xxxxxxxx please see attached statement statement xxxxxxxx show outstanding purchase balance xxxxxxxx enclose previous month statement show purchase prior one xxxxxxxx however get xxxx statement show still purchase balance promotional balance xxxx xxxx xxxx promot...   \n",
       "57  action take company date xxxxxxxx xxxxxxxx individual group individual contact chase claim open multiple claim reverse payment creditor authorize use credit reversed fund fee make unauthorized transaction xxxxxxxx claim xxxx unauthorized claim make individual group individual retroactively reverse payment personal loan pave xxxxxxxx claim xxxx ...   \n",
       "33  recently call ask chase bank report credit bureau day late payment already pay call get info show xxxx xxxx late bill owe xxxx bring balance xxxx finish bill pay amount day xxxx xxxx say try make another payment later day day come back return payment man phone state payment go would mean credit account xxxx since didnt owe anything updated acco...   \n",
       "7   summer month experience decline income due employment therefore request one month payment extension auto loan company chase past almost fours year request payment extension grant never delinquent auto loan payment however xxxx request one month payment extension deny year explain situation representative supervisor avail lengthy discussion wait...   \n",
       "72  xxxx year chase withdraw money escrow account pay property tax however also withdraw money pay another property connection account leave escrow shortage adjust monthly payment reflect well call explain mistake take two week finally manage remove incorrect parcel account however refund erroneous tax payment make escrow account instead wait local...   \n",
       "\n",
       "                                                                                                                                                                                                                                                                                                                                            complaint_POS_removed  \\\n",
       "0                                                                                                                                                                                 morning name appreciate chase bank cardmember service chase debt verification statement bank debt mail month attempt debt right information consumer chase account advance help   \n",
       "4                                                                                                                                                                                             son check deposit chase account fund bank account money son check money bank refuse pay money son call time check owner country time date number claim number chase   \n",
       "6   jp restrict account debit card tuesday thursday branch customer service account branch fund deposit place employment bank customer service assure fund business day attempt branch fund look fund statement call tell business day state tuesday date fund bank teller chase mail check business day fund owe account bind fee rent car payment thing peac...   \n",
       "10                                                                                                                                                                                                                                                                                                                                              account auto xxxx   \n",
       "12                                                                                                                                                                                                                           account bank xxxx use code bonus call term tell everything account xxxx deposit bonus day deposit tell account coupon code day bonus   \n",
       "1                                                                                                                                                                                                                                           xxxx card tell agent date information order upgrade account change anniversary date consent xxxx record agent mislead   \n",
       "2                                                                                                                                                                                                                                                                               card report application submit identity consent service credit identity applicant   \n",
       "3   try book ticket come offer apply ticket card information offer decision bank chase bank get notification screen spoke application deny state information xxxx offer credit offer account statement purchase ticket get deny account application withdrawn oblige happen application xxxx request proceed application tell chase chase fact credit account ...   \n",
       "5                                                                                                                                                                                                                                                                                                                                                         inquiry   \n",
       "9                                                                                                                                                                                                                                                                                                                   chase credit card credit report company issue   \n",
       "47  member auto finance refuse pay gap insurancewaiver coverage purchase time sign agreement station purchase cadillac finance vehicle auto finance purchase vehicle financing agreement option purchase gap insurance provider gap insurance sign gap state insurance agreement chase auto finance deficiency event vehicle auto finance ship vehicle order r...   \n",
       "41                                                                                                                                                                                                                       name payment day time loan modification loss mitigation assistance loan forbearance option issue refinance dti debt get time credit xxxx   \n",
       "32                                                                                                                                                                                                                                                      pay loan release time resolution time release nothing state get registration state title rent car use car   \n",
       "30  wire chase branch reinstatement amount bank order foreclosure property executive m trustee regulation payoff order foreclosure sale date family resident prepare time reinstatement amount foreclosure resort chapter bankruptcy file appreciate assistant bring jpmorgan foreclosure trustee quality sense stop harass family default claim complaint com...   \n",
       "23                                                                                                                                                                                                                                                                                                            try loan modification chase runaround im mo payment   \n",
       "13                                                                                                                                                                                    concern bank charge fee alert balance fee balance transaction change order charge overdraft fee guideline dont refund matter bank fault money chase refund way refund place   \n",
       "16                                                                                                                                                                                                                                                                                                         sofa love seat chair charge bank claim furniture money   \n",
       "14  chase decline cater order place amount contact chase noon today ask number account account respond customer rep tell keep line didnt call hour contact chase thought someone use card rep transfer supervisor card transaction cater company card decline use card pay order purchase respond contact caterer decline rep question use code caterer respon...   \n",
       "8   payment online retailer use pay chase website confirmation product response inquiry regard order contact information transaction attempt retailer bank message xxxx way transaction contact information recipient message review response restate email transfer mention scam handle inquiry email require expertise team order assist consumer online sup...   \n",
       "19  purchase amount charge transaction place dispute case bank xxxx charge account call credit charge tell charge post credit debt card monday try use bank account activity shock report fraud account dispute department place dispute case charge charge credit account day dispute department monday explain thaxxxx credit account dispute claim escalati...   \n",
       "24  purchase payment xxxxxxxx payment closing date please statement statement show purchase balance month statement show purchase xxxxxxxx statement show balance balance balance difference payment payment require chase purchase balance payment meet payment minimum interest rate balance time chase skirt law turn profit need problem logic chase thank...   \n",
       "57  action company date xxxxxxxx group contact chase claim multiple claim payment creditor authorize use credit fund fee transaction claim claim group payment loan claim claim group payment behalf pay credit card date payment occur claim claim group payment xxxx payment reverse claim claim group payment xxxx payment payment payment date claim claim...   \n",
       "33                                                           ask bank report credit day payment call show bill bring balance bill pay amount day payment day day payment man phone state payment go credit account didnt anything account charge fee payment idea pay amount report credit day pay accrue guy represent chase credit score drop point call report   \n",
       "7   summer month experience income employment month payment extension auto loan company year payment extension grant auto loan payment month payment extension deny year situation representative supervisor avail discussion wait reason decline reason baffle office xxxx executive director communication jpmorgan contact chase followup week office call ...   \n",
       "72                                                                                              year chase money escrow property tax money pay property connection account shortage payment reflect week parcel account tax payment escrow account municipality refund money perspective chase knowledge permission misappropriate fund escrow footing bill money   \n",
       "\n",
       "    complaint_length  \\\n",
       "0                175   \n",
       "4                163   \n",
       "6                564   \n",
       "10                17   \n",
       "12               132   \n",
       "1                117   \n",
       "2                 81   \n",
       "3                429   \n",
       "5                  7   \n",
       "9                 45   \n",
       "47               561   \n",
       "41               136   \n",
       "32               105   \n",
       "30               408   \n",
       "23                51   \n",
       "13               171   \n",
       "16                54   \n",
       "14               643   \n",
       "8               1265   \n",
       "19               570   \n",
       "24               370   \n",
       "57              1679   \n",
       "33               292   \n",
       "7                605   \n",
       "72               257   \n",
       "\n",
       "                                                                                                                                                                                                                                                                                                                                                  Complaint_clean  \\\n",
       "0                                                                                                                                                                                 morning name appreciate chase bank cardmember service chase debt verification statement bank debt mail month attempt debt right information consumer chase account advance help   \n",
       "4                                                                                                                                                                                             son check deposit chase account fund bank account money son check money bank refuse pay money son call time check owner country time date number claim number chase   \n",
       "6   jp restrict account debit card tuesday thursday branch customer service account branch fund deposit place employment bank customer service assure fund business day attempt branch fund look fund statement call tell business day state tuesday date fund bank teller chase mail check business day fund owe account bind fee rent car payment thing peac...   \n",
       "10                                                                                                                                                                                                                                                                                                                                                  account auto    \n",
       "12                                                                                                                                                                                                                                   account bank  use code bonus call term tell everything account  deposit bonus day deposit tell account coupon code day bonus   \n",
       "1                                                                                                                                                                                                                                                    card tell agent date information order upgrade account change anniversary date consent  record agent mislead   \n",
       "2                                                                                                                                                                                                                                                                               card report application submit identity consent service credit identity applicant   \n",
       "3   try book ticket come offer apply ticket card information offer decision bank chase bank get notification screen spoke application deny state information  offer credit offer account statement purchase ticket get deny account application withdrawn oblige happen application  request proceed application tell chase chase fact credit account name rep...   \n",
       "5                                                                                                                                                                                                                                                                                                                                                         inquiry   \n",
       "9                                                                                                                                                                                                                                                                                                                   chase credit card credit report company issue   \n",
       "47  member auto finance refuse pay gap insurancewaiver coverage purchase time sign agreement station purchase cadillac finance vehicle auto finance purchase vehicle financing agreement option purchase gap insurance provider gap insurance sign gap state insurance agreement chase auto finance deficiency event vehicle auto finance ship vehicle order r...   \n",
       "41                                                                                                                                                                                                                           name payment day time loan modification loss mitigation assistance loan forbearance option issue refinance dti debt get time credit    \n",
       "32                                                                                                                                                                                                                                                      pay loan release time resolution time release nothing state get registration state title rent car use car   \n",
       "30  wire chase branch reinstatement amount bank order foreclosure property executive m trustee regulation payoff order foreclosure sale date family resident prepare time reinstatement amount foreclosure resort chapter bankruptcy file appreciate assistant bring jpmorgan foreclosure trustee quality sense stop harass family default claim complaint com...   \n",
       "23                                                                                                                                                                                                                                                                                                            try loan modification chase runaround im mo payment   \n",
       "13                                                                                                                                                                                    concern bank charge fee alert balance fee balance transaction change order charge overdraft fee guideline dont refund matter bank fault money chase refund way refund place   \n",
       "16                                                                                                                                                                                                                                                                                                         sofa love seat chair charge bank claim furniture money   \n",
       "14  chase decline cater order place amount contact chase noon today ask number account account respond customer rep tell keep line didnt call hour contact chase thought someone use card rep transfer supervisor card transaction cater company card decline use card pay order purchase respond contact caterer decline rep question use code caterer respon...   \n",
       "8   payment online retailer use pay chase website confirmation product response inquiry regard order contact information transaction attempt retailer bank message  way transaction contact information recipient message review response restate email transfer mention scam handle inquiry email require expertise team order assist consumer online support...   \n",
       "19  purchase amount charge transaction place dispute case bank  charge account call credit charge tell charge post credit debt card monday try use bank account activity shock report fraud account dispute department place dispute case charge charge credit account day dispute department monday explain tha credit account dispute claim escalation manag...   \n",
       "24  purchase payment  payment closing date please statement statement show purchase balance month statement show purchase  statement show balance balance balance difference payment payment require chase purchase balance payment meet payment minimum interest rate balance time chase skirt law turn profit need problem logic chase thank advance assista...   \n",
       "57  action company date  group contact chase claim multiple claim payment creditor authorize use credit fund fee transaction claim claim group payment loan claim claim group payment behalf pay credit card date payment occur claim claim group payment  payment reverse claim claim group payment  payment payment payment date claim claim group payment p...   \n",
       "33                                                           ask bank report credit day payment call show bill bring balance bill pay amount day payment day day payment man phone state payment go credit account didnt anything account charge fee payment idea pay amount report credit day pay accrue guy represent chase credit score drop point call report   \n",
       "7   summer month experience income employment month payment extension auto loan company year payment extension grant auto loan payment month payment extension deny year situation representative supervisor avail discussion wait reason decline reason baffle office  executive director communication jpmorgan contact chase followup week office call repr...   \n",
       "72                                                                                              year chase money escrow property tax money pay property connection account shortage payment reflect week parcel account tax payment escrow account municipality refund money perspective chase knowledge permission misappropriate fund escrow footing bill money   \n",
       "\n",
       "    Topic  \n",
       "0       0  \n",
       "4       0  \n",
       "6       0  \n",
       "10      0  \n",
       "12      0  \n",
       "1       1  \n",
       "2       1  \n",
       "3       1  \n",
       "5       1  \n",
       "9       1  \n",
       "47      2  \n",
       "41      2  \n",
       "32      2  \n",
       "30      2  \n",
       "23      2  \n",
       "13      3  \n",
       "16      3  \n",
       "14      3  \n",
       "8       3  \n",
       "19      3  \n",
       "24      4  \n",
       "57      4  \n",
       "33      4  \n",
       "7       4  \n",
       "72      4  "
      ]
     },
     "execution_count": 38,
     "metadata": {},
     "output_type": "execute_result"
    }
   ],
   "source": [
    "# Print the first 5 Complaint for each of the Topics\n",
    "df_clean5 = df_clean.groupby('Topic').head(5)\n",
    "df_clean5.sort_values('Topic')"
   ]
  },
  {
   "cell_type": "markdown",
   "id": "cccd67ce",
   "metadata": {
    "id": "piyLxzj6v07j",
    "papermill": {
     "duration": 2.605788,
     "end_time": "2022-01-13T18:54:56.199845",
     "exception": false,
     "start_time": "2022-01-13T18:54:53.594057",
     "status": "completed"
    },
    "tags": []
   },
   "source": [
    "#### After evaluating the mapping, if the topics assigned are correct then assign these names to the relevant topic:\n",
    "* Bank Account services\n",
    "* Credit card or prepaid card\n",
    "* Theft/Dispute Reporting\n",
    "* Mortgage/Loan\n",
    "* Others"
   ]
  },
  {
   "cell_type": "code",
   "execution_count": 39,
   "id": "952296ec",
   "metadata": {
    "execution": {
     "iopub.execute_input": "2022-01-13T18:55:01.516251Z",
     "iopub.status.busy": "2022-01-13T18:55:01.515507Z",
     "iopub.status.idle": "2022-01-13T18:55:01.523100Z",
     "shell.execute_reply": "2022-01-13T18:55:01.523618Z",
     "shell.execute_reply.started": "2022-01-13T18:10:13.549200Z"
    },
    "id": "TWpwDG4RJrGG",
    "papermill": {
     "duration": 2.64296,
     "end_time": "2022-01-13T18:55:01.523789",
     "exception": false,
     "start_time": "2022-01-13T18:54:58.880829",
     "status": "completed"
    },
    "tags": []
   },
   "outputs": [],
   "source": [
    "# Create the dictionary of Topic names and Topics\n",
    "Topic_names = {0:\"Bank Account services\",\n",
    "               1:\"Credit card or prepaid card\", \n",
    "               2:\"Others\",\n",
    "               3:\"Theft/Dispute Reporting\",\n",
    "               4:\"Mortgage/Loan\"}\n",
    "\n",
    "# Replace Topics with Topic Names\n",
    "df_clean['Topic'] = df_clean['Topic'].map(Topic_names)"
   ]
  },
  {
   "cell_type": "code",
   "execution_count": 40,
   "id": "cc1ae304",
   "metadata": {
    "execution": {
     "iopub.execute_input": "2022-01-13T18:55:06.917428Z",
     "iopub.status.busy": "2022-01-13T18:55:06.916693Z",
     "iopub.status.idle": "2022-01-13T18:55:06.935739Z",
     "shell.execute_reply": "2022-01-13T18:55:06.934800Z",
     "shell.execute_reply.started": "2022-01-13T18:10:13.557857Z"
    },
    "id": "-2ULY5K6JrGG",
    "papermill": {
     "duration": 2.722215,
     "end_time": "2022-01-13T18:55:06.935905",
     "exception": false,
     "start_time": "2022-01-13T18:55:04.213690",
     "status": "completed"
    },
    "tags": []
   },
   "outputs": [
    {
     "data": {
      "text/html": [
       "<div>\n",
       "<style scoped>\n",
       "    .dataframe tbody tr th:only-of-type {\n",
       "        vertical-align: middle;\n",
       "    }\n",
       "\n",
       "    .dataframe tbody tr th {\n",
       "        vertical-align: top;\n",
       "    }\n",
       "\n",
       "    .dataframe thead th {\n",
       "        text-align: right;\n",
       "    }\n",
       "</style>\n",
       "<table border=\"1\" class=\"dataframe\">\n",
       "  <thead>\n",
       "    <tr style=\"text-align: right;\">\n",
       "      <th></th>\n",
       "      <th>complaint_what_happened</th>\n",
       "      <th>lemmatized_complaints</th>\n",
       "      <th>complaint_POS_removed</th>\n",
       "      <th>complaint_length</th>\n",
       "      <th>Complaint_clean</th>\n",
       "      <th>Topic</th>\n",
       "    </tr>\n",
       "  </thead>\n",
       "  <tbody>\n",
       "    <tr>\n",
       "      <th>0</th>\n",
       "      <td>Good morning my name is XXXX XXXX and I appreciate it if you could help me put a stop to Chase Bank cardmember services. \\nIn 2018 I wrote to Chase asking for debt verification and what they sent me a statement which is not acceptable. I am asking the bank to validate the debt. Instead I been receiving mail every month from them attempting to c...</td>\n",
       "      <td>good morning name xxxx xxxx appreciate could help put stop chase bank cardmember service write chase ask debt verification send statement acceptable ask bank validate debt instead receive mail every month attempt collect debt right know information consumer chase account xxxx xxxx xxxx xxxx thanks advance help</td>\n",
       "      <td>morning name appreciate chase bank cardmember service chase debt verification statement bank debt mail month attempt debt right information consumer chase account advance help</td>\n",
       "      <td>175</td>\n",
       "      <td>morning name appreciate chase bank cardmember service chase debt verification statement bank debt mail month attempt debt right information consumer chase account advance help</td>\n",
       "      <td>Bank Account services</td>\n",
       "    </tr>\n",
       "    <tr>\n",
       "      <th>1</th>\n",
       "      <td>I upgraded my XXXX XXXX card in XX/XX/2018 and was told by the agent who did the upgrade my anniversary date would not change. It turned the agent was giving me the wrong information in order to upgrade the account. XXXX   changed my anniversary date from XX/XX/XXXX to XX/XX/XXXX without my consent! XXXX has the recording of the agent who was m...</td>\n",
       "      <td>upgraded xxxx xxxx card xxxx tell agent upgrade anniversary date would change turned agent give wrong information order upgrade account xxxx change anniversary date xxxxxxxx xxxxxxxx without consent xxxx record agent mislead</td>\n",
       "      <td>xxxx card tell agent date information order upgrade account change anniversary date consent xxxx record agent mislead</td>\n",
       "      <td>117</td>\n",
       "      <td>card tell agent date information order upgrade account change anniversary date consent  record agent mislead</td>\n",
       "      <td>Credit card or prepaid card</td>\n",
       "    </tr>\n",
       "    <tr>\n",
       "      <th>2</th>\n",
       "      <td>Chase Card was reported on XX/XX/2019. However, fraudulent application have been submitted my identity without my consent to fraudulently obtain services. Do not extend credit without verifying the identity of the applicant.</td>\n",
       "      <td>chase card report xxxx however fraudulent application submit identity without consent fraudulently obtain service extend credit without verify identity applicant</td>\n",
       "      <td>card report application submit identity consent service credit identity applicant</td>\n",
       "      <td>81</td>\n",
       "      <td>card report application submit identity consent service credit identity applicant</td>\n",
       "      <td>Credit card or prepaid card</td>\n",
       "    </tr>\n",
       "    <tr>\n",
       "      <th>3</th>\n",
       "      <td>On XX/XX/2018, while trying to book a XXXX  XXXX  ticket, I came across an offer for {$300.00} to be applied towards the ticket if I applied for a rewards card. I put in my information for the offer and within less than a minute, was notified via the screen that a decision could not be made. I immediately contacted XXXX and was referred to Chas...</td>\n",
       "      <td>xxxx try book xxxx xxxx ticket come across offer apply towards ticket apply reward card put information offer within less minute notified via screen decision could make immediately contacted xxxx refer chase bank immediately contact chase bank within minute get notification screen tell chase representative spoke application deny could state ask...</td>\n",
       "      <td>try book ticket come offer apply ticket card information offer decision bank chase bank get notification screen spoke application deny state information xxxx offer credit offer account statement purchase ticket get deny account application withdrawn oblige happen application xxxx request proceed application tell chase chase fact credit account ...</td>\n",
       "      <td>429</td>\n",
       "      <td>try book ticket come offer apply ticket card information offer decision bank chase bank get notification screen spoke application deny state information  offer credit offer account statement purchase ticket get deny account application withdrawn oblige happen application  request proceed application tell chase chase fact credit account name rep...</td>\n",
       "      <td>Credit card or prepaid card</td>\n",
       "    </tr>\n",
       "    <tr>\n",
       "      <th>4</th>\n",
       "      <td>my grand son give me check for {$1600.00} i deposit it into my chase account after fund clear my chase bank closed my account never paid me my money they said they need to speek with my grand son check was clear money was taking by my chase bank refuse to pay me my money my grand son called chase 2 times they told him i should call not him to v...</td>\n",
       "      <td>grand son give check deposit chase account fund clear chase bank close account never pay money say need speek grand son check clear money take chase bank refuse pay money grand son call chase time tell call verify check owner country time date happen xxxx check number xxxx claim number xxxx chase</td>\n",
       "      <td>son check deposit chase account fund bank account money son check money bank refuse pay money son call time check owner country time date number claim number chase</td>\n",
       "      <td>163</td>\n",
       "      <td>son check deposit chase account fund bank account money son check money bank refuse pay money son call time check owner country time date number claim number chase</td>\n",
       "      <td>Bank Account services</td>\n",
       "    </tr>\n",
       "    <tr>\n",
       "      <th>...</th>\n",
       "      <td>...</td>\n",
       "      <td>...</td>\n",
       "      <td>...</td>\n",
       "      <td>...</td>\n",
       "      <td>...</td>\n",
       "      <td>...</td>\n",
       "    </tr>\n",
       "    <tr>\n",
       "      <th>21067</th>\n",
       "      <td>After being a Chase Card customer for well over a decade, was offered multiple solicitations for acquiring new credit cards with Chase - all with bonus airline miles and hotel points. Was approved for all ( 3 ) new cards with No annual fee for 1st year. After less than 2 months with payment always paid as agreed, Chase closed all my cards. One ...</td>\n",
       "      <td>chase card customer well decade offer multiple solicitation acquire new credit card chase bonus airline mile hotel point approve new card annual fee st year less month payment always pay agree chase close card one approve new card never activate sent chase do harm credit charge annual fee even though cancelled account fail credit point airline ...</td>\n",
       "      <td>chase card customer decade offer solicitation credit card chase bonus airline hotel point card fee year month payment chase card chase credit charge fee account credit point airline hotel credit enrollment fail credit airline charge</td>\n",
       "      <td>232</td>\n",
       "      <td>chase card customer decade offer solicitation credit card chase bonus airline hotel point card fee year month payment chase card chase credit charge fee account credit point airline hotel credit enrollment fail credit airline charge</td>\n",
       "      <td>Credit card or prepaid card</td>\n",
       "    </tr>\n",
       "    <tr>\n",
       "      <th>21068</th>\n",
       "      <td>On Wednesday, XX/XX/XXXX I called Chas, my XXXX XXXX Visa Credit Card provider, and asked how to make a claim under their purchase protection benefit. On XX/XX/XXXX, I purchased three high school textbooks for my XXXX year old daughter because she transferred to a new school. All three books were damaged when a water bottle in her backpack brok...</td>\n",
       "      <td>wednesday xxxxxxxx call chas xxxx xxxx visa credit card provider ask make claim purchase protection benefit xxxxxxxx purchase three high school textbook xxxx year old daughter transfer new school three book damage water bottle backpack break chase representative assure textbook would cover instructed file claim xxxx immediately go website file ...</td>\n",
       "      <td>call chas xxxx credit card provider claim purchase protection benefit purchase school textbook year daughter school book damage water bottle backpack break assure textbook claim file claim request paperwork copy credit card statement copy receipt evidence damage book item cover claim claim insurance provider review information contact business ...</td>\n",
       "      <td>702</td>\n",
       "      <td>call chas  credit card provider claim purchase protection benefit purchase school textbook year daughter school book damage water bottle backpack break assure textbook claim file claim request paperwork copy credit card statement copy receipt evidence damage book item cover claim claim insurance provider review information contact business day ...</td>\n",
       "      <td>Theft/Dispute Reporting</td>\n",
       "    </tr>\n",
       "    <tr>\n",
       "      <th>21069</th>\n",
       "      <td>I am not familiar with XXXX pay and did not understand the great risk this provides to consumers. I believed this to be safe as it was through my Chase bank app. I have been with Chase for almost 20 years and trust their mobile banking and now am sadly regretful. I am being told to deal with the merchant except the merchant has refused to answe...</td>\n",
       "      <td>familiar xxxx pay understand great risk provide consumer believe safe chase bank app chase almost year trust mobile banking sadly regretful tell deal merchant except merchant refuse answer inquiry shut communication website say merchant look entirely legitamite even use face highly successful brand individual link social medium without consent ...</td>\n",
       "      <td>pay risk consumer chase bank chase year trust tell deal merchant merchant refuse answer inquiry shut communication look face brand medium consent perform research phone number information pi merchant account title holder perpetuate cycle fraud fix voip use identity chase bank report report recourse matter place address issue app verbiage point ...</td>\n",
       "      <td>695</td>\n",
       "      <td>pay risk consumer chase bank chase year trust tell deal merchant merchant refuse answer inquiry shut communication look face brand medium consent perform research phone number information pi merchant account title holder perpetuate cycle fraud fix voip use identity chase bank report report recourse matter place address issue app verbiage point ...</td>\n",
       "      <td>Theft/Dispute Reporting</td>\n",
       "    </tr>\n",
       "    <tr>\n",
       "      <th>21070</th>\n",
       "      <td>I have had flawless credit for 30 yrs. I've had Chase credit cards, \" Chase Freedom '' specifically since XXXX with no problems ever. I've done many balance transfers in my life, so I have plenty of experience. I recently did a balance transfer with Chase Freedom for {$9000.00} ( did many with other Chase cards, but apparently not \" Freeedom ''...</td>\n",
       "      <td>flawless credit yrs ive chase credit card chase freedom specifically since xxxx problem ever ive do many balance transfer life plenty experience recently balance transfer chase freedom many chase card apparently freeedom get first bill minimum payment shock immediately call xxxxxxxx representative tell min payment high bc make pay balance trans...</td>\n",
       "      <td>flawless credit chase credit card chase freedom xxxx problem balance transfer life experience balance transfer chase bill payment shock representative tell payment pay balance transfer fee payment balance standard rate advertise pay payment xxxxxxxx shock payment pay try work chase pay user agreement paperwork year everyone world card chase amt...</td>\n",
       "      <td>563</td>\n",
       "      <td>flawless credit chase credit card chase freedom  problem balance transfer life experience balance transfer chase bill payment shock representative tell payment pay balance transfer fee payment balance standard rate advertise pay payment  shock payment pay try work chase pay user agreement paperwork year everyone world card chase amt someone pay...</td>\n",
       "      <td>Mortgage/Loan</td>\n",
       "    </tr>\n",
       "    <tr>\n",
       "      <th>21071</th>\n",
       "      <td>Roughly 10+ years ago I closed out my accounts with JP Morgan Chase Bank XXXX in order to close out an unsecured line of credit I had to pay it off. I did that to close out my account roughly {$500.00} payment when I closed out the accounts, and now I get this late payment that showed up on my credit report after 10+ years stating I owe close t...</td>\n",
       "      <td>roughly year ago close account jp morgan chase bank xxxx order close unsecured line credit pay close account roughly payment close account get late payment show credit report year state owe close dollar never payment schedule notification year pay upon call tell need show proof pay would like think indeed pay would immediately receive late paym...</td>\n",
       "      <td>year account jp bank order line credit pay account payment account get payment show credit report year state dollar payment schedule notification year pay call pay pay payment notification chase bank customer service charge way line banking institution</td>\n",
       "      <td>252</td>\n",
       "      <td>year account jp bank order line credit pay account payment account get payment show credit report year state dollar payment schedule notification year pay call pay pay payment notification chase bank customer service charge way line banking institution</td>\n",
       "      <td>Mortgage/Loan</td>\n",
       "    </tr>\n",
       "  </tbody>\n",
       "</table>\n",
       "<p>21072 rows × 6 columns</p>\n",
       "</div>"
      ],
      "text/plain": [
       "                                                                                                                                                                                                                                                                                                                                             complaint_what_happened  \\\n",
       "0      Good morning my name is XXXX XXXX and I appreciate it if you could help me put a stop to Chase Bank cardmember services. \\nIn 2018 I wrote to Chase asking for debt verification and what they sent me a statement which is not acceptable. I am asking the bank to validate the debt. Instead I been receiving mail every month from them attempting to c...   \n",
       "1      I upgraded my XXXX XXXX card in XX/XX/2018 and was told by the agent who did the upgrade my anniversary date would not change. It turned the agent was giving me the wrong information in order to upgrade the account. XXXX   changed my anniversary date from XX/XX/XXXX to XX/XX/XXXX without my consent! XXXX has the recording of the agent who was m...   \n",
       "2                                                                                                                                   Chase Card was reported on XX/XX/2019. However, fraudulent application have been submitted my identity without my consent to fraudulently obtain services. Do not extend credit without verifying the identity of the applicant.   \n",
       "3      On XX/XX/2018, while trying to book a XXXX  XXXX  ticket, I came across an offer for {$300.00} to be applied towards the ticket if I applied for a rewards card. I put in my information for the offer and within less than a minute, was notified via the screen that a decision could not be made. I immediately contacted XXXX and was referred to Chas...   \n",
       "4      my grand son give me check for {$1600.00} i deposit it into my chase account after fund clear my chase bank closed my account never paid me my money they said they need to speek with my grand son check was clear money was taking by my chase bank refuse to pay me my money my grand son called chase 2 times they told him i should call not him to v...   \n",
       "...                                                                                                                                                                                                                                                                                                                                                              ...   \n",
       "21067  After being a Chase Card customer for well over a decade, was offered multiple solicitations for acquiring new credit cards with Chase - all with bonus airline miles and hotel points. Was approved for all ( 3 ) new cards with No annual fee for 1st year. After less than 2 months with payment always paid as agreed, Chase closed all my cards. One ...   \n",
       "21068  On Wednesday, XX/XX/XXXX I called Chas, my XXXX XXXX Visa Credit Card provider, and asked how to make a claim under their purchase protection benefit. On XX/XX/XXXX, I purchased three high school textbooks for my XXXX year old daughter because she transferred to a new school. All three books were damaged when a water bottle in her backpack brok...   \n",
       "21069  I am not familiar with XXXX pay and did not understand the great risk this provides to consumers. I believed this to be safe as it was through my Chase bank app. I have been with Chase for almost 20 years and trust their mobile banking and now am sadly regretful. I am being told to deal with the merchant except the merchant has refused to answe...   \n",
       "21070  I have had flawless credit for 30 yrs. I've had Chase credit cards, \" Chase Freedom '' specifically since XXXX with no problems ever. I've done many balance transfers in my life, so I have plenty of experience. I recently did a balance transfer with Chase Freedom for {$9000.00} ( did many with other Chase cards, but apparently not \" Freeedom ''...   \n",
       "21071  Roughly 10+ years ago I closed out my accounts with JP Morgan Chase Bank XXXX in order to close out an unsecured line of credit I had to pay it off. I did that to close out my account roughly {$500.00} payment when I closed out the accounts, and now I get this late payment that showed up on my credit report after 10+ years stating I owe close t...   \n",
       "\n",
       "                                                                                                                                                                                                                                                                                                                                               lemmatized_complaints  \\\n",
       "0                                            good morning name xxxx xxxx appreciate could help put stop chase bank cardmember service write chase ask debt verification send statement acceptable ask bank validate debt instead receive mail every month attempt collect debt right know information consumer chase account xxxx xxxx xxxx xxxx thanks advance help   \n",
       "1                                                                                                                                   upgraded xxxx xxxx card xxxx tell agent upgrade anniversary date would change turned agent give wrong information order upgrade account xxxx change anniversary date xxxxxxxx xxxxxxxx without consent xxxx record agent mislead   \n",
       "2                                                                                                                                                                                                  chase card report xxxx however fraudulent application submit identity without consent fraudulently obtain service extend credit without verify identity applicant   \n",
       "3      xxxx try book xxxx xxxx ticket come across offer apply towards ticket apply reward card put information offer within less minute notified via screen decision could make immediately contacted xxxx refer chase bank immediately contact chase bank within minute get notification screen tell chase representative spoke application deny could state ask...   \n",
       "4                                                          grand son give check deposit chase account fund clear chase bank close account never pay money say need speek grand son check clear money take chase bank refuse pay money grand son call chase time tell call verify check owner country time date happen xxxx check number xxxx claim number xxxx chase   \n",
       "...                                                                                                                                                                                                                                                                                                                                                              ...   \n",
       "21067  chase card customer well decade offer multiple solicitation acquire new credit card chase bonus airline mile hotel point approve new card annual fee st year less month payment always pay agree chase close card one approve new card never activate sent chase do harm credit charge annual fee even though cancelled account fail credit point airline ...   \n",
       "21068  wednesday xxxxxxxx call chas xxxx xxxx visa credit card provider ask make claim purchase protection benefit xxxxxxxx purchase three high school textbook xxxx year old daughter transfer new school three book damage water bottle backpack break chase representative assure textbook would cover instructed file claim xxxx immediately go website file ...   \n",
       "21069  familiar xxxx pay understand great risk provide consumer believe safe chase bank app chase almost year trust mobile banking sadly regretful tell deal merchant except merchant refuse answer inquiry shut communication website say merchant look entirely legitamite even use face highly successful brand individual link social medium without consent ...   \n",
       "21070  flawless credit yrs ive chase credit card chase freedom specifically since xxxx problem ever ive do many balance transfer life plenty experience recently balance transfer chase freedom many chase card apparently freeedom get first bill minimum payment shock immediately call xxxxxxxx representative tell min payment high bc make pay balance trans...   \n",
       "21071  roughly year ago close account jp morgan chase bank xxxx order close unsecured line credit pay close account roughly payment close account get late payment show credit report year state owe close dollar never payment schedule notification year pay upon call tell need show proof pay would like think indeed pay would immediately receive late paym...   \n",
       "\n",
       "                                                                                                                                                                                                                                                                                                                                               complaint_POS_removed  \\\n",
       "0                                                                                                                                                                                    morning name appreciate chase bank cardmember service chase debt verification statement bank debt mail month attempt debt right information consumer chase account advance help   \n",
       "1                                                                                                                                                                                                                                              xxxx card tell agent date information order upgrade account change anniversary date consent xxxx record agent mislead   \n",
       "2                                                                                                                                                                                                                                                                                  card report application submit identity consent service credit identity applicant   \n",
       "3      try book ticket come offer apply ticket card information offer decision bank chase bank get notification screen spoke application deny state information xxxx offer credit offer account statement purchase ticket get deny account application withdrawn oblige happen application xxxx request proceed application tell chase chase fact credit account ...   \n",
       "4                                                                                                                                                                                                son check deposit chase account fund bank account money son check money bank refuse pay money son call time check owner country time date number claim number chase   \n",
       "...                                                                                                                                                                                                                                                                                                                                                              ...   \n",
       "21067                                                                                                                       chase card customer decade offer solicitation credit card chase bonus airline hotel point card fee year month payment chase card chase credit charge fee account credit point airline hotel credit enrollment fail credit airline charge   \n",
       "21068  call chas xxxx credit card provider claim purchase protection benefit purchase school textbook year daughter school book damage water bottle backpack break assure textbook claim file claim request paperwork copy credit card statement copy receipt evidence damage book item cover claim claim insurance provider review information contact business ...   \n",
       "21069  pay risk consumer chase bank chase year trust tell deal merchant merchant refuse answer inquiry shut communication look face brand medium consent perform research phone number information pi merchant account title holder perpetuate cycle fraud fix voip use identity chase bank report report recourse matter place address issue app verbiage point ...   \n",
       "21070  flawless credit chase credit card chase freedom xxxx problem balance transfer life experience balance transfer chase bill payment shock representative tell payment pay balance transfer fee payment balance standard rate advertise pay payment xxxxxxxx shock payment pay try work chase pay user agreement paperwork year everyone world card chase amt...   \n",
       "21071                                                                                                   year account jp bank order line credit pay account payment account get payment show credit report year state dollar payment schedule notification year pay call pay pay payment notification chase bank customer service charge way line banking institution   \n",
       "\n",
       "       complaint_length  \\\n",
       "0                   175   \n",
       "1                   117   \n",
       "2                    81   \n",
       "3                   429   \n",
       "4                   163   \n",
       "...                 ...   \n",
       "21067               232   \n",
       "21068               702   \n",
       "21069               695   \n",
       "21070               563   \n",
       "21071               252   \n",
       "\n",
       "                                                                                                                                                                                                                                                                                                                                                     Complaint_clean  \\\n",
       "0                                                                                                                                                                                    morning name appreciate chase bank cardmember service chase debt verification statement bank debt mail month attempt debt right information consumer chase account advance help   \n",
       "1                                                                                                                                                                                                                                                       card tell agent date information order upgrade account change anniversary date consent  record agent mislead   \n",
       "2                                                                                                                                                                                                                                                                                  card report application submit identity consent service credit identity applicant   \n",
       "3      try book ticket come offer apply ticket card information offer decision bank chase bank get notification screen spoke application deny state information  offer credit offer account statement purchase ticket get deny account application withdrawn oblige happen application  request proceed application tell chase chase fact credit account name rep...   \n",
       "4                                                                                                                                                                                                son check deposit chase account fund bank account money son check money bank refuse pay money son call time check owner country time date number claim number chase   \n",
       "...                                                                                                                                                                                                                                                                                                                                                              ...   \n",
       "21067                                                                                                                       chase card customer decade offer solicitation credit card chase bonus airline hotel point card fee year month payment chase card chase credit charge fee account credit point airline hotel credit enrollment fail credit airline charge   \n",
       "21068  call chas  credit card provider claim purchase protection benefit purchase school textbook year daughter school book damage water bottle backpack break assure textbook claim file claim request paperwork copy credit card statement copy receipt evidence damage book item cover claim claim insurance provider review information contact business day ...   \n",
       "21069  pay risk consumer chase bank chase year trust tell deal merchant merchant refuse answer inquiry shut communication look face brand medium consent perform research phone number information pi merchant account title holder perpetuate cycle fraud fix voip use identity chase bank report report recourse matter place address issue app verbiage point ...   \n",
       "21070  flawless credit chase credit card chase freedom  problem balance transfer life experience balance transfer chase bill payment shock representative tell payment pay balance transfer fee payment balance standard rate advertise pay payment  shock payment pay try work chase pay user agreement paperwork year everyone world card chase amt someone pay...   \n",
       "21071                                                                                                   year account jp bank order line credit pay account payment account get payment show credit report year state dollar payment schedule notification year pay call pay pay payment notification chase bank customer service charge way line banking institution   \n",
       "\n",
       "                             Topic  \n",
       "0            Bank Account services  \n",
       "1      Credit card or prepaid card  \n",
       "2      Credit card or prepaid card  \n",
       "3      Credit card or prepaid card  \n",
       "4            Bank Account services  \n",
       "...                            ...  \n",
       "21067  Credit card or prepaid card  \n",
       "21068      Theft/Dispute Reporting  \n",
       "21069      Theft/Dispute Reporting  \n",
       "21070                Mortgage/Loan  \n",
       "21071                Mortgage/Loan  \n",
       "\n",
       "[21072 rows x 6 columns]"
      ]
     },
     "execution_count": 40,
     "metadata": {},
     "output_type": "execute_result"
    }
   ],
   "source": [
    "df_clean"
   ]
  },
  {
   "cell_type": "markdown",
   "id": "fae7c401",
   "metadata": {},
   "source": [
    "### <span style=\"color:navy\">Observation:</span>\n",
    "\n",
    "- The dictionary with top five entries, with topics labeled from 0 to 4, replaced the integer topic labels in the \"Topic\" column of the `df_clean` DataFrame with their corresponding topic names\n",
    "\n",
    "- Sucessfully transformed the numerical topic labels into descriptive topic names, making it easier to interpret and analyze the topics represented by each complaint in the dataset.\n"
   ]
  },
  {
   "cell_type": "markdown",
   "id": "4d5b9af9",
   "metadata": {
    "id": "7Mu0QBOcJrGH",
    "papermill": {
     "duration": 2.749693,
     "end_time": "2022-01-13T18:55:12.399816",
     "exception": false,
     "start_time": "2022-01-13T18:55:09.650123",
     "status": "completed"
    },
    "tags": []
   },
   "source": [
    "## Supervised model to predict any new complaints to the relevant Topics.\n",
    "\n",
    "You have now build the model to create the topics for each complaints.Now in the below section you will use them to classify any new complaints.\n",
    "\n",
    "Since you will be using supervised learning technique we have to convert the topic names to numbers(numpy arrays only understand numbers)"
   ]
  },
  {
   "cell_type": "code",
   "execution_count": 41,
   "id": "5832bad0",
   "metadata": {
    "execution": {
     "iopub.execute_input": "2022-01-13T18:55:17.725078Z",
     "iopub.status.busy": "2022-01-13T18:55:17.724130Z",
     "iopub.status.idle": "2022-01-13T18:55:17.728568Z",
     "shell.execute_reply": "2022-01-13T18:55:17.727995Z",
     "shell.execute_reply.started": "2022-01-13T18:10:13.585476Z"
    },
    "id": "_U8J3J8wJrGH",
    "papermill": {
     "duration": 2.668445,
     "end_time": "2022-01-13T18:55:17.728708",
     "exception": false,
     "start_time": "2022-01-13T18:55:15.060263",
     "status": "completed"
    },
    "tags": []
   },
   "outputs": [],
   "source": [
    "# Create the dictionary again of Topic names and Topics\n",
    "Topic_names = {\"Bank Account services\":0,\n",
    "               \"Credit card or prepaid card\":1,\n",
    "               \"Others\":2,\n",
    "               \"Theft/Dispute Reporting\":3,\n",
    "               \"Mortgage/Loan\":4}\n",
    "\n",
    "# Replace Topics with Topic Names\n",
    "df_clean['Topic'] = df_clean['Topic'].map(Topic_names)"
   ]
  },
  {
   "cell_type": "code",
   "execution_count": 42,
   "id": "3f8ca77f",
   "metadata": {
    "execution": {
     "iopub.execute_input": "2022-01-13T18:55:23.079486Z",
     "iopub.status.busy": "2022-01-13T18:55:23.078480Z",
     "iopub.status.idle": "2022-01-13T18:55:23.093187Z",
     "shell.execute_reply": "2022-01-13T18:55:23.093646Z",
     "shell.execute_reply.started": "2022-01-13T18:10:13.599854Z"
    },
    "id": "BWIgJUkQJrGH",
    "papermill": {
     "duration": 2.706682,
     "end_time": "2022-01-13T18:55:23.093821",
     "exception": false,
     "start_time": "2022-01-13T18:55:20.387139",
     "status": "completed"
    },
    "tags": []
   },
   "outputs": [
    {
     "data": {
      "text/html": [
       "<div>\n",
       "<style scoped>\n",
       "    .dataframe tbody tr th:only-of-type {\n",
       "        vertical-align: middle;\n",
       "    }\n",
       "\n",
       "    .dataframe tbody tr th {\n",
       "        vertical-align: top;\n",
       "    }\n",
       "\n",
       "    .dataframe thead th {\n",
       "        text-align: right;\n",
       "    }\n",
       "</style>\n",
       "<table border=\"1\" class=\"dataframe\">\n",
       "  <thead>\n",
       "    <tr style=\"text-align: right;\">\n",
       "      <th></th>\n",
       "      <th>complaint_what_happened</th>\n",
       "      <th>lemmatized_complaints</th>\n",
       "      <th>complaint_POS_removed</th>\n",
       "      <th>complaint_length</th>\n",
       "      <th>Complaint_clean</th>\n",
       "      <th>Topic</th>\n",
       "    </tr>\n",
       "  </thead>\n",
       "  <tbody>\n",
       "    <tr>\n",
       "      <th>0</th>\n",
       "      <td>Good morning my name is XXXX XXXX and I appreciate it if you could help me put a stop to Chase Bank cardmember services. \\nIn 2018 I wrote to Chase asking for debt verification and what they sent me a statement which is not acceptable. I am asking the bank to validate the debt. Instead I been receiving mail every month from them attempting to c...</td>\n",
       "      <td>good morning name xxxx xxxx appreciate could help put stop chase bank cardmember service write chase ask debt verification send statement acceptable ask bank validate debt instead receive mail every month attempt collect debt right know information consumer chase account xxxx xxxx xxxx xxxx thanks advance help</td>\n",
       "      <td>morning name appreciate chase bank cardmember service chase debt verification statement bank debt mail month attempt debt right information consumer chase account advance help</td>\n",
       "      <td>175</td>\n",
       "      <td>morning name appreciate chase bank cardmember service chase debt verification statement bank debt mail month attempt debt right information consumer chase account advance help</td>\n",
       "      <td>0</td>\n",
       "    </tr>\n",
       "    <tr>\n",
       "      <th>1</th>\n",
       "      <td>I upgraded my XXXX XXXX card in XX/XX/2018 and was told by the agent who did the upgrade my anniversary date would not change. It turned the agent was giving me the wrong information in order to upgrade the account. XXXX   changed my anniversary date from XX/XX/XXXX to XX/XX/XXXX without my consent! XXXX has the recording of the agent who was m...</td>\n",
       "      <td>upgraded xxxx xxxx card xxxx tell agent upgrade anniversary date would change turned agent give wrong information order upgrade account xxxx change anniversary date xxxxxxxx xxxxxxxx without consent xxxx record agent mislead</td>\n",
       "      <td>xxxx card tell agent date information order upgrade account change anniversary date consent xxxx record agent mislead</td>\n",
       "      <td>117</td>\n",
       "      <td>card tell agent date information order upgrade account change anniversary date consent  record agent mislead</td>\n",
       "      <td>1</td>\n",
       "    </tr>\n",
       "    <tr>\n",
       "      <th>2</th>\n",
       "      <td>Chase Card was reported on XX/XX/2019. However, fraudulent application have been submitted my identity without my consent to fraudulently obtain services. Do not extend credit without verifying the identity of the applicant.</td>\n",
       "      <td>chase card report xxxx however fraudulent application submit identity without consent fraudulently obtain service extend credit without verify identity applicant</td>\n",
       "      <td>card report application submit identity consent service credit identity applicant</td>\n",
       "      <td>81</td>\n",
       "      <td>card report application submit identity consent service credit identity applicant</td>\n",
       "      <td>1</td>\n",
       "    </tr>\n",
       "    <tr>\n",
       "      <th>3</th>\n",
       "      <td>On XX/XX/2018, while trying to book a XXXX  XXXX  ticket, I came across an offer for {$300.00} to be applied towards the ticket if I applied for a rewards card. I put in my information for the offer and within less than a minute, was notified via the screen that a decision could not be made. I immediately contacted XXXX and was referred to Chas...</td>\n",
       "      <td>xxxx try book xxxx xxxx ticket come across offer apply towards ticket apply reward card put information offer within less minute notified via screen decision could make immediately contacted xxxx refer chase bank immediately contact chase bank within minute get notification screen tell chase representative spoke application deny could state ask...</td>\n",
       "      <td>try book ticket come offer apply ticket card information offer decision bank chase bank get notification screen spoke application deny state information xxxx offer credit offer account statement purchase ticket get deny account application withdrawn oblige happen application xxxx request proceed application tell chase chase fact credit account ...</td>\n",
       "      <td>429</td>\n",
       "      <td>try book ticket come offer apply ticket card information offer decision bank chase bank get notification screen spoke application deny state information  offer credit offer account statement purchase ticket get deny account application withdrawn oblige happen application  request proceed application tell chase chase fact credit account name rep...</td>\n",
       "      <td>1</td>\n",
       "    </tr>\n",
       "    <tr>\n",
       "      <th>4</th>\n",
       "      <td>my grand son give me check for {$1600.00} i deposit it into my chase account after fund clear my chase bank closed my account never paid me my money they said they need to speek with my grand son check was clear money was taking by my chase bank refuse to pay me my money my grand son called chase 2 times they told him i should call not him to v...</td>\n",
       "      <td>grand son give check deposit chase account fund clear chase bank close account never pay money say need speek grand son check clear money take chase bank refuse pay money grand son call chase time tell call verify check owner country time date happen xxxx check number xxxx claim number xxxx chase</td>\n",
       "      <td>son check deposit chase account fund bank account money son check money bank refuse pay money son call time check owner country time date number claim number chase</td>\n",
       "      <td>163</td>\n",
       "      <td>son check deposit chase account fund bank account money son check money bank refuse pay money son call time check owner country time date number claim number chase</td>\n",
       "      <td>0</td>\n",
       "    </tr>\n",
       "    <tr>\n",
       "      <th>...</th>\n",
       "      <td>...</td>\n",
       "      <td>...</td>\n",
       "      <td>...</td>\n",
       "      <td>...</td>\n",
       "      <td>...</td>\n",
       "      <td>...</td>\n",
       "    </tr>\n",
       "    <tr>\n",
       "      <th>21067</th>\n",
       "      <td>After being a Chase Card customer for well over a decade, was offered multiple solicitations for acquiring new credit cards with Chase - all with bonus airline miles and hotel points. Was approved for all ( 3 ) new cards with No annual fee for 1st year. After less than 2 months with payment always paid as agreed, Chase closed all my cards. One ...</td>\n",
       "      <td>chase card customer well decade offer multiple solicitation acquire new credit card chase bonus airline mile hotel point approve new card annual fee st year less month payment always pay agree chase close card one approve new card never activate sent chase do harm credit charge annual fee even though cancelled account fail credit point airline ...</td>\n",
       "      <td>chase card customer decade offer solicitation credit card chase bonus airline hotel point card fee year month payment chase card chase credit charge fee account credit point airline hotel credit enrollment fail credit airline charge</td>\n",
       "      <td>232</td>\n",
       "      <td>chase card customer decade offer solicitation credit card chase bonus airline hotel point card fee year month payment chase card chase credit charge fee account credit point airline hotel credit enrollment fail credit airline charge</td>\n",
       "      <td>1</td>\n",
       "    </tr>\n",
       "    <tr>\n",
       "      <th>21068</th>\n",
       "      <td>On Wednesday, XX/XX/XXXX I called Chas, my XXXX XXXX Visa Credit Card provider, and asked how to make a claim under their purchase protection benefit. On XX/XX/XXXX, I purchased three high school textbooks for my XXXX year old daughter because she transferred to a new school. All three books were damaged when a water bottle in her backpack brok...</td>\n",
       "      <td>wednesday xxxxxxxx call chas xxxx xxxx visa credit card provider ask make claim purchase protection benefit xxxxxxxx purchase three high school textbook xxxx year old daughter transfer new school three book damage water bottle backpack break chase representative assure textbook would cover instructed file claim xxxx immediately go website file ...</td>\n",
       "      <td>call chas xxxx credit card provider claim purchase protection benefit purchase school textbook year daughter school book damage water bottle backpack break assure textbook claim file claim request paperwork copy credit card statement copy receipt evidence damage book item cover claim claim insurance provider review information contact business ...</td>\n",
       "      <td>702</td>\n",
       "      <td>call chas  credit card provider claim purchase protection benefit purchase school textbook year daughter school book damage water bottle backpack break assure textbook claim file claim request paperwork copy credit card statement copy receipt evidence damage book item cover claim claim insurance provider review information contact business day ...</td>\n",
       "      <td>3</td>\n",
       "    </tr>\n",
       "    <tr>\n",
       "      <th>21069</th>\n",
       "      <td>I am not familiar with XXXX pay and did not understand the great risk this provides to consumers. I believed this to be safe as it was through my Chase bank app. I have been with Chase for almost 20 years and trust their mobile banking and now am sadly regretful. I am being told to deal with the merchant except the merchant has refused to answe...</td>\n",
       "      <td>familiar xxxx pay understand great risk provide consumer believe safe chase bank app chase almost year trust mobile banking sadly regretful tell deal merchant except merchant refuse answer inquiry shut communication website say merchant look entirely legitamite even use face highly successful brand individual link social medium without consent ...</td>\n",
       "      <td>pay risk consumer chase bank chase year trust tell deal merchant merchant refuse answer inquiry shut communication look face brand medium consent perform research phone number information pi merchant account title holder perpetuate cycle fraud fix voip use identity chase bank report report recourse matter place address issue app verbiage point ...</td>\n",
       "      <td>695</td>\n",
       "      <td>pay risk consumer chase bank chase year trust tell deal merchant merchant refuse answer inquiry shut communication look face brand medium consent perform research phone number information pi merchant account title holder perpetuate cycle fraud fix voip use identity chase bank report report recourse matter place address issue app verbiage point ...</td>\n",
       "      <td>3</td>\n",
       "    </tr>\n",
       "    <tr>\n",
       "      <th>21070</th>\n",
       "      <td>I have had flawless credit for 30 yrs. I've had Chase credit cards, \" Chase Freedom '' specifically since XXXX with no problems ever. I've done many balance transfers in my life, so I have plenty of experience. I recently did a balance transfer with Chase Freedom for {$9000.00} ( did many with other Chase cards, but apparently not \" Freeedom ''...</td>\n",
       "      <td>flawless credit yrs ive chase credit card chase freedom specifically since xxxx problem ever ive do many balance transfer life plenty experience recently balance transfer chase freedom many chase card apparently freeedom get first bill minimum payment shock immediately call xxxxxxxx representative tell min payment high bc make pay balance trans...</td>\n",
       "      <td>flawless credit chase credit card chase freedom xxxx problem balance transfer life experience balance transfer chase bill payment shock representative tell payment pay balance transfer fee payment balance standard rate advertise pay payment xxxxxxxx shock payment pay try work chase pay user agreement paperwork year everyone world card chase amt...</td>\n",
       "      <td>563</td>\n",
       "      <td>flawless credit chase credit card chase freedom  problem balance transfer life experience balance transfer chase bill payment shock representative tell payment pay balance transfer fee payment balance standard rate advertise pay payment  shock payment pay try work chase pay user agreement paperwork year everyone world card chase amt someone pay...</td>\n",
       "      <td>4</td>\n",
       "    </tr>\n",
       "    <tr>\n",
       "      <th>21071</th>\n",
       "      <td>Roughly 10+ years ago I closed out my accounts with JP Morgan Chase Bank XXXX in order to close out an unsecured line of credit I had to pay it off. I did that to close out my account roughly {$500.00} payment when I closed out the accounts, and now I get this late payment that showed up on my credit report after 10+ years stating I owe close t...</td>\n",
       "      <td>roughly year ago close account jp morgan chase bank xxxx order close unsecured line credit pay close account roughly payment close account get late payment show credit report year state owe close dollar never payment schedule notification year pay upon call tell need show proof pay would like think indeed pay would immediately receive late paym...</td>\n",
       "      <td>year account jp bank order line credit pay account payment account get payment show credit report year state dollar payment schedule notification year pay call pay pay payment notification chase bank customer service charge way line banking institution</td>\n",
       "      <td>252</td>\n",
       "      <td>year account jp bank order line credit pay account payment account get payment show credit report year state dollar payment schedule notification year pay call pay pay payment notification chase bank customer service charge way line banking institution</td>\n",
       "      <td>4</td>\n",
       "    </tr>\n",
       "  </tbody>\n",
       "</table>\n",
       "<p>21072 rows × 6 columns</p>\n",
       "</div>"
      ],
      "text/plain": [
       "                                                                                                                                                                                                                                                                                                                                             complaint_what_happened  \\\n",
       "0      Good morning my name is XXXX XXXX and I appreciate it if you could help me put a stop to Chase Bank cardmember services. \\nIn 2018 I wrote to Chase asking for debt verification and what they sent me a statement which is not acceptable. I am asking the bank to validate the debt. Instead I been receiving mail every month from them attempting to c...   \n",
       "1      I upgraded my XXXX XXXX card in XX/XX/2018 and was told by the agent who did the upgrade my anniversary date would not change. It turned the agent was giving me the wrong information in order to upgrade the account. XXXX   changed my anniversary date from XX/XX/XXXX to XX/XX/XXXX without my consent! XXXX has the recording of the agent who was m...   \n",
       "2                                                                                                                                   Chase Card was reported on XX/XX/2019. However, fraudulent application have been submitted my identity without my consent to fraudulently obtain services. Do not extend credit without verifying the identity of the applicant.   \n",
       "3      On XX/XX/2018, while trying to book a XXXX  XXXX  ticket, I came across an offer for {$300.00} to be applied towards the ticket if I applied for a rewards card. I put in my information for the offer and within less than a minute, was notified via the screen that a decision could not be made. I immediately contacted XXXX and was referred to Chas...   \n",
       "4      my grand son give me check for {$1600.00} i deposit it into my chase account after fund clear my chase bank closed my account never paid me my money they said they need to speek with my grand son check was clear money was taking by my chase bank refuse to pay me my money my grand son called chase 2 times they told him i should call not him to v...   \n",
       "...                                                                                                                                                                                                                                                                                                                                                              ...   \n",
       "21067  After being a Chase Card customer for well over a decade, was offered multiple solicitations for acquiring new credit cards with Chase - all with bonus airline miles and hotel points. Was approved for all ( 3 ) new cards with No annual fee for 1st year. After less than 2 months with payment always paid as agreed, Chase closed all my cards. One ...   \n",
       "21068  On Wednesday, XX/XX/XXXX I called Chas, my XXXX XXXX Visa Credit Card provider, and asked how to make a claim under their purchase protection benefit. On XX/XX/XXXX, I purchased three high school textbooks for my XXXX year old daughter because she transferred to a new school. All three books were damaged when a water bottle in her backpack brok...   \n",
       "21069  I am not familiar with XXXX pay and did not understand the great risk this provides to consumers. I believed this to be safe as it was through my Chase bank app. I have been with Chase for almost 20 years and trust their mobile banking and now am sadly regretful. I am being told to deal with the merchant except the merchant has refused to answe...   \n",
       "21070  I have had flawless credit for 30 yrs. I've had Chase credit cards, \" Chase Freedom '' specifically since XXXX with no problems ever. I've done many balance transfers in my life, so I have plenty of experience. I recently did a balance transfer with Chase Freedom for {$9000.00} ( did many with other Chase cards, but apparently not \" Freeedom ''...   \n",
       "21071  Roughly 10+ years ago I closed out my accounts with JP Morgan Chase Bank XXXX in order to close out an unsecured line of credit I had to pay it off. I did that to close out my account roughly {$500.00} payment when I closed out the accounts, and now I get this late payment that showed up on my credit report after 10+ years stating I owe close t...   \n",
       "\n",
       "                                                                                                                                                                                                                                                                                                                                               lemmatized_complaints  \\\n",
       "0                                            good morning name xxxx xxxx appreciate could help put stop chase bank cardmember service write chase ask debt verification send statement acceptable ask bank validate debt instead receive mail every month attempt collect debt right know information consumer chase account xxxx xxxx xxxx xxxx thanks advance help   \n",
       "1                                                                                                                                   upgraded xxxx xxxx card xxxx tell agent upgrade anniversary date would change turned agent give wrong information order upgrade account xxxx change anniversary date xxxxxxxx xxxxxxxx without consent xxxx record agent mislead   \n",
       "2                                                                                                                                                                                                  chase card report xxxx however fraudulent application submit identity without consent fraudulently obtain service extend credit without verify identity applicant   \n",
       "3      xxxx try book xxxx xxxx ticket come across offer apply towards ticket apply reward card put information offer within less minute notified via screen decision could make immediately contacted xxxx refer chase bank immediately contact chase bank within minute get notification screen tell chase representative spoke application deny could state ask...   \n",
       "4                                                          grand son give check deposit chase account fund clear chase bank close account never pay money say need speek grand son check clear money take chase bank refuse pay money grand son call chase time tell call verify check owner country time date happen xxxx check number xxxx claim number xxxx chase   \n",
       "...                                                                                                                                                                                                                                                                                                                                                              ...   \n",
       "21067  chase card customer well decade offer multiple solicitation acquire new credit card chase bonus airline mile hotel point approve new card annual fee st year less month payment always pay agree chase close card one approve new card never activate sent chase do harm credit charge annual fee even though cancelled account fail credit point airline ...   \n",
       "21068  wednesday xxxxxxxx call chas xxxx xxxx visa credit card provider ask make claim purchase protection benefit xxxxxxxx purchase three high school textbook xxxx year old daughter transfer new school three book damage water bottle backpack break chase representative assure textbook would cover instructed file claim xxxx immediately go website file ...   \n",
       "21069  familiar xxxx pay understand great risk provide consumer believe safe chase bank app chase almost year trust mobile banking sadly regretful tell deal merchant except merchant refuse answer inquiry shut communication website say merchant look entirely legitamite even use face highly successful brand individual link social medium without consent ...   \n",
       "21070  flawless credit yrs ive chase credit card chase freedom specifically since xxxx problem ever ive do many balance transfer life plenty experience recently balance transfer chase freedom many chase card apparently freeedom get first bill minimum payment shock immediately call xxxxxxxx representative tell min payment high bc make pay balance trans...   \n",
       "21071  roughly year ago close account jp morgan chase bank xxxx order close unsecured line credit pay close account roughly payment close account get late payment show credit report year state owe close dollar never payment schedule notification year pay upon call tell need show proof pay would like think indeed pay would immediately receive late paym...   \n",
       "\n",
       "                                                                                                                                                                                                                                                                                                                                               complaint_POS_removed  \\\n",
       "0                                                                                                                                                                                    morning name appreciate chase bank cardmember service chase debt verification statement bank debt mail month attempt debt right information consumer chase account advance help   \n",
       "1                                                                                                                                                                                                                                              xxxx card tell agent date information order upgrade account change anniversary date consent xxxx record agent mislead   \n",
       "2                                                                                                                                                                                                                                                                                  card report application submit identity consent service credit identity applicant   \n",
       "3      try book ticket come offer apply ticket card information offer decision bank chase bank get notification screen spoke application deny state information xxxx offer credit offer account statement purchase ticket get deny account application withdrawn oblige happen application xxxx request proceed application tell chase chase fact credit account ...   \n",
       "4                                                                                                                                                                                                son check deposit chase account fund bank account money son check money bank refuse pay money son call time check owner country time date number claim number chase   \n",
       "...                                                                                                                                                                                                                                                                                                                                                              ...   \n",
       "21067                                                                                                                       chase card customer decade offer solicitation credit card chase bonus airline hotel point card fee year month payment chase card chase credit charge fee account credit point airline hotel credit enrollment fail credit airline charge   \n",
       "21068  call chas xxxx credit card provider claim purchase protection benefit purchase school textbook year daughter school book damage water bottle backpack break assure textbook claim file claim request paperwork copy credit card statement copy receipt evidence damage book item cover claim claim insurance provider review information contact business ...   \n",
       "21069  pay risk consumer chase bank chase year trust tell deal merchant merchant refuse answer inquiry shut communication look face brand medium consent perform research phone number information pi merchant account title holder perpetuate cycle fraud fix voip use identity chase bank report report recourse matter place address issue app verbiage point ...   \n",
       "21070  flawless credit chase credit card chase freedom xxxx problem balance transfer life experience balance transfer chase bill payment shock representative tell payment pay balance transfer fee payment balance standard rate advertise pay payment xxxxxxxx shock payment pay try work chase pay user agreement paperwork year everyone world card chase amt...   \n",
       "21071                                                                                                   year account jp bank order line credit pay account payment account get payment show credit report year state dollar payment schedule notification year pay call pay pay payment notification chase bank customer service charge way line banking institution   \n",
       "\n",
       "       complaint_length  \\\n",
       "0                   175   \n",
       "1                   117   \n",
       "2                    81   \n",
       "3                   429   \n",
       "4                   163   \n",
       "...                 ...   \n",
       "21067               232   \n",
       "21068               702   \n",
       "21069               695   \n",
       "21070               563   \n",
       "21071               252   \n",
       "\n",
       "                                                                                                                                                                                                                                                                                                                                                     Complaint_clean  \\\n",
       "0                                                                                                                                                                                    morning name appreciate chase bank cardmember service chase debt verification statement bank debt mail month attempt debt right information consumer chase account advance help   \n",
       "1                                                                                                                                                                                                                                                       card tell agent date information order upgrade account change anniversary date consent  record agent mislead   \n",
       "2                                                                                                                                                                                                                                                                                  card report application submit identity consent service credit identity applicant   \n",
       "3      try book ticket come offer apply ticket card information offer decision bank chase bank get notification screen spoke application deny state information  offer credit offer account statement purchase ticket get deny account application withdrawn oblige happen application  request proceed application tell chase chase fact credit account name rep...   \n",
       "4                                                                                                                                                                                                son check deposit chase account fund bank account money son check money bank refuse pay money son call time check owner country time date number claim number chase   \n",
       "...                                                                                                                                                                                                                                                                                                                                                              ...   \n",
       "21067                                                                                                                       chase card customer decade offer solicitation credit card chase bonus airline hotel point card fee year month payment chase card chase credit charge fee account credit point airline hotel credit enrollment fail credit airline charge   \n",
       "21068  call chas  credit card provider claim purchase protection benefit purchase school textbook year daughter school book damage water bottle backpack break assure textbook claim file claim request paperwork copy credit card statement copy receipt evidence damage book item cover claim claim insurance provider review information contact business day ...   \n",
       "21069  pay risk consumer chase bank chase year trust tell deal merchant merchant refuse answer inquiry shut communication look face brand medium consent perform research phone number information pi merchant account title holder perpetuate cycle fraud fix voip use identity chase bank report report recourse matter place address issue app verbiage point ...   \n",
       "21070  flawless credit chase credit card chase freedom  problem balance transfer life experience balance transfer chase bill payment shock representative tell payment pay balance transfer fee payment balance standard rate advertise pay payment  shock payment pay try work chase pay user agreement paperwork year everyone world card chase amt someone pay...   \n",
       "21071                                                                                                   year account jp bank order line credit pay account payment account get payment show credit report year state dollar payment schedule notification year pay call pay pay payment notification chase bank customer service charge way line banking institution   \n",
       "\n",
       "       Topic  \n",
       "0          0  \n",
       "1          1  \n",
       "2          1  \n",
       "3          1  \n",
       "4          0  \n",
       "...      ...  \n",
       "21067      1  \n",
       "21068      3  \n",
       "21069      3  \n",
       "21070      4  \n",
       "21071      4  \n",
       "\n",
       "[21072 rows x 6 columns]"
      ]
     },
     "execution_count": 42,
     "metadata": {},
     "output_type": "execute_result"
    }
   ],
   "source": [
    "df_clean"
   ]
  },
  {
   "cell_type": "code",
   "execution_count": 43,
   "id": "edb61f17",
   "metadata": {
    "execution": {
     "iopub.execute_input": "2022-01-13T18:55:28.417996Z",
     "iopub.status.busy": "2022-01-13T18:55:28.416764Z",
     "iopub.status.idle": "2022-01-13T18:55:28.418844Z",
     "shell.execute_reply": "2022-01-13T18:55:28.419372Z",
     "shell.execute_reply.started": "2022-01-13T18:10:13.626653Z"
    },
    "id": "Xx-FrbkWJrGH",
    "papermill": {
     "duration": 2.638475,
     "end_time": "2022-01-13T18:55:28.419543",
     "exception": false,
     "start_time": "2022-01-13T18:55:25.781068",
     "status": "completed"
    },
    "tags": []
   },
   "outputs": [],
   "source": [
    "# Keep the columns\"complaint_what_happened\" & \"Topic\" only in the new dataframe --> training_data\n",
    "training_data = df_clean[[\"complaint_what_happened\",\"Topic\"]]"
   ]
  },
  {
   "cell_type": "code",
   "execution_count": 44,
   "id": "14d4c32e",
   "metadata": {
    "execution": {
     "iopub.execute_input": "2022-01-13T18:55:33.771775Z",
     "iopub.status.busy": "2022-01-13T18:55:33.771001Z",
     "iopub.status.idle": "2022-01-13T18:55:33.774762Z",
     "shell.execute_reply": "2022-01-13T18:55:33.775265Z",
     "shell.execute_reply.started": "2022-01-13T18:10:13.641913Z"
    },
    "id": "lVg2pa12JrGI",
    "papermill": {
     "duration": 2.64269,
     "end_time": "2022-01-13T18:55:33.775454",
     "exception": false,
     "start_time": "2022-01-13T18:55:31.132764",
     "status": "completed"
    },
    "tags": []
   },
   "outputs": [
    {
     "data": {
      "text/html": [
       "<div>\n",
       "<style scoped>\n",
       "    .dataframe tbody tr th:only-of-type {\n",
       "        vertical-align: middle;\n",
       "    }\n",
       "\n",
       "    .dataframe tbody tr th {\n",
       "        vertical-align: top;\n",
       "    }\n",
       "\n",
       "    .dataframe thead th {\n",
       "        text-align: right;\n",
       "    }\n",
       "</style>\n",
       "<table border=\"1\" class=\"dataframe\">\n",
       "  <thead>\n",
       "    <tr style=\"text-align: right;\">\n",
       "      <th></th>\n",
       "      <th>complaint_what_happened</th>\n",
       "      <th>Topic</th>\n",
       "    </tr>\n",
       "  </thead>\n",
       "  <tbody>\n",
       "    <tr>\n",
       "      <th>0</th>\n",
       "      <td>Good morning my name is XXXX XXXX and I appreciate it if you could help me put a stop to Chase Bank cardmember services. \\nIn 2018 I wrote to Chase asking for debt verification and what they sent me a statement which is not acceptable. I am asking the bank to validate the debt. Instead I been receiving mail every month from them attempting to c...</td>\n",
       "      <td>0</td>\n",
       "    </tr>\n",
       "    <tr>\n",
       "      <th>1</th>\n",
       "      <td>I upgraded my XXXX XXXX card in XX/XX/2018 and was told by the agent who did the upgrade my anniversary date would not change. It turned the agent was giving me the wrong information in order to upgrade the account. XXXX   changed my anniversary date from XX/XX/XXXX to XX/XX/XXXX without my consent! XXXX has the recording of the agent who was m...</td>\n",
       "      <td>1</td>\n",
       "    </tr>\n",
       "    <tr>\n",
       "      <th>2</th>\n",
       "      <td>Chase Card was reported on XX/XX/2019. However, fraudulent application have been submitted my identity without my consent to fraudulently obtain services. Do not extend credit without verifying the identity of the applicant.</td>\n",
       "      <td>1</td>\n",
       "    </tr>\n",
       "    <tr>\n",
       "      <th>3</th>\n",
       "      <td>On XX/XX/2018, while trying to book a XXXX  XXXX  ticket, I came across an offer for {$300.00} to be applied towards the ticket if I applied for a rewards card. I put in my information for the offer and within less than a minute, was notified via the screen that a decision could not be made. I immediately contacted XXXX and was referred to Chas...</td>\n",
       "      <td>1</td>\n",
       "    </tr>\n",
       "    <tr>\n",
       "      <th>4</th>\n",
       "      <td>my grand son give me check for {$1600.00} i deposit it into my chase account after fund clear my chase bank closed my account never paid me my money they said they need to speek with my grand son check was clear money was taking by my chase bank refuse to pay me my money my grand son called chase 2 times they told him i should call not him to v...</td>\n",
       "      <td>0</td>\n",
       "    </tr>\n",
       "    <tr>\n",
       "      <th>5</th>\n",
       "      <td>Can you please remove inquiry</td>\n",
       "      <td>1</td>\n",
       "    </tr>\n",
       "    <tr>\n",
       "      <th>6</th>\n",
       "      <td>With out notice J.P. Morgan Chase restricted my account by my debit card Tuesday XX/XX/2019. On Thursday XX/XX/2019 I went into A branch after being advised by a customer service representative that my account would actually be closed. I went into the branch to see how I can remove the funds that are in there currently in as well as if my direc...</td>\n",
       "      <td>0</td>\n",
       "    </tr>\n",
       "    <tr>\n",
       "      <th>7</th>\n",
       "      <td>During the summer months, I experience a decline income due to my employment. Therefore, I request a one month payment extension with my Auto Loan Company, Chase. For the past almost fours years, my request for payment extension is granted. I have never been delinquent with my auto loan payment. However, On XX/XX/2019 my request for a one month...</td>\n",
       "      <td>4</td>\n",
       "    </tr>\n",
       "    <tr>\n",
       "      <th>8</th>\n",
       "      <td>On XXXX XX/XX/2019, I made a {$300.00} payment to an online retailer using Chase quick pay with XXXX on the Chase website. I realized that this was a scam website after no confirmation, product, or response to any inquiries regarding the order and contacted Chase to get more information about the transaction to attempt getting a refund through ...</td>\n",
       "      <td>3</td>\n",
       "    </tr>\n",
       "    <tr>\n",
       "      <th>9</th>\n",
       "      <td>I have a Chase credit card which is incorrectly reporting data on my credit report. The company is not helping resolve the issue.</td>\n",
       "      <td>1</td>\n",
       "    </tr>\n",
       "  </tbody>\n",
       "</table>\n",
       "</div>"
      ],
      "text/plain": [
       "                                                                                                                                                                                                                                                                                                                                         complaint_what_happened  \\\n",
       "0  Good morning my name is XXXX XXXX and I appreciate it if you could help me put a stop to Chase Bank cardmember services. \\nIn 2018 I wrote to Chase asking for debt verification and what they sent me a statement which is not acceptable. I am asking the bank to validate the debt. Instead I been receiving mail every month from them attempting to c...   \n",
       "1  I upgraded my XXXX XXXX card in XX/XX/2018 and was told by the agent who did the upgrade my anniversary date would not change. It turned the agent was giving me the wrong information in order to upgrade the account. XXXX   changed my anniversary date from XX/XX/XXXX to XX/XX/XXXX without my consent! XXXX has the recording of the agent who was m...   \n",
       "2                                                                                                                               Chase Card was reported on XX/XX/2019. However, fraudulent application have been submitted my identity without my consent to fraudulently obtain services. Do not extend credit without verifying the identity of the applicant.   \n",
       "3  On XX/XX/2018, while trying to book a XXXX  XXXX  ticket, I came across an offer for {$300.00} to be applied towards the ticket if I applied for a rewards card. I put in my information for the offer and within less than a minute, was notified via the screen that a decision could not be made. I immediately contacted XXXX and was referred to Chas...   \n",
       "4  my grand son give me check for {$1600.00} i deposit it into my chase account after fund clear my chase bank closed my account never paid me my money they said they need to speek with my grand son check was clear money was taking by my chase bank refuse to pay me my money my grand son called chase 2 times they told him i should call not him to v...   \n",
       "5                                                                                                                                                                                                                                                                                                                                  Can you please remove inquiry   \n",
       "6  With out notice J.P. Morgan Chase restricted my account by my debit card Tuesday XX/XX/2019. On Thursday XX/XX/2019 I went into A branch after being advised by a customer service representative that my account would actually be closed. I went into the branch to see how I can remove the funds that are in there currently in as well as if my direc...   \n",
       "7  During the summer months, I experience a decline income due to my employment. Therefore, I request a one month payment extension with my Auto Loan Company, Chase. For the past almost fours years, my request for payment extension is granted. I have never been delinquent with my auto loan payment. However, On XX/XX/2019 my request for a one month...   \n",
       "8  On XXXX XX/XX/2019, I made a {$300.00} payment to an online retailer using Chase quick pay with XXXX on the Chase website. I realized that this was a scam website after no confirmation, product, or response to any inquiries regarding the order and contacted Chase to get more information about the transaction to attempt getting a refund through ...   \n",
       "9                                                                                                                                                                                                                              I have a Chase credit card which is incorrectly reporting data on my credit report. The company is not helping resolve the issue.   \n",
       "\n",
       "   Topic  \n",
       "0      0  \n",
       "1      1  \n",
       "2      1  \n",
       "3      1  \n",
       "4      0  \n",
       "5      1  \n",
       "6      0  \n",
       "7      4  \n",
       "8      3  \n",
       "9      1  "
      ]
     },
     "execution_count": 44,
     "metadata": {},
     "output_type": "execute_result"
    }
   ],
   "source": [
    "training_data.head(10)"
   ]
  },
  {
   "cell_type": "markdown",
   "id": "033d204e",
   "metadata": {},
   "source": [
    "### <span style=\"color:navy\">Observation:</span>\n",
    "\n",
    "- The trained model will now be used to classify new complaints.\n",
    "\n",
    "- Since supervised learning techniques require numerical inputs, the topic names are sucessfully converted to numerical values.\n",
    "\n",
    "- Data for supervised learning is now ready\n",
    "\n",
    "- Got `df_clean` DataFrame, containing only the \"complaint_what_happened\" text and the numerical topic labels.\n"
   ]
  },
  {
   "cell_type": "markdown",
   "id": "ac80b8a6",
   "metadata": {
    "id": "280Vbqk-7a8M",
    "papermill": {
     "duration": 2.634713,
     "end_time": "2022-01-13T18:55:39.150419",
     "exception": false,
     "start_time": "2022-01-13T18:55:36.515706",
     "status": "completed"
    },
    "tags": []
   },
   "source": [
    "#### Apply the supervised models on the training data created. In this process, you have to do the following:\n",
    "* Create the vector counts using Count Vectoriser\n",
    "* Transform the word vecotr to tf-idf\n",
    "* Create the train & test data using the train_test_split on the tf-idf & topics\n"
   ]
  },
  {
   "cell_type": "code",
   "execution_count": 45,
   "id": "60b9466a",
   "metadata": {
    "execution": {
     "iopub.execute_input": "2022-01-13T18:55:44.530164Z",
     "iopub.status.busy": "2022-01-13T18:55:44.529175Z",
     "iopub.status.idle": "2022-01-13T18:55:50.567248Z",
     "shell.execute_reply": "2022-01-13T18:55:50.566512Z",
     "shell.execute_reply.started": "2022-01-13T18:10:13.662180Z"
    },
    "id": "oUlQpgkzJrGI",
    "papermill": {
     "duration": 8.730895,
     "end_time": "2022-01-13T18:55:50.567397",
     "exception": false,
     "start_time": "2022-01-13T18:55:41.836502",
     "status": "completed"
    },
    "tags": []
   },
   "outputs": [],
   "source": [
    "# Write your code to get the Vector count\n",
    "count_vect = CountVectorizer()\n",
    "X_train_counts = count_vect.fit_transform(training_data.complaint_what_happened)\n",
    "\n",
    "# Write your code here to transform the word vector to tf-idf\n",
    "tfidf_transformer = TfidfTransformer()\n",
    "X_train_tfidf = tfidf_transformer.fit_transform(X_train_counts)"
   ]
  },
  {
   "cell_type": "code",
   "execution_count": 46,
   "id": "5cbb904e",
   "metadata": {
    "execution": {
     "iopub.execute_input": "2022-01-13T18:55:55.910558Z",
     "iopub.status.busy": "2022-01-13T18:55:55.909595Z",
     "iopub.status.idle": "2022-01-13T18:55:55.931097Z",
     "shell.execute_reply": "2022-01-13T18:55:55.930432Z",
     "shell.execute_reply.started": "2022-01-13T18:10:19.374744Z"
    },
    "papermill": {
     "duration": 2.628738,
     "end_time": "2022-01-13T18:55:55.931240",
     "exception": false,
     "start_time": "2022-01-13T18:55:53.302502",
     "status": "completed"
    },
    "tags": []
   },
   "outputs": [
    {
     "name": "stdout",
     "output_type": "stream",
     "text": [
      "Shape of X_train:\u001b[1m (15804, 29725) \u001b[0m\n",
      "Shape of y_train:\u001b[1m (15804,) \u001b[0m\n",
      "Shape of X_test:\u001b[1m (5268, 29725) \u001b[0m\n",
      "Shape of y_test:\u001b[1m (5268,) \u001b[0m\n"
     ]
    }
   ],
   "source": [
    "from sklearn.model_selection import train_test_split\n",
    "\n",
    "# Performing Train-Test split\n",
    "X_train, X_test, y_train, y_test = train_test_split(X_train_tfidf, training_data.Topic, test_size=0.25, random_state=42)\n",
    "\n",
    "print(f\"Shape of X_train:\\033[1m {X_train.shape}\", '\\033[0m')\n",
    "print(f\"Shape of y_train:\\033[1m {y_train.shape}\", '\\033[0m')\n",
    "print(f\"Shape of X_test:\\033[1m {X_test.shape}\", '\\033[0m')\n",
    "print(f\"Shape of y_test:\\033[1m {y_test.shape}\", '\\033[0m')"
   ]
  },
  {
   "cell_type": "markdown",
   "id": "1154d828",
   "metadata": {},
   "source": [
    "### <span style=\"color:navy\">Observation:</span>\n",
    "\n",
    "- Training data is prepared for model training by creating vector counts using a CountVectorizer. (This step converted the text data into a matrix of token counts.)\n",
    "\n",
    "- The word vectors are sucessfully transformed into Term Frequency-Inverse Document Frequency vectors, which represent the importance of each word in the context of the entire document corpus.\n",
    "\n",
    "- Data splitted into training(75%) and testing sets (25%) \n"
   ]
  },
  {
   "cell_type": "markdown",
   "id": "7d40e613",
   "metadata": {
    "id": "uMU3vj6w-wqL",
    "papermill": {
     "duration": 2.711482,
     "end_time": "2022-01-13T18:56:01.285179",
     "exception": false,
     "start_time": "2022-01-13T18:55:58.573697",
     "status": "completed"
    },
    "tags": []
   },
   "source": [
    "We have to try atleast 3 models on the train & test data from these options:\n",
    "* Logistic regression\n",
    "* Decision Tree\n",
    "* Random Forest\n",
    "* Naive Bayes (optional)\n",
    "\n",
    "**Using the required evaluation metrics judge the tried models and select the ones performing the best**"
   ]
  },
  {
   "cell_type": "markdown",
   "id": "43564921",
   "metadata": {
    "papermill": {
     "duration": 2.718449,
     "end_time": "2022-01-13T18:56:06.625504",
     "exception": false,
     "start_time": "2022-01-13T18:56:03.907055",
     "status": "completed"
    },
    "tags": []
   },
   "source": [
    "### Model 1: Logistic Regression"
   ]
  },
  {
   "cell_type": "code",
   "execution_count": 47,
   "id": "8bf605bb",
   "metadata": {
    "execution": {
     "iopub.execute_input": "2022-01-13T18:56:11.923994Z",
     "iopub.status.busy": "2022-01-13T18:56:11.923312Z",
     "iopub.status.idle": "2022-01-13T18:56:11.930443Z",
     "shell.execute_reply": "2022-01-13T18:56:11.930969Z",
     "shell.execute_reply.started": "2022-01-13T18:10:19.396897Z"
    },
    "papermill": {
     "duration": 2.63478,
     "end_time": "2022-01-13T18:56:11.931159",
     "exception": false,
     "start_time": "2022-01-13T18:56:09.296379",
     "status": "completed"
    },
    "tags": []
   },
   "outputs": [],
   "source": [
    "# Create a function to evaluate models\n",
    "def eval_model(y_test, y_pred, model_name):\n",
    "    # print classification report of classifier\n",
    "    plt.rcParams.update({'font.size': 8})\n",
    "    print(f\"\\033[1mCLASSIFICATION REPORT for {model_name}\\n\", '\\033[0m')\n",
    "    print(classification_report(y_test, y_pred, target_names=[\"Bank Account services\", \"Credit card or prepaid card\", \"Others\", \"Theft/Dispute Reporting\",\"Mortgage/Loan\"]))\n",
    "    \n",
    "    # plot confusion matrix of the classifier\n",
    "    plt.figure(figsize=(5,5))\n",
    "    plt.title(f\"CONFUSION MATRIX for {model_name}\\n\")\n",
    "    matrix = confusion_matrix(y_test, y_pred)\n",
    "    sns.heatmap(matrix, annot=True, cbar=None, cmap=\"Blues\", fmt='d', xticklabels=[\"Bank Account services\", \"Credit card or prepaid card\", \"Others\", \"Theft/Dispute Reporting\",\"Mortgage/Loan\"], yticklabels=[\"Bank Account services\", \"Credit card or prepaid card\", \"Others\", \"Theft/Dispute Reporting\",\"Mortgage/Loan\"])\n",
    "    plt.show()\n",
    "    \n",
    "    return"
   ]
  },
  {
   "cell_type": "code",
   "execution_count": 48,
   "id": "9b7f5591",
   "metadata": {
    "execution": {
     "iopub.execute_input": "2022-01-13T18:56:17.351596Z",
     "iopub.status.busy": "2022-01-13T18:56:17.350870Z",
     "iopub.status.idle": "2022-01-13T18:56:21.504026Z",
     "shell.execute_reply": "2022-01-13T18:56:21.505534Z",
     "shell.execute_reply.started": "2022-01-13T18:10:19.406179Z"
    },
    "papermill": {
     "duration": 6.897574,
     "end_time": "2022-01-13T18:56:21.505824",
     "exception": false,
     "start_time": "2022-01-13T18:56:14.608250",
     "status": "completed"
    },
    "tags": []
   },
   "outputs": [
    {
     "name": "stdout",
     "output_type": "stream",
     "text": [
      "CPU times: user 3 µs, sys: 1e+03 ns, total: 4 µs\n",
      "Wall time: 6.91 µs\n"
     ]
    }
   ],
   "source": [
    "from sklearn.linear_model import LogisticRegression\n",
    "from sklearn.metrics import f1_score, classification_report, confusion_matrix\n",
    "\n",
    "# Run the Logistic Regression model\n",
    "model_name = 'LOGISTIC REGRESSION'\n",
    "clf_lr = LogisticRegression(solver='liblinear')\n",
    "%time \n",
    "clf_lr.fit(X_train, y_train)\n",
    "y_pred_lr = clf_lr.predict(X_test)"
   ]
  },
  {
   "cell_type": "code",
   "execution_count": 49,
   "id": "7009e6f5",
   "metadata": {
    "execution": {
     "iopub.execute_input": "2022-01-13T18:56:26.853741Z",
     "iopub.status.busy": "2022-01-13T18:56:26.852696Z",
     "iopub.status.idle": "2022-01-13T18:56:26.861885Z",
     "shell.execute_reply": "2022-01-13T18:56:26.861365Z",
     "shell.execute_reply.started": "2022-01-13T18:10:23.882562Z"
    },
    "papermill": {
     "duration": 2.676346,
     "end_time": "2022-01-13T18:56:26.862050",
     "exception": false,
     "start_time": "2022-01-13T18:56:24.185704",
     "status": "completed"
    },
    "tags": []
   },
   "outputs": [
    {
     "data": {
      "text/plain": [
       "0.9140870656538107"
      ]
     },
     "execution_count": 49,
     "metadata": {},
     "output_type": "execute_result"
    }
   ],
   "source": [
    "# Calculate F1 Score using weighted average method\n",
    "f1_lr = f1_score(y_test, y_pred_lr, average=\"weighted\")\n",
    "f1_lr"
   ]
  },
  {
   "cell_type": "code",
   "execution_count": 50,
   "id": "3071f570",
   "metadata": {
    "execution": {
     "iopub.execute_input": "2022-01-13T18:56:32.229185Z",
     "iopub.status.busy": "2022-01-13T18:56:32.228451Z",
     "iopub.status.idle": "2022-01-13T18:56:43.750491Z",
     "shell.execute_reply": "2022-01-13T18:56:43.749802Z",
     "shell.execute_reply.started": "2022-01-13T18:10:23.915832Z"
    },
    "papermill": {
     "duration": 14.190167,
     "end_time": "2022-01-13T18:56:43.750652",
     "exception": false,
     "start_time": "2022-01-13T18:56:29.560485",
     "status": "completed"
    },
    "tags": []
   },
   "outputs": [
    {
     "name": "stdout",
     "output_type": "stream",
     "text": [
      "CPU times: user 4 µs, sys: 1e+03 ns, total: 5 µs\n",
      "Wall time: 5.72 µs\n"
     ]
    }
   ],
   "source": [
    "# Run Logistic Regression on tuned hyperparameters\n",
    "clf_lr_tuned = LogisticRegression(C=1, penalty='l1',solver='saga')\n",
    "%time \n",
    "clf_lr_tuned.fit(X_train, y_train)\n",
    "y_pred_lr_tuned = clf_lr_tuned.predict(X_test)"
   ]
  },
  {
   "cell_type": "code",
   "execution_count": 51,
   "id": "10d77452",
   "metadata": {
    "execution": {
     "iopub.execute_input": "2022-01-13T18:56:49.234007Z",
     "iopub.status.busy": "2022-01-13T18:56:49.233163Z",
     "iopub.status.idle": "2022-01-13T18:56:49.240276Z",
     "shell.execute_reply": "2022-01-13T18:56:49.240857Z",
     "shell.execute_reply.started": "2022-01-13T18:10:35.312216Z"
    },
    "papermill": {
     "duration": 2.671487,
     "end_time": "2022-01-13T18:56:49.241075",
     "exception": false,
     "start_time": "2022-01-13T18:56:46.569588",
     "status": "completed"
    },
    "tags": []
   },
   "outputs": [
    {
     "data": {
      "text/plain": [
       "0.9395764886138888"
      ]
     },
     "execution_count": 51,
     "metadata": {},
     "output_type": "execute_result"
    }
   ],
   "source": [
    "# Calculate F1 Score of tuned model using weighted average method\n",
    "f1_lr_tuned = f1_score(y_test, y_pred_lr_tuned, average=\"weighted\")\n",
    "f1_lr_tuned"
   ]
  },
  {
   "cell_type": "code",
   "execution_count": 52,
   "id": "b7487734",
   "metadata": {
    "execution": {
     "iopub.execute_input": "2022-01-13T18:56:54.606800Z",
     "iopub.status.busy": "2022-01-13T18:56:54.606092Z",
     "iopub.status.idle": "2022-01-13T18:56:54.842591Z",
     "shell.execute_reply": "2022-01-13T18:56:54.843112Z",
     "shell.execute_reply.started": "2022-01-13T18:10:35.327425Z"
    },
    "papermill": {
     "duration": 2.911994,
     "end_time": "2022-01-13T18:56:54.843295",
     "exception": false,
     "start_time": "2022-01-13T18:56:51.931301",
     "status": "completed"
    },
    "tags": []
   },
   "outputs": [
    {
     "name": "stdout",
     "output_type": "stream",
     "text": [
      "\u001b[1mCLASSIFICATION REPORT for LOGISTIC REGRESSION\n",
      " \u001b[0m\n",
      "                             precision    recall  f1-score   support\n",
      "\n",
      "      Bank Account services       0.94      0.94      0.94      1364\n",
      "Credit card or prepaid card       0.94      0.96      0.95      1277\n",
      "                     Others       0.94      0.95      0.94       917\n",
      "    Theft/Dispute Reporting       0.95      0.92      0.93      1146\n",
      "              Mortgage/Loan       0.93      0.91      0.92       564\n",
      "\n",
      "                   accuracy                           0.94      5268\n",
      "                  macro avg       0.94      0.94      0.94      5268\n",
      "               weighted avg       0.94      0.94      0.94      5268\n",
      "\n"
     ]
    },
    {
     "data": {
      "image/png": "[encoded data removed]",
      "text/plain": [
       "<Figure size 500x500 with 1 Axes>"
      ]
     },
     "metadata": {},
     "output_type": "display_data"
    }
   ],
   "source": [
    "# Evaluate the tuned Logistic Regression classifier\n",
    "eval_model(y_test, y_pred_lr_tuned, model_name)"
   ]
  },
  {
   "cell_type": "code",
   "execution_count": 53,
   "id": "0ef3af69",
   "metadata": {
    "execution": {
     "iopub.execute_input": "2022-01-13T18:57:00.259342Z",
     "iopub.status.busy": "2022-01-13T18:57:00.253164Z",
     "iopub.status.idle": "2022-01-13T18:57:00.264369Z",
     "shell.execute_reply": "2022-01-13T18:57:00.264852Z",
     "shell.execute_reply.started": "2022-01-13T18:10:35.587029Z"
    },
    "papermill": {
     "duration": 2.699034,
     "end_time": "2022-01-13T18:57:00.265027",
     "exception": false,
     "start_time": "2022-01-13T18:56:57.565993",
     "status": "completed"
    },
    "tags": []
   },
   "outputs": [
    {
     "data": {
      "text/html": [
       "<div>\n",
       "<style scoped>\n",
       "    .dataframe tbody tr th:only-of-type {\n",
       "        vertical-align: middle;\n",
       "    }\n",
       "\n",
       "    .dataframe tbody tr th {\n",
       "        vertical-align: top;\n",
       "    }\n",
       "\n",
       "    .dataframe thead th {\n",
       "        text-align: right;\n",
       "    }\n",
       "</style>\n",
       "<table border=\"1\" class=\"dataframe\">\n",
       "  <thead>\n",
       "    <tr style=\"text-align: right;\">\n",
       "      <th></th>\n",
       "      <th>Model</th>\n",
       "      <th>F1 Score (untuned)</th>\n",
       "      <th>F1 Score (tuned)</th>\n",
       "    </tr>\n",
       "  </thead>\n",
       "  <tbody>\n",
       "    <tr>\n",
       "      <th>0</th>\n",
       "      <td>Logistic Regression</td>\n",
       "      <td>0.91</td>\n",
       "      <td>0.94</td>\n",
       "    </tr>\n",
       "  </tbody>\n",
       "</table>\n",
       "</div>"
      ],
      "text/plain": [
       "                 Model  F1 Score (untuned)  F1 Score (tuned)\n",
       "0  Logistic Regression                0.91              0.94"
      ]
     },
     "execution_count": 53,
     "metadata": {},
     "output_type": "execute_result"
    }
   ],
   "source": [
    "# Create a dataframe to store F1 Scores of all models we will build\n",
    "summary = pd.DataFrame([{'Model': 'Logistic Regression','F1 Score (untuned)': round(f1_lr, 2), 'F1 Score (tuned)': round(f1_lr_tuned, 2)}])\n",
    "summary"
   ]
  },
  {
   "cell_type": "markdown",
   "id": "a2c677c8",
   "metadata": {},
   "source": [
    "### <span style=\"color:navy\">Observation:</span>\n",
    "\n",
    "- Utilized Logistic Regression for classification (default hyperparameters).\n",
    "  \n",
    "- The model was finetuned using hyperparameters (`C=1`, `penalty='l1'`, `solver='saga'`) and trained again.\n",
    "\n",
    "- Predictions made using the tuned model, and F1 score is calculated is better than default model\n",
    "\n"
   ]
  },
  {
   "cell_type": "markdown",
   "id": "3053e064",
   "metadata": {
    "papermill": {
     "duration": 2.775672,
     "end_time": "2022-01-13T18:57:05.716235",
     "exception": false,
     "start_time": "2022-01-13T18:57:02.940563",
     "status": "completed"
    },
    "tags": []
   },
   "source": [
    "### Model 2: Decision Tree"
   ]
  },
  {
   "cell_type": "code",
   "execution_count": 54,
   "id": "aaf22c3a",
   "metadata": {
    "execution": {
     "iopub.execute_input": "2022-01-13T18:57:11.193760Z",
     "iopub.status.busy": "2022-01-13T18:57:11.193075Z",
     "iopub.status.idle": "2022-01-13T18:57:26.403917Z",
     "shell.execute_reply": "2022-01-13T18:57:26.404618Z",
     "shell.execute_reply.started": "2022-01-13T18:10:35.603345Z"
    },
    "papermill": {
     "duration": 17.975713,
     "end_time": "2022-01-13T18:57:26.404801",
     "exception": false,
     "start_time": "2022-01-13T18:57:08.429088",
     "status": "completed"
    },
    "tags": []
   },
   "outputs": [
    {
     "name": "stdout",
     "output_type": "stream",
     "text": [
      "CPU times: user 3 µs, sys: 1e+03 ns, total: 4 µs\n",
      "Wall time: 9.06 µs\n"
     ]
    }
   ],
   "source": [
    "from sklearn.tree import DecisionTreeClassifier\n",
    "\n",
    "# Run Decision Tree on default hyperparameters\n",
    "model_name = 'DECISION TREE'\n",
    "clf_dt = DecisionTreeClassifier()\n",
    "%time \n",
    "clf_dt.fit(X_train, y_train)\n",
    "y_pred_dt = clf_dt.predict(X_test)"
   ]
  },
  {
   "cell_type": "code",
   "execution_count": 55,
   "id": "050dd2a2",
   "metadata": {
    "execution": {
     "iopub.execute_input": "2022-01-13T18:57:31.650928Z",
     "iopub.status.busy": "2022-01-13T18:57:31.650253Z",
     "iopub.status.idle": "2022-01-13T18:57:31.657236Z",
     "shell.execute_reply": "2022-01-13T18:57:31.657768Z",
     "shell.execute_reply.started": "2022-01-13T18:10:50.401533Z"
    },
    "papermill": {
     "duration": 2.63096,
     "end_time": "2022-01-13T18:57:31.657936",
     "exception": false,
     "start_time": "2022-01-13T18:57:29.026976",
     "status": "completed"
    },
    "tags": []
   },
   "outputs": [
    {
     "data": {
      "text/plain": [
       "0.7770870509207629"
      ]
     },
     "execution_count": 55,
     "metadata": {},
     "output_type": "execute_result"
    }
   ],
   "source": [
    "# Calculate F1 Score using weighted average method\n",
    "f1_dt = f1_score(y_test, y_pred_dt, average=\"weighted\")\n",
    "f1_dt"
   ]
  },
  {
   "cell_type": "code",
   "execution_count": 56,
   "id": "363dd886",
   "metadata": {
    "execution": {
     "iopub.execute_input": "2022-01-13T18:57:37.066960Z",
     "iopub.status.busy": "2022-01-13T18:57:37.062093Z",
     "iopub.status.idle": "2022-01-13T18:57:44.550336Z",
     "shell.execute_reply": "2022-01-13T18:57:44.549730Z",
     "shell.execute_reply.started": "2022-01-13T18:10:50.415366Z"
    },
    "papermill": {
     "duration": 10.250168,
     "end_time": "2022-01-13T18:57:44.550480",
     "exception": false,
     "start_time": "2022-01-13T18:57:34.300312",
     "status": "completed"
    },
    "tags": []
   },
   "outputs": [
    {
     "name": "stdout",
     "output_type": "stream",
     "text": [
      "CPU times: user 4 µs, sys: 1e+03 ns, total: 5 µs\n",
      "Wall time: 10.3 µs\n"
     ]
    }
   ],
   "source": [
    "# Run Decision Tree on tuned hyperparameters\n",
    "clf_dt_tuned = DecisionTreeClassifier(criterion='gini', max_depth=30, min_samples_leaf=15, max_features=None)\n",
    "%time \n",
    "clf_dt_tuned.fit(X_train, y_train)\n",
    "y_pred_dt_tuned = clf_dt_tuned.predict(X_test)"
   ]
  },
  {
   "cell_type": "code",
   "execution_count": 57,
   "id": "68638753",
   "metadata": {
    "execution": {
     "iopub.execute_input": "2022-01-13T18:57:50.031100Z",
     "iopub.status.busy": "2022-01-13T18:57:50.029981Z",
     "iopub.status.idle": "2022-01-13T18:57:50.037353Z",
     "shell.execute_reply": "2022-01-13T18:57:50.037921Z",
     "shell.execute_reply.started": "2022-01-13T18:10:57.838493Z"
    },
    "papermill": {
     "duration": 2.757368,
     "end_time": "2022-01-13T18:57:50.038113",
     "exception": false,
     "start_time": "2022-01-13T18:57:47.280745",
     "status": "completed"
    },
    "tags": []
   },
   "outputs": [
    {
     "data": {
      "text/plain": [
       "0.7979463101254979"
      ]
     },
     "execution_count": 57,
     "metadata": {},
     "output_type": "execute_result"
    }
   ],
   "source": [
    "# Calculate F1 Score of tuned model using weighted average method\n",
    "f1_dt_tuned = f1_score(y_test, y_pred_dt_tuned, average=\"weighted\")\n",
    "f1_dt_tuned"
   ]
  },
  {
   "cell_type": "code",
   "execution_count": 58,
   "id": "642c526a",
   "metadata": {
    "execution": {
     "iopub.execute_input": "2022-01-13T18:57:55.399829Z",
     "iopub.status.busy": "2022-01-13T18:57:55.399084Z",
     "iopub.status.idle": "2022-01-13T18:57:55.635795Z",
     "shell.execute_reply": "2022-01-13T18:57:55.635281Z",
     "shell.execute_reply.started": "2022-01-13T18:10:57.850440Z"
    },
    "papermill": {
     "duration": 2.875229,
     "end_time": "2022-01-13T18:57:55.635955",
     "exception": false,
     "start_time": "2022-01-13T18:57:52.760726",
     "status": "completed"
    },
    "tags": []
   },
   "outputs": [
    {
     "name": "stdout",
     "output_type": "stream",
     "text": [
      "\u001b[1mCLASSIFICATION REPORT for DECISION TREE\n",
      " \u001b[0m\n",
      "                             precision    recall  f1-score   support\n",
      "\n",
      "      Bank Account services       0.78      0.82      0.80      1364\n",
      "Credit card or prepaid card       0.84      0.83      0.83      1277\n",
      "                     Others       0.80      0.80      0.80       917\n",
      "    Theft/Dispute Reporting       0.77      0.76      0.76      1146\n",
      "              Mortgage/Loan       0.81      0.75      0.78       564\n",
      "\n",
      "                   accuracy                           0.80      5268\n",
      "                  macro avg       0.80      0.79      0.80      5268\n",
      "               weighted avg       0.80      0.80      0.80      5268\n",
      "\n"
     ]
    },
    {
     "data": {
      "image/png": "[encoded data removed]",
      "text/plain": [
       "<Figure size 500x500 with 1 Axes>"
      ]
     },
     "metadata": {},
     "output_type": "display_data"
    }
   ],
   "source": [
    "# Evaluate the tuned Decision Tree classifier\n",
    "eval_model(y_test, y_pred_dt_tuned, model_name)"
   ]
  },
  {
   "cell_type": "code",
   "execution_count": 59,
   "id": "6540ec8c",
   "metadata": {
    "execution": {
     "iopub.execute_input": "2022-01-13T18:58:01.019581Z",
     "iopub.status.busy": "2022-01-13T18:58:01.018558Z",
     "iopub.status.idle": "2022-01-13T18:58:01.029220Z",
     "shell.execute_reply": "2022-01-13T18:58:01.028645Z",
     "shell.execute_reply.started": "2022-01-13T18:10:58.098684Z"
    },
    "papermill": {
     "duration": 2.692965,
     "end_time": "2022-01-13T18:58:01.029378",
     "exception": false,
     "start_time": "2022-01-13T18:57:58.336413",
     "status": "completed"
    },
    "tags": []
   },
   "outputs": [
    {
     "data": {
      "text/html": [
       "<div>\n",
       "<style scoped>\n",
       "    .dataframe tbody tr th:only-of-type {\n",
       "        vertical-align: middle;\n",
       "    }\n",
       "\n",
       "    .dataframe tbody tr th {\n",
       "        vertical-align: top;\n",
       "    }\n",
       "\n",
       "    .dataframe thead th {\n",
       "        text-align: right;\n",
       "    }\n",
       "</style>\n",
       "<table border=\"1\" class=\"dataframe\">\n",
       "  <thead>\n",
       "    <tr style=\"text-align: right;\">\n",
       "      <th></th>\n",
       "      <th>Model</th>\n",
       "      <th>F1 Score (untuned)</th>\n",
       "      <th>F1 Score (tuned)</th>\n",
       "    </tr>\n",
       "  </thead>\n",
       "  <tbody>\n",
       "    <tr>\n",
       "      <th>0</th>\n",
       "      <td>Logistic Regression</td>\n",
       "      <td>0.91</td>\n",
       "      <td>0.94</td>\n",
       "    </tr>\n",
       "    <tr>\n",
       "      <th>1</th>\n",
       "      <td>Decision Tree</td>\n",
       "      <td>0.78</td>\n",
       "      <td>0.80</td>\n",
       "    </tr>\n",
       "  </tbody>\n",
       "</table>\n",
       "</div>"
      ],
      "text/plain": [
       "                 Model  F1 Score (untuned)  F1 Score (tuned)\n",
       "0  Logistic Regression                0.91              0.94\n",
       "1        Decision Tree                0.78              0.80"
      ]
     },
     "execution_count": 59,
     "metadata": {},
     "output_type": "execute_result"
    }
   ],
   "source": [
    "# Update the summary table\n",
    "summary.loc[len(summary.index)] = ['Decision Tree', round(f1_dt, 2), round(f1_dt_tuned, 2)]\n",
    "summary"
   ]
  },
  {
   "cell_type": "markdown",
   "id": "dd3a9bda",
   "metadata": {},
   "source": [
    "### <span style=\"color:navy\">Observation:</span>\n",
    "\n",
    "Observations:\n",
    "\n",
    "- Utilized Decision Tree for classification (default hyperparameters)\n",
    "\n",
    "- The model was finetuned using hyperparameters  (`criterion='gini'`, `max_depth=30`, `min_samples_leaf=15`, `max_features=None`) and trained again.\n",
    "\n",
    "- Predictions made using the tuned model, and F1 score is calculated is better than default model"
   ]
  },
  {
   "cell_type": "markdown",
   "id": "39fabc74",
   "metadata": {
    "papermill": {
     "duration": 2.658042,
     "end_time": "2022-01-13T18:58:06.333338",
     "exception": false,
     "start_time": "2022-01-13T18:58:03.675296",
     "status": "completed"
    },
    "tags": []
   },
   "source": [
    "### Model 3: Random Forest"
   ]
  },
  {
   "cell_type": "code",
   "execution_count": 60,
   "id": "ce2e76c5",
   "metadata": {
    "execution": {
     "iopub.execute_input": "2022-01-13T18:58:11.726794Z",
     "iopub.status.busy": "2022-01-13T18:58:11.725807Z",
     "iopub.status.idle": "2022-01-13T18:58:56.098011Z",
     "shell.execute_reply": "2022-01-13T18:58:56.097410Z",
     "shell.execute_reply.started": "2022-01-13T18:10:58.118553Z"
    },
    "papermill": {
     "duration": 47.037831,
     "end_time": "2022-01-13T18:58:56.098215",
     "exception": false,
     "start_time": "2022-01-13T18:58:09.060384",
     "status": "completed"
    },
    "tags": []
   },
   "outputs": [
    {
     "name": "stdout",
     "output_type": "stream",
     "text": [
      "CPU times: user 3 µs, sys: 2 µs, total: 5 µs\n",
      "Wall time: 9.06 µs\n"
     ]
    }
   ],
   "source": [
    "from sklearn.ensemble import RandomForestClassifier\n",
    "\n",
    "# Run the Random Forest model on default hyperparameters\n",
    "model_name = 'RANDOM FOREST'\n",
    "clf_rf = RandomForestClassifier()\n",
    "%time \n",
    "clf_rf.fit(X_train, y_train)\n",
    "y_pred_rf = clf_rf.predict(X_test)"
   ]
  },
  {
   "cell_type": "code",
   "execution_count": 61,
   "id": "fc0bbcfb",
   "metadata": {
    "execution": {
     "iopub.execute_input": "2022-01-13T18:59:01.474154Z",
     "iopub.status.busy": "2022-01-13T18:59:01.473179Z",
     "iopub.status.idle": "2022-01-13T18:59:01.481522Z",
     "shell.execute_reply": "2022-01-13T18:59:01.482281Z",
     "shell.execute_reply.started": "2022-01-13T18:11:39.734671Z"
    },
    "papermill": {
     "duration": 2.735247,
     "end_time": "2022-01-13T18:59:01.482485",
     "exception": false,
     "start_time": "2022-01-13T18:58:58.747238",
     "status": "completed"
    },
    "tags": []
   },
   "outputs": [
    {
     "data": {
      "text/plain": [
       "0.8050829929949339"
      ]
     },
     "execution_count": 61,
     "metadata": {},
     "output_type": "execute_result"
    }
   ],
   "source": [
    "# Calculate F1 Score using weighted average method\n",
    "f1_rf = f1_score(y_test, y_pred_rf, average=\"weighted\")\n",
    "f1_rf"
   ]
  },
  {
   "cell_type": "code",
   "execution_count": 62,
   "id": "2398d970",
   "metadata": {
    "execution": {
     "iopub.execute_input": "2022-01-13T18:59:07.017941Z",
     "iopub.status.busy": "2022-01-13T18:59:07.017252Z",
     "iopub.status.idle": "2022-01-13T19:11:33.360374Z",
     "shell.execute_reply": "2022-01-13T19:11:33.361106Z",
     "shell.execute_reply.started": "2022-01-13T18:11:39.746125Z"
    },
    "papermill": {
     "duration": 749.187026,
     "end_time": "2022-01-13T19:11:33.361318",
     "exception": false,
     "start_time": "2022-01-13T18:59:04.174292",
     "status": "completed"
    },
    "tags": []
   },
   "outputs": [
    {
     "name": "stdout",
     "output_type": "stream",
     "text": [
      "CPU times: user 7 µs, sys: 2 µs, total: 9 µs\n",
      "Wall time: 15 µs\n"
     ]
    }
   ],
   "source": [
    "# Run Random Forest on tuned hyperparameters\n",
    "clf_rf_tuned = RandomForestClassifier(n_estimators=100, min_samples_split=5, min_samples_leaf=5, max_features=None, max_depth=30, criterion='gini')\n",
    "%time \n",
    "clf_rf_tuned.fit(X_train, y_train)\n",
    "y_pred_rf_tuned = clf_rf_tuned.predict(X_test)"
   ]
  },
  {
   "cell_type": "code",
   "execution_count": 63,
   "id": "5aeaba51",
   "metadata": {
    "execution": {
     "iopub.execute_input": "2022-01-13T19:11:38.771428Z",
     "iopub.status.busy": "2022-01-13T19:11:38.770716Z",
     "iopub.status.idle": "2022-01-13T19:11:38.778224Z",
     "shell.execute_reply": "2022-01-13T19:11:38.778742Z",
     "shell.execute_reply.started": "2022-01-13T18:23:38.907830Z"
    },
    "papermill": {
     "duration": 2.699996,
     "end_time": "2022-01-13T19:11:38.778912",
     "exception": false,
     "start_time": "2022-01-13T19:11:36.078916",
     "status": "completed"
    },
    "tags": []
   },
   "outputs": [
    {
     "data": {
      "text/plain": [
       "0.8484080365091136"
      ]
     },
     "execution_count": 63,
     "metadata": {},
     "output_type": "execute_result"
    }
   ],
   "source": [
    "# Calculate F1 Score of tuned model using weighted average method\n",
    "f1_rf_tuned = f1_score(y_test, y_pred_rf_tuned, average=\"weighted\")\n",
    "f1_rf_tuned"
   ]
  },
  {
   "cell_type": "code",
   "execution_count": 64,
   "id": "88ea8f93",
   "metadata": {
    "execution": {
     "iopub.execute_input": "2022-01-13T19:11:44.478759Z",
     "iopub.status.busy": "2022-01-13T19:11:44.477987Z",
     "iopub.status.idle": "2022-01-13T19:11:44.728732Z",
     "shell.execute_reply": "2022-01-13T19:11:44.728134Z",
     "shell.execute_reply.started": "2022-01-13T18:23:38.918202Z"
    },
    "papermill": {
     "duration": 3.128231,
     "end_time": "2022-01-13T19:11:44.728934",
     "exception": false,
     "start_time": "2022-01-13T19:11:41.600703",
     "status": "completed"
    },
    "tags": []
   },
   "outputs": [
    {
     "name": "stdout",
     "output_type": "stream",
     "text": [
      "\u001b[1mCLASSIFICATION REPORT for RANDOM FOREST\n",
      " \u001b[0m\n",
      "                             precision    recall  f1-score   support\n",
      "\n",
      "      Bank Account services       0.86      0.85      0.86      1364\n",
      "Credit card or prepaid card       0.87      0.87      0.87      1277\n",
      "                     Others       0.85      0.87      0.86       917\n",
      "    Theft/Dispute Reporting       0.82      0.83      0.83      1146\n",
      "              Mortgage/Loan       0.82      0.79      0.81       564\n",
      "\n",
      "                   accuracy                           0.85      5268\n",
      "                  macro avg       0.85      0.84      0.84      5268\n",
      "               weighted avg       0.85      0.85      0.85      5268\n",
      "\n"
     ]
    },
    {
     "data": {
      "image/png": "[encoded data removed]",
      "text/plain": [
       "<Figure size 500x500 with 1 Axes>"
      ]
     },
     "metadata": {},
     "output_type": "display_data"
    }
   ],
   "source": [
    "# Evaluate the tuned Random Forest classifier\n",
    "eval_model(y_test, y_pred_rf_tuned, model_name)"
   ]
  },
  {
   "cell_type": "code",
   "execution_count": 65,
   "id": "0dfbe410",
   "metadata": {
    "execution": {
     "iopub.execute_input": "2022-01-13T19:11:50.211399Z",
     "iopub.status.busy": "2022-01-13T19:11:50.210718Z",
     "iopub.status.idle": "2022-01-13T19:11:50.225581Z",
     "shell.execute_reply": "2022-01-13T19:11:50.226096Z",
     "shell.execute_reply.started": "2022-01-13T18:23:39.171685Z"
    },
    "papermill": {
     "duration": 2.752386,
     "end_time": "2022-01-13T19:11:50.226268",
     "exception": false,
     "start_time": "2022-01-13T19:11:47.473882",
     "status": "completed"
    },
    "tags": []
   },
   "outputs": [
    {
     "data": {
      "text/html": [
       "<div>\n",
       "<style scoped>\n",
       "    .dataframe tbody tr th:only-of-type {\n",
       "        vertical-align: middle;\n",
       "    }\n",
       "\n",
       "    .dataframe tbody tr th {\n",
       "        vertical-align: top;\n",
       "    }\n",
       "\n",
       "    .dataframe thead th {\n",
       "        text-align: right;\n",
       "    }\n",
       "</style>\n",
       "<table border=\"1\" class=\"dataframe\">\n",
       "  <thead>\n",
       "    <tr style=\"text-align: right;\">\n",
       "      <th></th>\n",
       "      <th>Model</th>\n",
       "      <th>F1 Score (untuned)</th>\n",
       "      <th>F1 Score (tuned)</th>\n",
       "    </tr>\n",
       "  </thead>\n",
       "  <tbody>\n",
       "    <tr>\n",
       "      <th>0</th>\n",
       "      <td>Logistic Regression</td>\n",
       "      <td>0.91</td>\n",
       "      <td>0.94</td>\n",
       "    </tr>\n",
       "    <tr>\n",
       "      <th>1</th>\n",
       "      <td>Decision Tree</td>\n",
       "      <td>0.78</td>\n",
       "      <td>0.80</td>\n",
       "    </tr>\n",
       "    <tr>\n",
       "      <th>2</th>\n",
       "      <td>Random Forest</td>\n",
       "      <td>0.81</td>\n",
       "      <td>0.85</td>\n",
       "    </tr>\n",
       "  </tbody>\n",
       "</table>\n",
       "</div>"
      ],
      "text/plain": [
       "                 Model  F1 Score (untuned)  F1 Score (tuned)\n",
       "0  Logistic Regression                0.91              0.94\n",
       "1        Decision Tree                0.78              0.80\n",
       "2        Random Forest                0.81              0.85"
      ]
     },
     "execution_count": 65,
     "metadata": {},
     "output_type": "execute_result"
    }
   ],
   "source": [
    "# Update the summary table\n",
    "summary.loc[len(summary.index)] = ['Random Forest', round(f1_rf, 2), round(f1_rf_tuned, 2)]\n",
    "summary"
   ]
  },
  {
   "cell_type": "markdown",
   "id": "1bd47ab3",
   "metadata": {},
   "source": [
    "### <span style=\"color:navy\">Observation:</span>\n",
    "\n",
    "- Utilized Random Forest for classification (default hyperparameters)\n",
    "\n",
    "- The model was finetuned using hyperparameters  (n_estimators=100, min_samples_split=5, min_samples_leaf=5, max_features=None, max_depth=30, criterion='gini') and trained again.\n",
    "\n",
    "- Predictions made using the tuned model, and F1 score is calculated is better than default model"
   ]
  },
  {
   "cell_type": "markdown",
   "id": "e74a06db",
   "metadata": {
    "papermill": {
     "duration": 2.669304,
     "end_time": "2022-01-13T19:11:55.565589",
     "exception": false,
     "start_time": "2022-01-13T19:11:52.896285",
     "status": "completed"
    },
    "tags": []
   },
   "source": [
    "#### From the above summary table, we observe that the `tuned Logistic Regression` performs the best among all that we tried."
   ]
  },
  {
   "cell_type": "code",
   "execution_count": 66,
   "id": "bdede1a2",
   "metadata": {
    "execution": {
     "iopub.execute_input": "2022-01-13T19:12:00.948846Z",
     "iopub.status.busy": "2022-01-13T19:12:00.948170Z",
     "iopub.status.idle": "2022-01-13T19:12:00.953248Z",
     "shell.execute_reply": "2022-01-13T19:12:00.953804Z",
     "shell.execute_reply.started": "2022-01-13T18:28:06.547759Z"
    },
    "papermill": {
     "duration": 2.667122,
     "end_time": "2022-01-13T19:12:00.953973",
     "exception": false,
     "start_time": "2022-01-13T19:11:58.286851",
     "status": "completed"
    },
    "tags": []
   },
   "outputs": [],
   "source": [
    "# Function to predict a topic for given text\n",
    "def predict_topic(text):\n",
    "    \n",
    "    target_names = [\"Bank Account services\", \"Credit card or prepaid card\", \"Others\", \"Theft/Dispute Reporting\", \"Mortgage/Loan\"]\n",
    "\n",
    "    X_new_counts = count_vect.transform(text)\n",
    "    X_new_tfidf = tfidf_transformer.transform(X_new_counts)\n",
    "    predicted = clf_lr_tuned.predict(X_new_tfidf)\n",
    "\n",
    "    return target_names[predicted[0]]"
   ]
  },
  {
   "cell_type": "code",
   "execution_count": 67,
   "id": "06284d27",
   "metadata": {
    "execution": {
     "iopub.execute_input": "2022-01-13T19:12:06.443834Z",
     "iopub.status.busy": "2022-01-13T19:12:06.442982Z",
     "iopub.status.idle": "2022-01-13T19:12:06.453634Z",
     "shell.execute_reply": "2022-01-13T19:12:06.454303Z",
     "shell.execute_reply.started": "2022-01-13T18:28:10.702832Z"
    },
    "papermill": {
     "duration": 2.770181,
     "end_time": "2022-01-13T19:12:06.454490",
     "exception": false,
     "start_time": "2022-01-13T19:12:03.684309",
     "status": "completed"
    },
    "tags": []
   },
   "outputs": [
    {
     "data": {
      "text/html": [
       "<div>\n",
       "<style scoped>\n",
       "    .dataframe tbody tr th:only-of-type {\n",
       "        vertical-align: middle;\n",
       "    }\n",
       "\n",
       "    .dataframe tbody tr th {\n",
       "        vertical-align: top;\n",
       "    }\n",
       "\n",
       "    .dataframe thead th {\n",
       "        text-align: right;\n",
       "    }\n",
       "</style>\n",
       "<table border=\"1\" class=\"dataframe\">\n",
       "  <thead>\n",
       "    <tr style=\"text-align: right;\">\n",
       "      <th></th>\n",
       "      <th>complaints</th>\n",
       "    </tr>\n",
       "  </thead>\n",
       "  <tbody>\n",
       "    <tr>\n",
       "      <th>0</th>\n",
       "      <td>I can not get from chase who services my mortgage, who owns it and who has original loan docs</td>\n",
       "    </tr>\n",
       "    <tr>\n",
       "      <th>1</th>\n",
       "      <td>The bill amount of my credit card was debited twice. Please look into the matter and resolve at the earliest.</td>\n",
       "    </tr>\n",
       "    <tr>\n",
       "      <th>2</th>\n",
       "      <td>I want to open a salary account at your downtown branch. Please provide me the procedure.</td>\n",
       "    </tr>\n",
       "    <tr>\n",
       "      <th>3</th>\n",
       "      <td>Yesterday, I received a fraudulent email regarding renewal of my services.</td>\n",
       "    </tr>\n",
       "    <tr>\n",
       "      <th>4</th>\n",
       "      <td>What is the procedure to know my CIBIL score?</td>\n",
       "    </tr>\n",
       "    <tr>\n",
       "      <th>5</th>\n",
       "      <td>I need to know the number of bank branches and their locations in the city of Dubai</td>\n",
       "    </tr>\n",
       "  </tbody>\n",
       "</table>\n",
       "</div>"
      ],
      "text/plain": [
       "                                                                                                      complaints\n",
       "0                  I can not get from chase who services my mortgage, who owns it and who has original loan docs\n",
       "1  The bill amount of my credit card was debited twice. Please look into the matter and resolve at the earliest.\n",
       "2                      I want to open a salary account at your downtown branch. Please provide me the procedure.\n",
       "3                                     Yesterday, I received a fraudulent email regarding renewal of my services.\n",
       "4                                                                  What is the procedure to know my CIBIL score?\n",
       "5                            I need to know the number of bank branches and their locations in the city of Dubai"
      ]
     },
     "execution_count": 67,
     "metadata": {},
     "output_type": "execute_result"
    }
   ],
   "source": [
    "# Create a dataframe of some sample customer complaints\n",
    "\n",
    "df_new = pd.DataFrame({'complaints': [\"I can not get from chase who services my mortgage, who owns it and who has original loan docs\", \n",
    "                                  \"The bill amount of my credit card was debited twice. Please look into the matter and resolve at the earliest.\",\n",
    "                                  \"I want to open a salary account at your downtown branch. Please provide me the procedure.\",\n",
    "                                  \"Yesterday, I received a fraudulent email regarding renewal of my services.\",\n",
    "                                  \"What is the procedure to know my CIBIL score?\",\n",
    "                                  \"I need to know the number of bank branches and their locations in the city of Dubai\"]})\n",
    "df_new"
   ]
  },
  {
   "cell_type": "code",
   "execution_count": 68,
   "id": "e2eb13a1",
   "metadata": {
    "execution": {
     "iopub.execute_input": "2022-01-13T19:12:12.105188Z",
     "iopub.status.busy": "2022-01-13T19:12:12.103780Z",
     "iopub.status.idle": "2022-01-13T19:12:12.125317Z",
     "shell.execute_reply": "2022-01-13T19:12:12.125843Z",
     "shell.execute_reply.started": "2022-01-13T18:28:14.351155Z"
    },
    "papermill": {
     "duration": 2.775735,
     "end_time": "2022-01-13T19:12:12.126020",
     "exception": false,
     "start_time": "2022-01-13T19:12:09.350285",
     "status": "completed"
    },
    "tags": []
   },
   "outputs": [
    {
     "data": {
      "text/html": [
       "<div>\n",
       "<style scoped>\n",
       "    .dataframe tbody tr th:only-of-type {\n",
       "        vertical-align: middle;\n",
       "    }\n",
       "\n",
       "    .dataframe tbody tr th {\n",
       "        vertical-align: top;\n",
       "    }\n",
       "\n",
       "    .dataframe thead th {\n",
       "        text-align: right;\n",
       "    }\n",
       "</style>\n",
       "<table border=\"1\" class=\"dataframe\">\n",
       "  <thead>\n",
       "    <tr style=\"text-align: right;\">\n",
       "      <th></th>\n",
       "      <th>complaints</th>\n",
       "      <th>predicted topic</th>\n",
       "    </tr>\n",
       "  </thead>\n",
       "  <tbody>\n",
       "    <tr>\n",
       "      <th>0</th>\n",
       "      <td>I can not get from chase who services my mortgage, who owns it and who has original loan docs</td>\n",
       "      <td>Others</td>\n",
       "    </tr>\n",
       "    <tr>\n",
       "      <th>1</th>\n",
       "      <td>The bill amount of my credit card was debited twice. Please look into the matter and resolve at the earliest.</td>\n",
       "      <td>Credit card or prepaid card</td>\n",
       "    </tr>\n",
       "    <tr>\n",
       "      <th>2</th>\n",
       "      <td>I want to open a salary account at your downtown branch. Please provide me the procedure.</td>\n",
       "      <td>Bank Account services</td>\n",
       "    </tr>\n",
       "    <tr>\n",
       "      <th>3</th>\n",
       "      <td>Yesterday, I received a fraudulent email regarding renewal of my services.</td>\n",
       "      <td>Theft/Dispute Reporting</td>\n",
       "    </tr>\n",
       "    <tr>\n",
       "      <th>4</th>\n",
       "      <td>What is the procedure to know my CIBIL score?</td>\n",
       "      <td>Others</td>\n",
       "    </tr>\n",
       "    <tr>\n",
       "      <th>5</th>\n",
       "      <td>I need to know the number of bank branches and their locations in the city of Dubai</td>\n",
       "      <td>Bank Account services</td>\n",
       "    </tr>\n",
       "  </tbody>\n",
       "</table>\n",
       "</div>"
      ],
      "text/plain": [
       "                                                                                                      complaints  \\\n",
       "0                  I can not get from chase who services my mortgage, who owns it and who has original loan docs   \n",
       "1  The bill amount of my credit card was debited twice. Please look into the matter and resolve at the earliest.   \n",
       "2                      I want to open a salary account at your downtown branch. Please provide me the procedure.   \n",
       "3                                     Yesterday, I received a fraudulent email regarding renewal of my services.   \n",
       "4                                                                  What is the procedure to know my CIBIL score?   \n",
       "5                            I need to know the number of bank branches and their locations in the city of Dubai   \n",
       "\n",
       "               predicted topic  \n",
       "0                       Others  \n",
       "1  Credit card or prepaid card  \n",
       "2        Bank Account services  \n",
       "3      Theft/Dispute Reporting  \n",
       "4                       Others  \n",
       "5        Bank Account services  "
      ]
     },
     "execution_count": 68,
     "metadata": {},
     "output_type": "execute_result"
    }
   ],
   "source": [
    "# Create a new column of predicted topics of each complaint, predicted using the tuned Logistic Regression model\n",
    "df_new['predicted topic'] = df_new['complaints'].apply(lambda x: predict_topic([x]))\n",
    "df_new"
   ]
  },
  {
   "cell_type": "markdown",
   "id": "24e1577f",
   "metadata": {},
   "source": [
    "### <span style=\"color:navy\">Observation:</span>\n",
    "\n",
    "- Finally, `df_new` displayed the newly added 'predicted topic' and its as expected.\n"
   ]
  },
  {
   "cell_type": "code",
   "execution_count": null,
   "id": "5c94624f",
   "metadata": {},
   "outputs": [],
   "source": []
  }
 ],
 "metadata": {
  "kernelspec": {
   "display_name": "Python 3 (ipykernel)",
   "language": "python",
   "name": "python3"
  },
  "language_info": {
   "codemirror_mode": {
    "name": "ipython",
    "version": 3
   },
   "file_extension": ".py",
   "mimetype": "text/x-python",
   "name": "python",
   "nbconvert_exporter": "python",
   "pygments_lexer": "ipython3",
   "version": "3.11.5"
  },
  "papermill": {
   "default_parameters": {},
   "duration": 2605.447283,
   "end_time": "2022-01-13T19:12:17.572272",
   "environment_variables": {},
   "exception": null,
   "input_path": "__notebook__.ipynb",
   "output_path": "__notebook__.ipynb",
   "parameters": {},
   "start_time": "2022-01-13T18:28:52.124989",
   "version": "2.3.3"
  }
 },
 "nbformat": 4,
 "nbformat_minor": 5
}
